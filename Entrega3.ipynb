{
  "nbformat": 4,
  "nbformat_minor": 0,
  "metadata": {
    "colab": {
      "name": "Entrega3+Cortez, Di Giacomo, Lehmann",
      "provenance": [],
      "toc_visible": true
    },
    "kernelspec": {
      "name": "python3",
      "display_name": "Python 3"
    },
    "language_info": {
      "name": "python"
    }
  },
  "cells": [
    {
      "cell_type": "markdown",
      "source": [
        "# **TERCER ENTREGA DEL PROYECTO FINAL**\n",
        "\n",
        "\n",
        "---\n"
      ],
      "metadata": {
        "id": "zAduWXgffX4k"
      }
    },
    {
      "cell_type": "markdown",
      "source": [
        "\n",
        "\n",
        "\n",
        "> ### **Presentación de la empresa, organización o problema específico.**\n",
        "\n",
        "\n",
        "Si bien el dataset no se trata de una empresa específica, el problema detallado no es ajeno a ninguna companía.\n",
        "\n",
        "\n",
        "El problema específico del que hablamos es la **Deserción Laboral** (en inglés: Employee Attrition).\n",
        "\n",
        "\n",
        "La deserción laboral se refiere a cuando los empleados abandonan voluntariamente la empresa en la cual trabajan, dejando un puesto desocupado. Esta deserción provoca que una empresa experimente una disminución de su fuerza laboral y por ende, que el logro de sus objetivos organizacionales pueda verse afectado.\n",
        "\n",
        "\n",
        "Evidentemente mientras más altos sean los porcentajes de deserción laboral mayores serán los problemas que se originarán en una organización. Elevadas tasas de deserción laboral pueden poner en entredicho la reputación de la empresa y hacerse menos laboral a los ojos de futuros candidatos. Pero también, los clientes pueden cuestionarse con respecto a la seriedad de la empresa debido al constante cambio de personal y la calidad del servicio ofrecido a los clientes puede verse comprometida debido a la misma razón.\n",
        "\n",
        "\n",
        "En conclusión, la deserción laboral puede ser más perjudicial de lo que imaginaba y con elevadas repercusiones económicas.\n",
        "\n",
        "\n",
        "> ### **Preguntas y objetivos de la investigación.**\n",
        "\n",
        "El objetivo es conocer las principales causas de deserción e implementar estrategias de gestión adecuadas al respecto.\n",
        "\n",
        "> ### **Conformación del equipo de trabajo.**\n",
        "\n",
        "El equipo de trabajo está conformado por Facundo Cortez, Claudio Gabriel Di Giacomo, Erica Lehmann.\n",
        "\n",
        "> ### **Indicación de la fuente del dataset y los criterios de selección (Data Acquisition).**\n",
        "\n",
        "El dataset fue obtenido a través de Kaggle, una comunidad online de data scientists y practicantes de machine learning. \n",
        "\n",
        "Luego de buscar varios Dataset sobre la temática, decidimos trabajar con “Employee Attrition” de Prashant Patel.\n",
        "\n",
        "Analizando, y comparando el dataset con otros, vemos que la cantidad de datos y los detalles de las columnas servían para hacer un exhaustivo análisis, ya que tenemos datos como viajes laborales, distancia entre el hogar y el empleo, participación laboral, aumento salarial, antigüedad laboral, etc.\n",
        "\n",
        "El link para encontrar el dataset es: https://www.kaggle.com/patelprashant/employee-attrition\n",
        "\n",
        "> ### **Análisis de componentes principales.**\n",
        "\n",
        "El dataset está compuesto por 1470 filas y 35 columnas. A continuación el detalle adicional de ciertas columnas para mayor comprensión (si bien el dataset originalmente está en inglés, posteriormente en la etapa de Data Wrangling se eliminarán las columnas que se consideren innecesarias para análisis y se traducirán los datos al español para un análisis más comprensivo):\n",
        "\n",
        "1.   **Attrition:** Deserción Laboral. Funcionará como nuestra variable Target.\n",
        "2.   **EmployeeNumber:** Es el número único que se ha asignado a cada empleado.\n",
        "3.   **Hourly Rate:** Salario por hora trabajada.\n",
        "4.   **JobLevel:** Los niveles de trabajo, también conocidos como grados y clasificaciones de trabajo, establecen el nivel de responsabilidad y las expectativas de los roles en su organización. Pueden definirse mejor por impacto, antigüedad, conocimiento, habilidades o título de trabajo, y a menudo se asocian con una banda salarial.\n",
        "5.   **StockOptionLevel:** Las opciones sobre acciones para empleados, también conocidas como ESO (Employee stock options) son otorgadas por un empleador a ciertos empleados. Por lo general, se otorgan a quienes ocupan puestos gerenciales o de nivel oficial. Las opciones sobre acciones otorgan al empleado el derecho a comprar una cierta cantidad de acciones a un precio específico, durante un período de tiempo acordado.\n",
        "6.   **Education:** 1-Menor a universitario, 2-Universitario sin terminar, 3-Graduado Universitario, 4-Master, 5-Doctorado\n",
        "7.   **EnvironmentSatisfaction:** 1-Bajo, 2-Medio, 3-Alto, 4-Muy Alto\n",
        "8.   **JobInvolvement:** 1-Bajo, 2-Medio, 3-Alto, 4-Muy Alto\n",
        "9.   **JobSatisfaction:** 1-Bajo, 2-Medio, 3-Alto, 4-Muy Alto\n",
        "10.  **PerformanceRating:** 1-Bajo, 2-Bueno, 3-Excelente, 4-Sobresaliente\n",
        "11.  **RelationshipSatisfaction:** 1-Bajo, 2-Medio, 3-Alto, 4-Muy Alto\n",
        "12.  **WorkLifeBalance:** 1-Malo, 2-Bueno, 3-Muy Bueno, 4-Excelente\n",
        "---\n",
        "\n",
        "\n"
      ],
      "metadata": {
        "id": "oOIU8B0soNk3"
      }
    },
    {
      "cell_type": "code",
      "source": [
        "#importa las librerias\n",
        "import pandas as pd\n",
        "import numpy as np\n",
        "import matplotlib as mpl \n",
        "import matplotlib.pyplot as plt\n",
        "import seaborn as sns\n",
        "import pandas_profiling"
      ],
      "metadata": {
        "id": "qkh9BGs-rLWq"
      },
      "execution_count": 1,
      "outputs": []
    },
    {
      "cell_type": "code",
      "source": [
        "#parametros de visualizacion\n",
        "mpl.rcParams['axes.titlesize'] = 14\n",
        "mpl.rcParams['axes.titleweight'] = 'bold'\n",
        "mpl.rcParams['axes.labelcolor'] = 'grey'"
      ],
      "metadata": {
        "id": "Hq_qdtp9fyds"
      },
      "execution_count": 2,
      "outputs": []
    },
    {
      "cell_type": "code",
      "source": [
        "from google.colab import drive\n",
        "drive.mount('/content/drive')"
      ],
      "metadata": {
        "id": "aPQaWQ1v0aqs",
        "colab": {
          "base_uri": "https://localhost:8080/"
        },
        "outputId": "cde0e274-80a1-42a6-cf0f-83a5b5133377"
      },
      "execution_count": 3,
      "outputs": [
        {
          "output_type": "stream",
          "name": "stdout",
          "text": [
            "Drive already mounted at /content/drive; to attempt to forcibly remount, call drive.mount(\"/content/drive\", force_remount=True).\n"
          ]
        }
      ]
    },
    {
      "cell_type": "code",
      "source": [
        "#trae el dataset\n",
        "df = pd.read_csv('/content/drive/MyDrive/Colab Notebooks/Dataset/HR-Employee-Attrition.csv')\n",
        "df.head()\n"
      ],
      "metadata": {
        "colab": {
          "base_uri": "https://localhost:8080/",
          "height": 356
        },
        "id": "7ME9MoXmraRY",
        "outputId": "4caa6cd9-6e00-4075-bf4e-e0e3d08e9d97"
      },
      "execution_count": 4,
      "outputs": [
        {
          "output_type": "execute_result",
          "data": {
            "text/html": [
              "\n",
              "  <div id=\"df-fbf4fbe5-215f-42f8-915f-4e75b0e0474b\">\n",
              "    <div class=\"colab-df-container\">\n",
              "      <div>\n",
              "<style scoped>\n",
              "    .dataframe tbody tr th:only-of-type {\n",
              "        vertical-align: middle;\n",
              "    }\n",
              "\n",
              "    .dataframe tbody tr th {\n",
              "        vertical-align: top;\n",
              "    }\n",
              "\n",
              "    .dataframe thead th {\n",
              "        text-align: right;\n",
              "    }\n",
              "</style>\n",
              "<table border=\"1\" class=\"dataframe\">\n",
              "  <thead>\n",
              "    <tr style=\"text-align: right;\">\n",
              "      <th></th>\n",
              "      <th>Age</th>\n",
              "      <th>Attrition</th>\n",
              "      <th>BusinessTravel</th>\n",
              "      <th>DailyRate</th>\n",
              "      <th>Department</th>\n",
              "      <th>DistanceFromHome</th>\n",
              "      <th>Education</th>\n",
              "      <th>EducationField</th>\n",
              "      <th>EmployeeCount</th>\n",
              "      <th>EmployeeNumber</th>\n",
              "      <th>EnvironmentSatisfaction</th>\n",
              "      <th>Gender</th>\n",
              "      <th>HourlyRate</th>\n",
              "      <th>JobInvolvement</th>\n",
              "      <th>JobLevel</th>\n",
              "      <th>JobRole</th>\n",
              "      <th>JobSatisfaction</th>\n",
              "      <th>MaritalStatus</th>\n",
              "      <th>MonthlyIncome</th>\n",
              "      <th>MonthlyRate</th>\n",
              "      <th>NumCompaniesWorked</th>\n",
              "      <th>Over18</th>\n",
              "      <th>OverTime</th>\n",
              "      <th>PercentSalaryHike</th>\n",
              "      <th>PerformanceRating</th>\n",
              "      <th>RelationshipSatisfaction</th>\n",
              "      <th>StandardHours</th>\n",
              "      <th>StockOptionLevel</th>\n",
              "      <th>TotalWorkingYears</th>\n",
              "      <th>TrainingTimesLastYear</th>\n",
              "      <th>WorkLifeBalance</th>\n",
              "      <th>YearsAtCompany</th>\n",
              "      <th>YearsInCurrentRole</th>\n",
              "      <th>YearsSinceLastPromotion</th>\n",
              "      <th>YearsWithCurrManager</th>\n",
              "    </tr>\n",
              "  </thead>\n",
              "  <tbody>\n",
              "    <tr>\n",
              "      <th>0</th>\n",
              "      <td>41</td>\n",
              "      <td>Yes</td>\n",
              "      <td>Travel_Rarely</td>\n",
              "      <td>1102</td>\n",
              "      <td>Sales</td>\n",
              "      <td>1</td>\n",
              "      <td>2</td>\n",
              "      <td>Life Sciences</td>\n",
              "      <td>1</td>\n",
              "      <td>1</td>\n",
              "      <td>2</td>\n",
              "      <td>Female</td>\n",
              "      <td>94</td>\n",
              "      <td>3</td>\n",
              "      <td>2</td>\n",
              "      <td>Sales Executive</td>\n",
              "      <td>4</td>\n",
              "      <td>Single</td>\n",
              "      <td>5993</td>\n",
              "      <td>19479</td>\n",
              "      <td>8</td>\n",
              "      <td>Y</td>\n",
              "      <td>Yes</td>\n",
              "      <td>11</td>\n",
              "      <td>3</td>\n",
              "      <td>1</td>\n",
              "      <td>80</td>\n",
              "      <td>0</td>\n",
              "      <td>8</td>\n",
              "      <td>0</td>\n",
              "      <td>1</td>\n",
              "      <td>6</td>\n",
              "      <td>4</td>\n",
              "      <td>0</td>\n",
              "      <td>5</td>\n",
              "    </tr>\n",
              "    <tr>\n",
              "      <th>1</th>\n",
              "      <td>49</td>\n",
              "      <td>No</td>\n",
              "      <td>Travel_Frequently</td>\n",
              "      <td>279</td>\n",
              "      <td>Research &amp; Development</td>\n",
              "      <td>8</td>\n",
              "      <td>1</td>\n",
              "      <td>Life Sciences</td>\n",
              "      <td>1</td>\n",
              "      <td>2</td>\n",
              "      <td>3</td>\n",
              "      <td>Male</td>\n",
              "      <td>61</td>\n",
              "      <td>2</td>\n",
              "      <td>2</td>\n",
              "      <td>Research Scientist</td>\n",
              "      <td>2</td>\n",
              "      <td>Married</td>\n",
              "      <td>5130</td>\n",
              "      <td>24907</td>\n",
              "      <td>1</td>\n",
              "      <td>Y</td>\n",
              "      <td>No</td>\n",
              "      <td>23</td>\n",
              "      <td>4</td>\n",
              "      <td>4</td>\n",
              "      <td>80</td>\n",
              "      <td>1</td>\n",
              "      <td>10</td>\n",
              "      <td>3</td>\n",
              "      <td>3</td>\n",
              "      <td>10</td>\n",
              "      <td>7</td>\n",
              "      <td>1</td>\n",
              "      <td>7</td>\n",
              "    </tr>\n",
              "    <tr>\n",
              "      <th>2</th>\n",
              "      <td>37</td>\n",
              "      <td>Yes</td>\n",
              "      <td>Travel_Rarely</td>\n",
              "      <td>1373</td>\n",
              "      <td>Research &amp; Development</td>\n",
              "      <td>2</td>\n",
              "      <td>2</td>\n",
              "      <td>Other</td>\n",
              "      <td>1</td>\n",
              "      <td>4</td>\n",
              "      <td>4</td>\n",
              "      <td>Male</td>\n",
              "      <td>92</td>\n",
              "      <td>2</td>\n",
              "      <td>1</td>\n",
              "      <td>Laboratory Technician</td>\n",
              "      <td>3</td>\n",
              "      <td>Single</td>\n",
              "      <td>2090</td>\n",
              "      <td>2396</td>\n",
              "      <td>6</td>\n",
              "      <td>Y</td>\n",
              "      <td>Yes</td>\n",
              "      <td>15</td>\n",
              "      <td>3</td>\n",
              "      <td>2</td>\n",
              "      <td>80</td>\n",
              "      <td>0</td>\n",
              "      <td>7</td>\n",
              "      <td>3</td>\n",
              "      <td>3</td>\n",
              "      <td>0</td>\n",
              "      <td>0</td>\n",
              "      <td>0</td>\n",
              "      <td>0</td>\n",
              "    </tr>\n",
              "    <tr>\n",
              "      <th>3</th>\n",
              "      <td>33</td>\n",
              "      <td>No</td>\n",
              "      <td>Travel_Frequently</td>\n",
              "      <td>1392</td>\n",
              "      <td>Research &amp; Development</td>\n",
              "      <td>3</td>\n",
              "      <td>4</td>\n",
              "      <td>Life Sciences</td>\n",
              "      <td>1</td>\n",
              "      <td>5</td>\n",
              "      <td>4</td>\n",
              "      <td>Female</td>\n",
              "      <td>56</td>\n",
              "      <td>3</td>\n",
              "      <td>1</td>\n",
              "      <td>Research Scientist</td>\n",
              "      <td>3</td>\n",
              "      <td>Married</td>\n",
              "      <td>2909</td>\n",
              "      <td>23159</td>\n",
              "      <td>1</td>\n",
              "      <td>Y</td>\n",
              "      <td>Yes</td>\n",
              "      <td>11</td>\n",
              "      <td>3</td>\n",
              "      <td>3</td>\n",
              "      <td>80</td>\n",
              "      <td>0</td>\n",
              "      <td>8</td>\n",
              "      <td>3</td>\n",
              "      <td>3</td>\n",
              "      <td>8</td>\n",
              "      <td>7</td>\n",
              "      <td>3</td>\n",
              "      <td>0</td>\n",
              "    </tr>\n",
              "    <tr>\n",
              "      <th>4</th>\n",
              "      <td>27</td>\n",
              "      <td>No</td>\n",
              "      <td>Travel_Rarely</td>\n",
              "      <td>591</td>\n",
              "      <td>Research &amp; Development</td>\n",
              "      <td>2</td>\n",
              "      <td>1</td>\n",
              "      <td>Medical</td>\n",
              "      <td>1</td>\n",
              "      <td>7</td>\n",
              "      <td>1</td>\n",
              "      <td>Male</td>\n",
              "      <td>40</td>\n",
              "      <td>3</td>\n",
              "      <td>1</td>\n",
              "      <td>Laboratory Technician</td>\n",
              "      <td>2</td>\n",
              "      <td>Married</td>\n",
              "      <td>3468</td>\n",
              "      <td>16632</td>\n",
              "      <td>9</td>\n",
              "      <td>Y</td>\n",
              "      <td>No</td>\n",
              "      <td>12</td>\n",
              "      <td>3</td>\n",
              "      <td>4</td>\n",
              "      <td>80</td>\n",
              "      <td>1</td>\n",
              "      <td>6</td>\n",
              "      <td>3</td>\n",
              "      <td>3</td>\n",
              "      <td>2</td>\n",
              "      <td>2</td>\n",
              "      <td>2</td>\n",
              "      <td>2</td>\n",
              "    </tr>\n",
              "  </tbody>\n",
              "</table>\n",
              "</div>\n",
              "      <button class=\"colab-df-convert\" onclick=\"convertToInteractive('df-fbf4fbe5-215f-42f8-915f-4e75b0e0474b')\"\n",
              "              title=\"Convert this dataframe to an interactive table.\"\n",
              "              style=\"display:none;\">\n",
              "        \n",
              "  <svg xmlns=\"http://www.w3.org/2000/svg\" height=\"24px\"viewBox=\"0 0 24 24\"\n",
              "       width=\"24px\">\n",
              "    <path d=\"M0 0h24v24H0V0z\" fill=\"none\"/>\n",
              "    <path d=\"M18.56 5.44l.94 2.06.94-2.06 2.06-.94-2.06-.94-.94-2.06-.94 2.06-2.06.94zm-11 1L8.5 8.5l.94-2.06 2.06-.94-2.06-.94L8.5 2.5l-.94 2.06-2.06.94zm10 10l.94 2.06.94-2.06 2.06-.94-2.06-.94-.94-2.06-.94 2.06-2.06.94z\"/><path d=\"M17.41 7.96l-1.37-1.37c-.4-.4-.92-.59-1.43-.59-.52 0-1.04.2-1.43.59L10.3 9.45l-7.72 7.72c-.78.78-.78 2.05 0 2.83L4 21.41c.39.39.9.59 1.41.59.51 0 1.02-.2 1.41-.59l7.78-7.78 2.81-2.81c.8-.78.8-2.07 0-2.86zM5.41 20L4 18.59l7.72-7.72 1.47 1.35L5.41 20z\"/>\n",
              "  </svg>\n",
              "      </button>\n",
              "      \n",
              "  <style>\n",
              "    .colab-df-container {\n",
              "      display:flex;\n",
              "      flex-wrap:wrap;\n",
              "      gap: 12px;\n",
              "    }\n",
              "\n",
              "    .colab-df-convert {\n",
              "      background-color: #E8F0FE;\n",
              "      border: none;\n",
              "      border-radius: 50%;\n",
              "      cursor: pointer;\n",
              "      display: none;\n",
              "      fill: #1967D2;\n",
              "      height: 32px;\n",
              "      padding: 0 0 0 0;\n",
              "      width: 32px;\n",
              "    }\n",
              "\n",
              "    .colab-df-convert:hover {\n",
              "      background-color: #E2EBFA;\n",
              "      box-shadow: 0px 1px 2px rgba(60, 64, 67, 0.3), 0px 1px 3px 1px rgba(60, 64, 67, 0.15);\n",
              "      fill: #174EA6;\n",
              "    }\n",
              "\n",
              "    [theme=dark] .colab-df-convert {\n",
              "      background-color: #3B4455;\n",
              "      fill: #D2E3FC;\n",
              "    }\n",
              "\n",
              "    [theme=dark] .colab-df-convert:hover {\n",
              "      background-color: #434B5C;\n",
              "      box-shadow: 0px 1px 3px 1px rgba(0, 0, 0, 0.15);\n",
              "      filter: drop-shadow(0px 1px 2px rgba(0, 0, 0, 0.3));\n",
              "      fill: #FFFFFF;\n",
              "    }\n",
              "  </style>\n",
              "\n",
              "      <script>\n",
              "        const buttonEl =\n",
              "          document.querySelector('#df-fbf4fbe5-215f-42f8-915f-4e75b0e0474b button.colab-df-convert');\n",
              "        buttonEl.style.display =\n",
              "          google.colab.kernel.accessAllowed ? 'block' : 'none';\n",
              "\n",
              "        async function convertToInteractive(key) {\n",
              "          const element = document.querySelector('#df-fbf4fbe5-215f-42f8-915f-4e75b0e0474b');\n",
              "          const dataTable =\n",
              "            await google.colab.kernel.invokeFunction('convertToInteractive',\n",
              "                                                     [key], {});\n",
              "          if (!dataTable) return;\n",
              "\n",
              "          const docLinkHtml = 'Like what you see? Visit the ' +\n",
              "            '<a target=\"_blank\" href=https://colab.research.google.com/notebooks/data_table.ipynb>data table notebook</a>'\n",
              "            + ' to learn more about interactive tables.';\n",
              "          element.innerHTML = '';\n",
              "          dataTable['output_type'] = 'display_data';\n",
              "          await google.colab.output.renderOutput(dataTable, element);\n",
              "          const docLink = document.createElement('div');\n",
              "          docLink.innerHTML = docLinkHtml;\n",
              "          element.appendChild(docLink);\n",
              "        }\n",
              "      </script>\n",
              "    </div>\n",
              "  </div>\n",
              "  "
            ],
            "text/plain": [
              "   Age Attrition  ... YearsSinceLastPromotion  YearsWithCurrManager\n",
              "0   41       Yes  ...                       0                     5\n",
              "1   49        No  ...                       1                     7\n",
              "2   37       Yes  ...                       0                     0\n",
              "3   33        No  ...                       3                     0\n",
              "4   27        No  ...                       2                     2\n",
              "\n",
              "[5 rows x 35 columns]"
            ]
          },
          "metadata": {},
          "execution_count": 4
        }
      ]
    },
    {
      "cell_type": "markdown",
      "source": [
        "---\n",
        "##**Data Wrangling**"
      ],
      "metadata": {
        "id": "GxeIiOgSdWzj"
      }
    },
    {
      "cell_type": "code",
      "source": [
        "#Traduce el Dataset\n",
        "df.columns = ['Edad', 'Desercion', 'Viajes_Laborales', 'Tarifa_Diaria', 'Departamento', 'Distancia_Casa', 'Educacion', 'Carrera', \n",
        "              'Cantidad_Empleados', 'ID_Empleado', 'Satisfaccion_Ambiente', 'Genero', 'Tarifa_Hora', 'Participacion_Laboral', 'Nivel_Laboral', \n",
        "              'Puesto', 'Satisfaccion_Laboral', 'Estado_Civil', 'Ingresos_Mensuales', 'Tarifa_Mensual', 'Cant_Empresas_Trabajadas', \n",
        "              'Mayor_18', 'Horas_Extra', 'Aumento_Salario_Porcentual', 'Clasificacion_Rendimiento', 'Satisfaccion_Relacion', \n",
        "              'Horas_Habituales', 'Nivel_Opciones_Acciones', 'Antiguedad_Laboral_Personal', 'Cantidad_Capacitaciones_Anuales', 'Equilibrio_Laboral_Personal',\n",
        "              'Antiguedad_Compania', 'Antiguedad_Puesto', 'Tiempo_Ultimo_Ascenso', 'Tiempo_Jefe_Actual']\n",
        "\n",
        "df.Desercion = df.Desercion.replace({'Yes':'Si'})\n",
        "df.Viajes_Laborales = df.Viajes_Laborales.replace({'Travel_Rarely':'Raramente', 'Travel_Frequently':'Frecuentemente','Non-Travel':'Nunca'})\n",
        "df.Departamento = df.Departamento.replace({'Research & Development':'Investigacion y Desarrollo', 'Sales':'Ventas','Human Resources':'Recursos Humanos'})\n",
        "df.Carrera = df.Carrera.replace({'Life Sciences':'Ciencias Naturales', 'Medical':'Medicina','Technical Degree':'Posgrado Tecnico', 'Other': 'Otros', 'Human Resources':'Recursos Humanos'})\n",
        "df.Genero = df.Genero.replace({'Male':'Masculino', 'Female':'Femenino'})\n",
        "\n",
        "df.Puesto = df.Puesto.replace({'Sales Executive':'Ejecutivo de Ventas', 'Research Scientist':'Investigador Cientifico', 'Laboratory Technician':'Tecnico de Laboratorio',\n",
        "                               'Manufacturing Director':'Director de Manufactura','Healthcare Representative':'Representante de Atencion Medica','Manager':'Gerente',\n",
        "                               'Sales Representative':'Representante de Ventas','Research Director':'Director de Investigaciones','Human Resources':'Recursos Humanos'})\n",
        "\n",
        "df.Estado_Civil = df.Estado_Civil.replace({'Married':'Casado', 'Single':'Soltero', 'Divorced':'Divorciado'})\n",
        "df.Horas_Extra = df.Horas_Extra.replace({'Yes':'Si'})\n"
      ],
      "metadata": {
        "id": "YmEDppzQsM4v"
      },
      "execution_count": 5,
      "outputs": []
    },
    {
      "cell_type": "code",
      "source": [
        "#Elimina las columnas innecesarias\n",
        "df.drop(['Mayor_18'], axis = 'columns', inplace=True)"
      ],
      "metadata": {
        "id": "TlWYdp6reRrz"
      },
      "execution_count": 6,
      "outputs": []
    },
    {
      "cell_type": "markdown",
      "source": [
        "---\n",
        "## **EDA**"
      ],
      "metadata": {
        "id": "mSpFMTm7dcPZ"
      }
    },
    {
      "cell_type": "code",
      "source": [
        "df.info()"
      ],
      "metadata": {
        "id": "3CuX6BO566Zw",
        "colab": {
          "base_uri": "https://localhost:8080/"
        },
        "outputId": "a675a753-ed53-4bd2-d415-851f0b0dc8da"
      },
      "execution_count": 7,
      "outputs": [
        {
          "output_type": "stream",
          "name": "stdout",
          "text": [
            "<class 'pandas.core.frame.DataFrame'>\n",
            "RangeIndex: 1470 entries, 0 to 1469\n",
            "Data columns (total 34 columns):\n",
            " #   Column                           Non-Null Count  Dtype \n",
            "---  ------                           --------------  ----- \n",
            " 0   Edad                             1470 non-null   int64 \n",
            " 1   Desercion                        1470 non-null   object\n",
            " 2   Viajes_Laborales                 1470 non-null   object\n",
            " 3   Tarifa_Diaria                    1470 non-null   int64 \n",
            " 4   Departamento                     1470 non-null   object\n",
            " 5   Distancia_Casa                   1470 non-null   int64 \n",
            " 6   Educacion                        1470 non-null   int64 \n",
            " 7   Carrera                          1470 non-null   object\n",
            " 8   Cantidad_Empleados               1470 non-null   int64 \n",
            " 9   ID_Empleado                      1470 non-null   int64 \n",
            " 10  Satisfaccion_Ambiente            1470 non-null   int64 \n",
            " 11  Genero                           1470 non-null   object\n",
            " 12  Tarifa_Hora                      1470 non-null   int64 \n",
            " 13  Participacion_Laboral            1470 non-null   int64 \n",
            " 14  Nivel_Laboral                    1470 non-null   int64 \n",
            " 15  Puesto                           1470 non-null   object\n",
            " 16  Satisfaccion_Laboral             1470 non-null   int64 \n",
            " 17  Estado_Civil                     1470 non-null   object\n",
            " 18  Ingresos_Mensuales               1470 non-null   int64 \n",
            " 19  Tarifa_Mensual                   1470 non-null   int64 \n",
            " 20  Cant_Empresas_Trabajadas         1470 non-null   int64 \n",
            " 21  Horas_Extra                      1470 non-null   object\n",
            " 22  Aumento_Salario_Porcentual       1470 non-null   int64 \n",
            " 23  Clasificacion_Rendimiento        1470 non-null   int64 \n",
            " 24  Satisfaccion_Relacion            1470 non-null   int64 \n",
            " 25  Horas_Habituales                 1470 non-null   int64 \n",
            " 26  Nivel_Opciones_Acciones          1470 non-null   int64 \n",
            " 27  Antiguedad_Laboral_Personal      1470 non-null   int64 \n",
            " 28  Cantidad_Capacitaciones_Anuales  1470 non-null   int64 \n",
            " 29  Equilibrio_Laboral_Personal      1470 non-null   int64 \n",
            " 30  Antiguedad_Compania              1470 non-null   int64 \n",
            " 31  Antiguedad_Puesto                1470 non-null   int64 \n",
            " 32  Tiempo_Ultimo_Ascenso            1470 non-null   int64 \n",
            " 33  Tiempo_Jefe_Actual               1470 non-null   int64 \n",
            "dtypes: int64(26), object(8)\n",
            "memory usage: 390.6+ KB\n"
          ]
        }
      ]
    },
    {
      "cell_type": "code",
      "source": [
        "df.shape"
      ],
      "metadata": {
        "id": "pmhUIyMA74vp",
        "colab": {
          "base_uri": "https://localhost:8080/"
        },
        "outputId": "5ac1d98e-a2fc-43d3-8ff1-8bf027672228"
      },
      "execution_count": 8,
      "outputs": [
        {
          "output_type": "execute_result",
          "data": {
            "text/plain": [
              "(1470, 34)"
            ]
          },
          "metadata": {},
          "execution_count": 8
        }
      ]
    },
    {
      "cell_type": "code",
      "source": [
        "df.count()"
      ],
      "metadata": {
        "id": "282PUmns76hu",
        "colab": {
          "base_uri": "https://localhost:8080/"
        },
        "outputId": "6796f189-3fc6-4345-8dd8-dd65596a34d8"
      },
      "execution_count": 9,
      "outputs": [
        {
          "output_type": "execute_result",
          "data": {
            "text/plain": [
              "Edad                               1470\n",
              "Desercion                          1470\n",
              "Viajes_Laborales                   1470\n",
              "Tarifa_Diaria                      1470\n",
              "Departamento                       1470\n",
              "Distancia_Casa                     1470\n",
              "Educacion                          1470\n",
              "Carrera                            1470\n",
              "Cantidad_Empleados                 1470\n",
              "ID_Empleado                        1470\n",
              "Satisfaccion_Ambiente              1470\n",
              "Genero                             1470\n",
              "Tarifa_Hora                        1470\n",
              "Participacion_Laboral              1470\n",
              "Nivel_Laboral                      1470\n",
              "Puesto                             1470\n",
              "Satisfaccion_Laboral               1470\n",
              "Estado_Civil                       1470\n",
              "Ingresos_Mensuales                 1470\n",
              "Tarifa_Mensual                     1470\n",
              "Cant_Empresas_Trabajadas           1470\n",
              "Horas_Extra                        1470\n",
              "Aumento_Salario_Porcentual         1470\n",
              "Clasificacion_Rendimiento          1470\n",
              "Satisfaccion_Relacion              1470\n",
              "Horas_Habituales                   1470\n",
              "Nivel_Opciones_Acciones            1470\n",
              "Antiguedad_Laboral_Personal        1470\n",
              "Cantidad_Capacitaciones_Anuales    1470\n",
              "Equilibrio_Laboral_Personal        1470\n",
              "Antiguedad_Compania                1470\n",
              "Antiguedad_Puesto                  1470\n",
              "Tiempo_Ultimo_Ascenso              1470\n",
              "Tiempo_Jefe_Actual                 1470\n",
              "dtype: int64"
            ]
          },
          "metadata": {},
          "execution_count": 9
        }
      ]
    },
    {
      "cell_type": "code",
      "source": [
        "df.describe().T"
      ],
      "metadata": {
        "id": "ocI6KKHu79Ei",
        "colab": {
          "base_uri": "https://localhost:8080/",
          "height": 864
        },
        "outputId": "b0ad8cf7-1c9d-4689-9740-7835bacb88e4"
      },
      "execution_count": 10,
      "outputs": [
        {
          "output_type": "execute_result",
          "data": {
            "text/html": [
              "\n",
              "  <div id=\"df-2c07abb9-34b1-4eda-92fd-9a5d79f65cde\">\n",
              "    <div class=\"colab-df-container\">\n",
              "      <div>\n",
              "<style scoped>\n",
              "    .dataframe tbody tr th:only-of-type {\n",
              "        vertical-align: middle;\n",
              "    }\n",
              "\n",
              "    .dataframe tbody tr th {\n",
              "        vertical-align: top;\n",
              "    }\n",
              "\n",
              "    .dataframe thead th {\n",
              "        text-align: right;\n",
              "    }\n",
              "</style>\n",
              "<table border=\"1\" class=\"dataframe\">\n",
              "  <thead>\n",
              "    <tr style=\"text-align: right;\">\n",
              "      <th></th>\n",
              "      <th>count</th>\n",
              "      <th>mean</th>\n",
              "      <th>std</th>\n",
              "      <th>min</th>\n",
              "      <th>25%</th>\n",
              "      <th>50%</th>\n",
              "      <th>75%</th>\n",
              "      <th>max</th>\n",
              "    </tr>\n",
              "  </thead>\n",
              "  <tbody>\n",
              "    <tr>\n",
              "      <th>Edad</th>\n",
              "      <td>1470.0</td>\n",
              "      <td>36.923810</td>\n",
              "      <td>9.135373</td>\n",
              "      <td>18.0</td>\n",
              "      <td>30.00</td>\n",
              "      <td>36.0</td>\n",
              "      <td>43.00</td>\n",
              "      <td>60.0</td>\n",
              "    </tr>\n",
              "    <tr>\n",
              "      <th>Tarifa_Diaria</th>\n",
              "      <td>1470.0</td>\n",
              "      <td>802.485714</td>\n",
              "      <td>403.509100</td>\n",
              "      <td>102.0</td>\n",
              "      <td>465.00</td>\n",
              "      <td>802.0</td>\n",
              "      <td>1157.00</td>\n",
              "      <td>1499.0</td>\n",
              "    </tr>\n",
              "    <tr>\n",
              "      <th>Distancia_Casa</th>\n",
              "      <td>1470.0</td>\n",
              "      <td>9.192517</td>\n",
              "      <td>8.106864</td>\n",
              "      <td>1.0</td>\n",
              "      <td>2.00</td>\n",
              "      <td>7.0</td>\n",
              "      <td>14.00</td>\n",
              "      <td>29.0</td>\n",
              "    </tr>\n",
              "    <tr>\n",
              "      <th>Educacion</th>\n",
              "      <td>1470.0</td>\n",
              "      <td>2.912925</td>\n",
              "      <td>1.024165</td>\n",
              "      <td>1.0</td>\n",
              "      <td>2.00</td>\n",
              "      <td>3.0</td>\n",
              "      <td>4.00</td>\n",
              "      <td>5.0</td>\n",
              "    </tr>\n",
              "    <tr>\n",
              "      <th>Cantidad_Empleados</th>\n",
              "      <td>1470.0</td>\n",
              "      <td>1.000000</td>\n",
              "      <td>0.000000</td>\n",
              "      <td>1.0</td>\n",
              "      <td>1.00</td>\n",
              "      <td>1.0</td>\n",
              "      <td>1.00</td>\n",
              "      <td>1.0</td>\n",
              "    </tr>\n",
              "    <tr>\n",
              "      <th>ID_Empleado</th>\n",
              "      <td>1470.0</td>\n",
              "      <td>1024.865306</td>\n",
              "      <td>602.024335</td>\n",
              "      <td>1.0</td>\n",
              "      <td>491.25</td>\n",
              "      <td>1020.5</td>\n",
              "      <td>1555.75</td>\n",
              "      <td>2068.0</td>\n",
              "    </tr>\n",
              "    <tr>\n",
              "      <th>Satisfaccion_Ambiente</th>\n",
              "      <td>1470.0</td>\n",
              "      <td>2.721769</td>\n",
              "      <td>1.093082</td>\n",
              "      <td>1.0</td>\n",
              "      <td>2.00</td>\n",
              "      <td>3.0</td>\n",
              "      <td>4.00</td>\n",
              "      <td>4.0</td>\n",
              "    </tr>\n",
              "    <tr>\n",
              "      <th>Tarifa_Hora</th>\n",
              "      <td>1470.0</td>\n",
              "      <td>65.891156</td>\n",
              "      <td>20.329428</td>\n",
              "      <td>30.0</td>\n",
              "      <td>48.00</td>\n",
              "      <td>66.0</td>\n",
              "      <td>83.75</td>\n",
              "      <td>100.0</td>\n",
              "    </tr>\n",
              "    <tr>\n",
              "      <th>Participacion_Laboral</th>\n",
              "      <td>1470.0</td>\n",
              "      <td>2.729932</td>\n",
              "      <td>0.711561</td>\n",
              "      <td>1.0</td>\n",
              "      <td>2.00</td>\n",
              "      <td>3.0</td>\n",
              "      <td>3.00</td>\n",
              "      <td>4.0</td>\n",
              "    </tr>\n",
              "    <tr>\n",
              "      <th>Nivel_Laboral</th>\n",
              "      <td>1470.0</td>\n",
              "      <td>2.063946</td>\n",
              "      <td>1.106940</td>\n",
              "      <td>1.0</td>\n",
              "      <td>1.00</td>\n",
              "      <td>2.0</td>\n",
              "      <td>3.00</td>\n",
              "      <td>5.0</td>\n",
              "    </tr>\n",
              "    <tr>\n",
              "      <th>Satisfaccion_Laboral</th>\n",
              "      <td>1470.0</td>\n",
              "      <td>2.728571</td>\n",
              "      <td>1.102846</td>\n",
              "      <td>1.0</td>\n",
              "      <td>2.00</td>\n",
              "      <td>3.0</td>\n",
              "      <td>4.00</td>\n",
              "      <td>4.0</td>\n",
              "    </tr>\n",
              "    <tr>\n",
              "      <th>Ingresos_Mensuales</th>\n",
              "      <td>1470.0</td>\n",
              "      <td>6502.931293</td>\n",
              "      <td>4707.956783</td>\n",
              "      <td>1009.0</td>\n",
              "      <td>2911.00</td>\n",
              "      <td>4919.0</td>\n",
              "      <td>8379.00</td>\n",
              "      <td>19999.0</td>\n",
              "    </tr>\n",
              "    <tr>\n",
              "      <th>Tarifa_Mensual</th>\n",
              "      <td>1470.0</td>\n",
              "      <td>14313.103401</td>\n",
              "      <td>7117.786044</td>\n",
              "      <td>2094.0</td>\n",
              "      <td>8047.00</td>\n",
              "      <td>14235.5</td>\n",
              "      <td>20461.50</td>\n",
              "      <td>26999.0</td>\n",
              "    </tr>\n",
              "    <tr>\n",
              "      <th>Cant_Empresas_Trabajadas</th>\n",
              "      <td>1470.0</td>\n",
              "      <td>2.693197</td>\n",
              "      <td>2.498009</td>\n",
              "      <td>0.0</td>\n",
              "      <td>1.00</td>\n",
              "      <td>2.0</td>\n",
              "      <td>4.00</td>\n",
              "      <td>9.0</td>\n",
              "    </tr>\n",
              "    <tr>\n",
              "      <th>Aumento_Salario_Porcentual</th>\n",
              "      <td>1470.0</td>\n",
              "      <td>15.209524</td>\n",
              "      <td>3.659938</td>\n",
              "      <td>11.0</td>\n",
              "      <td>12.00</td>\n",
              "      <td>14.0</td>\n",
              "      <td>18.00</td>\n",
              "      <td>25.0</td>\n",
              "    </tr>\n",
              "    <tr>\n",
              "      <th>Clasificacion_Rendimiento</th>\n",
              "      <td>1470.0</td>\n",
              "      <td>3.153741</td>\n",
              "      <td>0.360824</td>\n",
              "      <td>3.0</td>\n",
              "      <td>3.00</td>\n",
              "      <td>3.0</td>\n",
              "      <td>3.00</td>\n",
              "      <td>4.0</td>\n",
              "    </tr>\n",
              "    <tr>\n",
              "      <th>Satisfaccion_Relacion</th>\n",
              "      <td>1470.0</td>\n",
              "      <td>2.712245</td>\n",
              "      <td>1.081209</td>\n",
              "      <td>1.0</td>\n",
              "      <td>2.00</td>\n",
              "      <td>3.0</td>\n",
              "      <td>4.00</td>\n",
              "      <td>4.0</td>\n",
              "    </tr>\n",
              "    <tr>\n",
              "      <th>Horas_Habituales</th>\n",
              "      <td>1470.0</td>\n",
              "      <td>80.000000</td>\n",
              "      <td>0.000000</td>\n",
              "      <td>80.0</td>\n",
              "      <td>80.00</td>\n",
              "      <td>80.0</td>\n",
              "      <td>80.00</td>\n",
              "      <td>80.0</td>\n",
              "    </tr>\n",
              "    <tr>\n",
              "      <th>Nivel_Opciones_Acciones</th>\n",
              "      <td>1470.0</td>\n",
              "      <td>0.793878</td>\n",
              "      <td>0.852077</td>\n",
              "      <td>0.0</td>\n",
              "      <td>0.00</td>\n",
              "      <td>1.0</td>\n",
              "      <td>1.00</td>\n",
              "      <td>3.0</td>\n",
              "    </tr>\n",
              "    <tr>\n",
              "      <th>Antiguedad_Laboral_Personal</th>\n",
              "      <td>1470.0</td>\n",
              "      <td>11.279592</td>\n",
              "      <td>7.780782</td>\n",
              "      <td>0.0</td>\n",
              "      <td>6.00</td>\n",
              "      <td>10.0</td>\n",
              "      <td>15.00</td>\n",
              "      <td>40.0</td>\n",
              "    </tr>\n",
              "    <tr>\n",
              "      <th>Cantidad_Capacitaciones_Anuales</th>\n",
              "      <td>1470.0</td>\n",
              "      <td>2.799320</td>\n",
              "      <td>1.289271</td>\n",
              "      <td>0.0</td>\n",
              "      <td>2.00</td>\n",
              "      <td>3.0</td>\n",
              "      <td>3.00</td>\n",
              "      <td>6.0</td>\n",
              "    </tr>\n",
              "    <tr>\n",
              "      <th>Equilibrio_Laboral_Personal</th>\n",
              "      <td>1470.0</td>\n",
              "      <td>2.761224</td>\n",
              "      <td>0.706476</td>\n",
              "      <td>1.0</td>\n",
              "      <td>2.00</td>\n",
              "      <td>3.0</td>\n",
              "      <td>3.00</td>\n",
              "      <td>4.0</td>\n",
              "    </tr>\n",
              "    <tr>\n",
              "      <th>Antiguedad_Compania</th>\n",
              "      <td>1470.0</td>\n",
              "      <td>7.008163</td>\n",
              "      <td>6.126525</td>\n",
              "      <td>0.0</td>\n",
              "      <td>3.00</td>\n",
              "      <td>5.0</td>\n",
              "      <td>9.00</td>\n",
              "      <td>40.0</td>\n",
              "    </tr>\n",
              "    <tr>\n",
              "      <th>Antiguedad_Puesto</th>\n",
              "      <td>1470.0</td>\n",
              "      <td>4.229252</td>\n",
              "      <td>3.623137</td>\n",
              "      <td>0.0</td>\n",
              "      <td>2.00</td>\n",
              "      <td>3.0</td>\n",
              "      <td>7.00</td>\n",
              "      <td>18.0</td>\n",
              "    </tr>\n",
              "    <tr>\n",
              "      <th>Tiempo_Ultimo_Ascenso</th>\n",
              "      <td>1470.0</td>\n",
              "      <td>2.187755</td>\n",
              "      <td>3.222430</td>\n",
              "      <td>0.0</td>\n",
              "      <td>0.00</td>\n",
              "      <td>1.0</td>\n",
              "      <td>3.00</td>\n",
              "      <td>15.0</td>\n",
              "    </tr>\n",
              "    <tr>\n",
              "      <th>Tiempo_Jefe_Actual</th>\n",
              "      <td>1470.0</td>\n",
              "      <td>4.123129</td>\n",
              "      <td>3.568136</td>\n",
              "      <td>0.0</td>\n",
              "      <td>2.00</td>\n",
              "      <td>3.0</td>\n",
              "      <td>7.00</td>\n",
              "      <td>17.0</td>\n",
              "    </tr>\n",
              "  </tbody>\n",
              "</table>\n",
              "</div>\n",
              "      <button class=\"colab-df-convert\" onclick=\"convertToInteractive('df-2c07abb9-34b1-4eda-92fd-9a5d79f65cde')\"\n",
              "              title=\"Convert this dataframe to an interactive table.\"\n",
              "              style=\"display:none;\">\n",
              "        \n",
              "  <svg xmlns=\"http://www.w3.org/2000/svg\" height=\"24px\"viewBox=\"0 0 24 24\"\n",
              "       width=\"24px\">\n",
              "    <path d=\"M0 0h24v24H0V0z\" fill=\"none\"/>\n",
              "    <path d=\"M18.56 5.44l.94 2.06.94-2.06 2.06-.94-2.06-.94-.94-2.06-.94 2.06-2.06.94zm-11 1L8.5 8.5l.94-2.06 2.06-.94-2.06-.94L8.5 2.5l-.94 2.06-2.06.94zm10 10l.94 2.06.94-2.06 2.06-.94-2.06-.94-.94-2.06-.94 2.06-2.06.94z\"/><path d=\"M17.41 7.96l-1.37-1.37c-.4-.4-.92-.59-1.43-.59-.52 0-1.04.2-1.43.59L10.3 9.45l-7.72 7.72c-.78.78-.78 2.05 0 2.83L4 21.41c.39.39.9.59 1.41.59.51 0 1.02-.2 1.41-.59l7.78-7.78 2.81-2.81c.8-.78.8-2.07 0-2.86zM5.41 20L4 18.59l7.72-7.72 1.47 1.35L5.41 20z\"/>\n",
              "  </svg>\n",
              "      </button>\n",
              "      \n",
              "  <style>\n",
              "    .colab-df-container {\n",
              "      display:flex;\n",
              "      flex-wrap:wrap;\n",
              "      gap: 12px;\n",
              "    }\n",
              "\n",
              "    .colab-df-convert {\n",
              "      background-color: #E8F0FE;\n",
              "      border: none;\n",
              "      border-radius: 50%;\n",
              "      cursor: pointer;\n",
              "      display: none;\n",
              "      fill: #1967D2;\n",
              "      height: 32px;\n",
              "      padding: 0 0 0 0;\n",
              "      width: 32px;\n",
              "    }\n",
              "\n",
              "    .colab-df-convert:hover {\n",
              "      background-color: #E2EBFA;\n",
              "      box-shadow: 0px 1px 2px rgba(60, 64, 67, 0.3), 0px 1px 3px 1px rgba(60, 64, 67, 0.15);\n",
              "      fill: #174EA6;\n",
              "    }\n",
              "\n",
              "    [theme=dark] .colab-df-convert {\n",
              "      background-color: #3B4455;\n",
              "      fill: #D2E3FC;\n",
              "    }\n",
              "\n",
              "    [theme=dark] .colab-df-convert:hover {\n",
              "      background-color: #434B5C;\n",
              "      box-shadow: 0px 1px 3px 1px rgba(0, 0, 0, 0.15);\n",
              "      filter: drop-shadow(0px 1px 2px rgba(0, 0, 0, 0.3));\n",
              "      fill: #FFFFFF;\n",
              "    }\n",
              "  </style>\n",
              "\n",
              "      <script>\n",
              "        const buttonEl =\n",
              "          document.querySelector('#df-2c07abb9-34b1-4eda-92fd-9a5d79f65cde button.colab-df-convert');\n",
              "        buttonEl.style.display =\n",
              "          google.colab.kernel.accessAllowed ? 'block' : 'none';\n",
              "\n",
              "        async function convertToInteractive(key) {\n",
              "          const element = document.querySelector('#df-2c07abb9-34b1-4eda-92fd-9a5d79f65cde');\n",
              "          const dataTable =\n",
              "            await google.colab.kernel.invokeFunction('convertToInteractive',\n",
              "                                                     [key], {});\n",
              "          if (!dataTable) return;\n",
              "\n",
              "          const docLinkHtml = 'Like what you see? Visit the ' +\n",
              "            '<a target=\"_blank\" href=https://colab.research.google.com/notebooks/data_table.ipynb>data table notebook</a>'\n",
              "            + ' to learn more about interactive tables.';\n",
              "          element.innerHTML = '';\n",
              "          dataTable['output_type'] = 'display_data';\n",
              "          await google.colab.output.renderOutput(dataTable, element);\n",
              "          const docLink = document.createElement('div');\n",
              "          docLink.innerHTML = docLinkHtml;\n",
              "          element.appendChild(docLink);\n",
              "        }\n",
              "      </script>\n",
              "    </div>\n",
              "  </div>\n",
              "  "
            ],
            "text/plain": [
              "                                  count          mean  ...       75%      max\n",
              "Edad                             1470.0     36.923810  ...     43.00     60.0\n",
              "Tarifa_Diaria                    1470.0    802.485714  ...   1157.00   1499.0\n",
              "Distancia_Casa                   1470.0      9.192517  ...     14.00     29.0\n",
              "Educacion                        1470.0      2.912925  ...      4.00      5.0\n",
              "Cantidad_Empleados               1470.0      1.000000  ...      1.00      1.0\n",
              "ID_Empleado                      1470.0   1024.865306  ...   1555.75   2068.0\n",
              "Satisfaccion_Ambiente            1470.0      2.721769  ...      4.00      4.0\n",
              "Tarifa_Hora                      1470.0     65.891156  ...     83.75    100.0\n",
              "Participacion_Laboral            1470.0      2.729932  ...      3.00      4.0\n",
              "Nivel_Laboral                    1470.0      2.063946  ...      3.00      5.0\n",
              "Satisfaccion_Laboral             1470.0      2.728571  ...      4.00      4.0\n",
              "Ingresos_Mensuales               1470.0   6502.931293  ...   8379.00  19999.0\n",
              "Tarifa_Mensual                   1470.0  14313.103401  ...  20461.50  26999.0\n",
              "Cant_Empresas_Trabajadas         1470.0      2.693197  ...      4.00      9.0\n",
              "Aumento_Salario_Porcentual       1470.0     15.209524  ...     18.00     25.0\n",
              "Clasificacion_Rendimiento        1470.0      3.153741  ...      3.00      4.0\n",
              "Satisfaccion_Relacion            1470.0      2.712245  ...      4.00      4.0\n",
              "Horas_Habituales                 1470.0     80.000000  ...     80.00     80.0\n",
              "Nivel_Opciones_Acciones          1470.0      0.793878  ...      1.00      3.0\n",
              "Antiguedad_Laboral_Personal      1470.0     11.279592  ...     15.00     40.0\n",
              "Cantidad_Capacitaciones_Anuales  1470.0      2.799320  ...      3.00      6.0\n",
              "Equilibrio_Laboral_Personal      1470.0      2.761224  ...      3.00      4.0\n",
              "Antiguedad_Compania              1470.0      7.008163  ...      9.00     40.0\n",
              "Antiguedad_Puesto                1470.0      4.229252  ...      7.00     18.0\n",
              "Tiempo_Ultimo_Ascenso            1470.0      2.187755  ...      3.00     15.0\n",
              "Tiempo_Jefe_Actual               1470.0      4.123129  ...      7.00     17.0\n",
              "\n",
              "[26 rows x 8 columns]"
            ]
          },
          "metadata": {},
          "execution_count": 10
        }
      ]
    },
    {
      "cell_type": "markdown",
      "source": [
        " El dataset (luego de una limpieza) posee 1470 filas y 34 columnas. No posee valores nulos.\n",
        " Veamos las correlaciones a través de un heatmap:"
      ],
      "metadata": {
        "id": "apZzUIKVluUM"
      }
    },
    {
      "cell_type": "code",
      "source": [
        "#heatmap\n",
        "plt.figure(figsize=(13,9))\n",
        "sns.heatmap(df.corr(),vmax=0.8,linewidth=0.1,cmap='coolwarm')\n",
        "plt.show()"
      ],
      "metadata": {
        "id": "67P_PE16aLTr",
        "colab": {
          "base_uri": "https://localhost:8080/",
          "height": 702
        },
        "outputId": "4e5cd1cd-ed64-49c4-960c-ae5ca93f6ed2"
      },
      "execution_count": 11,
      "outputs": [
        {
          "output_type": "display_data",
          "data": {
            "image/png": "[encoded data removed]",
            "text/plain": [
              "<Figure size 936x648 with 2 Axes>"
            ]
          },
          "metadata": {
            "needs_background": "light"
          }
        }
      ]
    },
    {
      "cell_type": "markdown",
      "source": [
        "* Nivel_Laboral parece una característica importante que posee varias correlaciones. \n",
        "Lo verificaremos mas adelante.\n",
        "* Antiguedad_Total_Laboral tiene una correlacion fuerte con Nivel_Laboral e Ingresos_Mensuales\n",
        "* Un poco de correlacion fuerte se puede ver entre Antiguedad_Compania, Antiguedad_Puesto y Tiempo_Jefe_Actual."
      ],
      "metadata": {
        "id": "Q16kDbhxaphh"
      }
    },
    {
      "cell_type": "markdown",
      "source": [
        "## **Analisis Univariado, Bivariado, y Multivariado**"
      ],
      "metadata": {
        "id": "v02tc_r3cGzj"
      }
    },
    {
      "cell_type": "markdown",
      "source": [
        "### **Características categóricas:**"
      ],
      "metadata": {
        "id": "_JGZH-iwpUiS"
      }
    },
    {
      "cell_type": "code",
      "source": [
        "categoricas = df.select_dtypes(include=[np.object]).columns   #selecciona todas las columnas del dataset cuyo dtype sea object\n",
        "print(\"El total de caracteristicas categoricas es:\",len(categoricas))"
      ],
      "metadata": {
        "id": "euTqf3w6dv0m",
        "colab": {
          "base_uri": "https://localhost:8080/"
        },
        "outputId": "3be1c354-b98a-47b1-ff8e-91cd6268d8b0"
      },
      "execution_count": 12,
      "outputs": [
        {
          "output_type": "stream",
          "name": "stdout",
          "text": [
            "El total de caracteristicas categoricas es: 8\n"
          ]
        },
        {
          "output_type": "stream",
          "name": "stderr",
          "text": [
            "/usr/local/lib/python3.7/dist-packages/ipykernel_launcher.py:1: DeprecationWarning: `np.object` is a deprecated alias for the builtin `object`. To silence this warning, use `object` by itself. Doing this will not modify any behavior and is safe. \n",
            "Deprecated in NumPy 1.20; for more details and guidance: https://numpy.org/devdocs/release/1.20.0-notes.html#deprecations\n",
            "  \"\"\"Entry point for launching an IPython kernel.\n"
          ]
        }
      ]
    },
    {
      "cell_type": "code",
      "source": [
        "df[categoricas].head()"
      ],
      "metadata": {
        "id": "D3_A45OMd_xS",
        "colab": {
          "base_uri": "https://localhost:8080/",
          "height": 0
        },
        "outputId": "34a8c435-9bff-4aa2-923f-8cf3e4165d83"
      },
      "execution_count": 13,
      "outputs": [
        {
          "output_type": "execute_result",
          "data": {
            "text/html": [
              "\n",
              "  <div id=\"df-6d349ab5-87ae-4cd8-9487-122eb97b9402\">\n",
              "    <div class=\"colab-df-container\">\n",
              "      <div>\n",
              "<style scoped>\n",
              "    .dataframe tbody tr th:only-of-type {\n",
              "        vertical-align: middle;\n",
              "    }\n",
              "\n",
              "    .dataframe tbody tr th {\n",
              "        vertical-align: top;\n",
              "    }\n",
              "\n",
              "    .dataframe thead th {\n",
              "        text-align: right;\n",
              "    }\n",
              "</style>\n",
              "<table border=\"1\" class=\"dataframe\">\n",
              "  <thead>\n",
              "    <tr style=\"text-align: right;\">\n",
              "      <th></th>\n",
              "      <th>Desercion</th>\n",
              "      <th>Viajes_Laborales</th>\n",
              "      <th>Departamento</th>\n",
              "      <th>Carrera</th>\n",
              "      <th>Genero</th>\n",
              "      <th>Puesto</th>\n",
              "      <th>Estado_Civil</th>\n",
              "      <th>Horas_Extra</th>\n",
              "    </tr>\n",
              "  </thead>\n",
              "  <tbody>\n",
              "    <tr>\n",
              "      <th>0</th>\n",
              "      <td>Si</td>\n",
              "      <td>Raramente</td>\n",
              "      <td>Ventas</td>\n",
              "      <td>Ciencias Naturales</td>\n",
              "      <td>Femenino</td>\n",
              "      <td>Ejecutivo de Ventas</td>\n",
              "      <td>Soltero</td>\n",
              "      <td>Si</td>\n",
              "    </tr>\n",
              "    <tr>\n",
              "      <th>1</th>\n",
              "      <td>No</td>\n",
              "      <td>Frecuentemente</td>\n",
              "      <td>Investigacion y Desarrollo</td>\n",
              "      <td>Ciencias Naturales</td>\n",
              "      <td>Masculino</td>\n",
              "      <td>Investigador Cientifico</td>\n",
              "      <td>Casado</td>\n",
              "      <td>No</td>\n",
              "    </tr>\n",
              "    <tr>\n",
              "      <th>2</th>\n",
              "      <td>Si</td>\n",
              "      <td>Raramente</td>\n",
              "      <td>Investigacion y Desarrollo</td>\n",
              "      <td>Otros</td>\n",
              "      <td>Masculino</td>\n",
              "      <td>Tecnico de Laboratorio</td>\n",
              "      <td>Soltero</td>\n",
              "      <td>Si</td>\n",
              "    </tr>\n",
              "    <tr>\n",
              "      <th>3</th>\n",
              "      <td>No</td>\n",
              "      <td>Frecuentemente</td>\n",
              "      <td>Investigacion y Desarrollo</td>\n",
              "      <td>Ciencias Naturales</td>\n",
              "      <td>Femenino</td>\n",
              "      <td>Investigador Cientifico</td>\n",
              "      <td>Casado</td>\n",
              "      <td>Si</td>\n",
              "    </tr>\n",
              "    <tr>\n",
              "      <th>4</th>\n",
              "      <td>No</td>\n",
              "      <td>Raramente</td>\n",
              "      <td>Investigacion y Desarrollo</td>\n",
              "      <td>Medicina</td>\n",
              "      <td>Masculino</td>\n",
              "      <td>Tecnico de Laboratorio</td>\n",
              "      <td>Casado</td>\n",
              "      <td>No</td>\n",
              "    </tr>\n",
              "  </tbody>\n",
              "</table>\n",
              "</div>\n",
              "      <button class=\"colab-df-convert\" onclick=\"convertToInteractive('df-6d349ab5-87ae-4cd8-9487-122eb97b9402')\"\n",
              "              title=\"Convert this dataframe to an interactive table.\"\n",
              "              style=\"display:none;\">\n",
              "        \n",
              "  <svg xmlns=\"http://www.w3.org/2000/svg\" height=\"24px\"viewBox=\"0 0 24 24\"\n",
              "       width=\"24px\">\n",
              "    <path d=\"M0 0h24v24H0V0z\" fill=\"none\"/>\n",
              "    <path d=\"M18.56 5.44l.94 2.06.94-2.06 2.06-.94-2.06-.94-.94-2.06-.94 2.06-2.06.94zm-11 1L8.5 8.5l.94-2.06 2.06-.94-2.06-.94L8.5 2.5l-.94 2.06-2.06.94zm10 10l.94 2.06.94-2.06 2.06-.94-2.06-.94-.94-2.06-.94 2.06-2.06.94z\"/><path d=\"M17.41 7.96l-1.37-1.37c-.4-.4-.92-.59-1.43-.59-.52 0-1.04.2-1.43.59L10.3 9.45l-7.72 7.72c-.78.78-.78 2.05 0 2.83L4 21.41c.39.39.9.59 1.41.59.51 0 1.02-.2 1.41-.59l7.78-7.78 2.81-2.81c.8-.78.8-2.07 0-2.86zM5.41 20L4 18.59l7.72-7.72 1.47 1.35L5.41 20z\"/>\n",
              "  </svg>\n",
              "      </button>\n",
              "      \n",
              "  <style>\n",
              "    .colab-df-container {\n",
              "      display:flex;\n",
              "      flex-wrap:wrap;\n",
              "      gap: 12px;\n",
              "    }\n",
              "\n",
              "    .colab-df-convert {\n",
              "      background-color: #E8F0FE;\n",
              "      border: none;\n",
              "      border-radius: 50%;\n",
              "      cursor: pointer;\n",
              "      display: none;\n",
              "      fill: #1967D2;\n",
              "      height: 32px;\n",
              "      padding: 0 0 0 0;\n",
              "      width: 32px;\n",
              "    }\n",
              "\n",
              "    .colab-df-convert:hover {\n",
              "      background-color: #E2EBFA;\n",
              "      box-shadow: 0px 1px 2px rgba(60, 64, 67, 0.3), 0px 1px 3px 1px rgba(60, 64, 67, 0.15);\n",
              "      fill: #174EA6;\n",
              "    }\n",
              "\n",
              "    [theme=dark] .colab-df-convert {\n",
              "      background-color: #3B4455;\n",
              "      fill: #D2E3FC;\n",
              "    }\n",
              "\n",
              "    [theme=dark] .colab-df-convert:hover {\n",
              "      background-color: #434B5C;\n",
              "      box-shadow: 0px 1px 3px 1px rgba(0, 0, 0, 0.15);\n",
              "      filter: drop-shadow(0px 1px 2px rgba(0, 0, 0, 0.3));\n",
              "      fill: #FFFFFF;\n",
              "    }\n",
              "  </style>\n",
              "\n",
              "      <script>\n",
              "        const buttonEl =\n",
              "          document.querySelector('#df-6d349ab5-87ae-4cd8-9487-122eb97b9402 button.colab-df-convert');\n",
              "        buttonEl.style.display =\n",
              "          google.colab.kernel.accessAllowed ? 'block' : 'none';\n",
              "\n",
              "        async function convertToInteractive(key) {\n",
              "          const element = document.querySelector('#df-6d349ab5-87ae-4cd8-9487-122eb97b9402');\n",
              "          const dataTable =\n",
              "            await google.colab.kernel.invokeFunction('convertToInteractive',\n",
              "                                                     [key], {});\n",
              "          if (!dataTable) return;\n",
              "\n",
              "          const docLinkHtml = 'Like what you see? Visit the ' +\n",
              "            '<a target=\"_blank\" href=https://colab.research.google.com/notebooks/data_table.ipynb>data table notebook</a>'\n",
              "            + ' to learn more about interactive tables.';\n",
              "          element.innerHTML = '';\n",
              "          dataTable['output_type'] = 'display_data';\n",
              "          await google.colab.output.renderOutput(dataTable, element);\n",
              "          const docLink = document.createElement('div');\n",
              "          docLink.innerHTML = docLinkHtml;\n",
              "          element.appendChild(docLink);\n",
              "        }\n",
              "      </script>\n",
              "    </div>\n",
              "  </div>\n",
              "  "
            ],
            "text/plain": [
              "  Desercion Viajes_Laborales  ... Estado_Civil Horas_Extra\n",
              "0        Si        Raramente  ...      Soltero          Si\n",
              "1        No   Frecuentemente  ...       Casado          No\n",
              "2        Si        Raramente  ...      Soltero          Si\n",
              "3        No   Frecuentemente  ...       Casado          Si\n",
              "4        No        Raramente  ...       Casado          No\n",
              "\n",
              "[5 rows x 8 columns]"
            ]
          },
          "metadata": {},
          "execution_count": 13
        }
      ]
    },
    {
      "cell_type": "code",
      "source": [
        "#Viajes Laborales v Desercion\n",
        "fig,axes = plt.subplots(figsize = (8,5))\n",
        "ax = sns.countplot(x='Viajes_Laborales',hue='Desercion', data=df, palette='seismic')\n",
        "ax.set(title=\"Cantidad de Desercion por Viajes Laborales\", xlabel=\"Viajes Laborales\", ylabel=\"Cantidad\")\n",
        "plt.show()"
      ],
      "metadata": {
        "id": "I_RBCoj_e9v6",
        "colab": {
          "base_uri": "https://localhost:8080/",
          "height": 0
        },
        "outputId": "250cd3a5-340e-468b-ad3b-35ff65f7f2dc"
      },
      "execution_count": 14,
      "outputs": [
        {
          "output_type": "display_data",
          "data": {
            "image/png": "[encoded data removed]",
            "text/plain": [
              "<Figure size 576x360 with 1 Axes>"
            ]
          },
          "metadata": {
            "needs_background": "light"
          }
        }
      ]
    },
    {
      "cell_type": "code",
      "source": [
        "#Departamento v Desercion\n",
        "fig,axes = plt.subplots(figsize = (8,5))\n",
        "ax = sns.countplot(x='Departamento',hue='Desercion', data=df, palette='seismic')\n",
        "ax.set(title=\"Cantidad de Desercion por Departamento\", xlabel=\"Departamento\", ylabel=\"Cantidad\")\n",
        "plt.show()"
      ],
      "metadata": {
        "id": "Si53zgz8gEc0",
        "colab": {
          "base_uri": "https://localhost:8080/",
          "height": 0
        },
        "outputId": "bc7dc3b2-6f89-405c-c017-5993849f28b1"
      },
      "execution_count": 15,
      "outputs": [
        {
          "output_type": "display_data",
          "data": {
            "image/png": "[encoded data removed]",
            "text/plain": [
              "<Figure size 576x360 with 1 Axes>"
            ]
          },
          "metadata": {
            "needs_background": "light"
          }
        }
      ]
    },
    {
      "cell_type": "code",
      "source": [
        "#Carrera v Desercion\n",
        "fig,axes = plt.subplots(figsize = (8,5))\n",
        "ax = sns.countplot(x='Carrera',hue='Desercion', data=df, palette='seismic')\n",
        "ax.set(title=\"Cantidad de Desercion por Carrera\", xlabel=\"Carrera\", ylabel=\"Cantidad\")\n",
        "plt.xticks(rotation=45)\n",
        "plt.show()"
      ],
      "metadata": {
        "id": "pFPVJ70XgiPO",
        "colab": {
          "base_uri": "https://localhost:8080/",
          "height": 0
        },
        "outputId": "181f408b-8f01-4137-9c6d-09786c5c80b9"
      },
      "execution_count": 16,
      "outputs": [
        {
          "output_type": "display_data",
          "data": {
            "image/png": "[encoded data removed]",
            "text/plain": [
              "<Figure size 576x360 with 1 Axes>"
            ]
          },
          "metadata": {
            "needs_background": "light"
          }
        }
      ]
    },
    {
      "cell_type": "code",
      "source": [
        "#Genero v Desercion\n",
        "fig,axes = plt.subplots(figsize = (8,5))\n",
        "ax = sns.countplot(x='Genero',hue='Desercion', data=df, palette='seismic')\n",
        "ax.set(title=\"Relacion entre Genero y Desercion\", xlabel=\"Genero\", ylabel=\"Cantidad\")\n",
        "plt.show()"
      ],
      "metadata": {
        "id": "NI2z6d08hqIc",
        "colab": {
          "base_uri": "https://localhost:8080/",
          "height": 0
        },
        "outputId": "2f3a6056-5e35-4555-9e74-2b66cf0625e2"
      },
      "execution_count": 17,
      "outputs": [
        {
          "output_type": "display_data",
          "data": {
            "image/png": "[encoded data removed]",
            "text/plain": [
              "<Figure size 576x360 with 1 Axes>"
            ]
          },
          "metadata": {
            "needs_background": "light"
          }
        }
      ]
    },
    {
      "cell_type": "code",
      "source": [
        "#Puesto v Desercion\n",
        "fig,axes = plt.subplots(figsize = (30,8))\n",
        "ax = sns.countplot(x='Puesto',hue='Desercion', data=df, palette='seismic')\n",
        "ax.set(title=\"Cantidad de Desercion por Puesto\", xlabel=\"Puesto\", ylabel=\"Cantidad\")\n",
        "plt.show()"
      ],
      "metadata": {
        "id": "4REhrB3oiOkS",
        "colab": {
          "base_uri": "https://localhost:8080/",
          "height": 0
        },
        "outputId": "ea982ddd-faa7-49b7-97c8-4461f1868789"
      },
      "execution_count": 18,
      "outputs": [
        {
          "output_type": "display_data",
          "data": {
            "image/png": "[encoded data removed]",
            "text/plain": [
              "<Figure size 2160x576 with 1 Axes>"
            ]
          },
          "metadata": {
            "needs_background": "light"
          }
        }
      ]
    },
    {
      "cell_type": "code",
      "source": [
        "#Horas Extra v Desercion\n",
        "fig,axes = plt.subplots(figsize = (8,5))\n",
        "ax = sns.countplot(x='Horas_Extra',hue='Desercion', data=df, palette='seismic')\n",
        "ax.set(title=\"Cantidad de Desercion por Horas Extra\", xlabel=\"Horas Extra\", ylabel=\"Cantidad\")\n",
        "plt.show()"
      ],
      "metadata": {
        "id": "pppbkmmyi9NW",
        "colab": {
          "base_uri": "https://localhost:8080/",
          "height": 0
        },
        "outputId": "ed8b4588-6f76-49cd-f1ae-a3575bf54113"
      },
      "execution_count": 19,
      "outputs": [
        {
          "output_type": "display_data",
          "data": {
            "image/png": "[encoded data removed]",
            "text/plain": [
              "<Figure size 576x360 with 1 Axes>"
            ]
          },
          "metadata": {
            "needs_background": "light"
          }
        }
      ]
    },
    {
      "cell_type": "code",
      "source": [
        "#Cuantos hombres y mujeres hacen horas extras\n",
        "pd.crosstab(df['Horas_Extra'], df['Genero'])"
      ],
      "metadata": {
        "id": "AAAJAvm2jW7a",
        "colab": {
          "base_uri": "https://localhost:8080/",
          "height": 0
        },
        "outputId": "a898c0a2-847b-49d5-d129-6f313b6c92f4"
      },
      "execution_count": 20,
      "outputs": [
        {
          "output_type": "execute_result",
          "data": {
            "text/html": [
              "\n",
              "  <div id=\"df-79096ac4-198d-4c25-93ec-355d3281959b\">\n",
              "    <div class=\"colab-df-container\">\n",
              "      <div>\n",
              "<style scoped>\n",
              "    .dataframe tbody tr th:only-of-type {\n",
              "        vertical-align: middle;\n",
              "    }\n",
              "\n",
              "    .dataframe tbody tr th {\n",
              "        vertical-align: top;\n",
              "    }\n",
              "\n",
              "    .dataframe thead th {\n",
              "        text-align: right;\n",
              "    }\n",
              "</style>\n",
              "<table border=\"1\" class=\"dataframe\">\n",
              "  <thead>\n",
              "    <tr style=\"text-align: right;\">\n",
              "      <th>Genero</th>\n",
              "      <th>Femenino</th>\n",
              "      <th>Masculino</th>\n",
              "    </tr>\n",
              "    <tr>\n",
              "      <th>Horas_Extra</th>\n",
              "      <th></th>\n",
              "      <th></th>\n",
              "    </tr>\n",
              "  </thead>\n",
              "  <tbody>\n",
              "    <tr>\n",
              "      <th>No</th>\n",
              "      <td>408</td>\n",
              "      <td>646</td>\n",
              "    </tr>\n",
              "    <tr>\n",
              "      <th>Si</th>\n",
              "      <td>180</td>\n",
              "      <td>236</td>\n",
              "    </tr>\n",
              "  </tbody>\n",
              "</table>\n",
              "</div>\n",
              "      <button class=\"colab-df-convert\" onclick=\"convertToInteractive('df-79096ac4-198d-4c25-93ec-355d3281959b')\"\n",
              "              title=\"Convert this dataframe to an interactive table.\"\n",
              "              style=\"display:none;\">\n",
              "        \n",
              "  <svg xmlns=\"http://www.w3.org/2000/svg\" height=\"24px\"viewBox=\"0 0 24 24\"\n",
              "       width=\"24px\">\n",
              "    <path d=\"M0 0h24v24H0V0z\" fill=\"none\"/>\n",
              "    <path d=\"M18.56 5.44l.94 2.06.94-2.06 2.06-.94-2.06-.94-.94-2.06-.94 2.06-2.06.94zm-11 1L8.5 8.5l.94-2.06 2.06-.94-2.06-.94L8.5 2.5l-.94 2.06-2.06.94zm10 10l.94 2.06.94-2.06 2.06-.94-2.06-.94-.94-2.06-.94 2.06-2.06.94z\"/><path d=\"M17.41 7.96l-1.37-1.37c-.4-.4-.92-.59-1.43-.59-.52 0-1.04.2-1.43.59L10.3 9.45l-7.72 7.72c-.78.78-.78 2.05 0 2.83L4 21.41c.39.39.9.59 1.41.59.51 0 1.02-.2 1.41-.59l7.78-7.78 2.81-2.81c.8-.78.8-2.07 0-2.86zM5.41 20L4 18.59l7.72-7.72 1.47 1.35L5.41 20z\"/>\n",
              "  </svg>\n",
              "      </button>\n",
              "      \n",
              "  <style>\n",
              "    .colab-df-container {\n",
              "      display:flex;\n",
              "      flex-wrap:wrap;\n",
              "      gap: 12px;\n",
              "    }\n",
              "\n",
              "    .colab-df-convert {\n",
              "      background-color: #E8F0FE;\n",
              "      border: none;\n",
              "      border-radius: 50%;\n",
              "      cursor: pointer;\n",
              "      display: none;\n",
              "      fill: #1967D2;\n",
              "      height: 32px;\n",
              "      padding: 0 0 0 0;\n",
              "      width: 32px;\n",
              "    }\n",
              "\n",
              "    .colab-df-convert:hover {\n",
              "      background-color: #E2EBFA;\n",
              "      box-shadow: 0px 1px 2px rgba(60, 64, 67, 0.3), 0px 1px 3px 1px rgba(60, 64, 67, 0.15);\n",
              "      fill: #174EA6;\n",
              "    }\n",
              "\n",
              "    [theme=dark] .colab-df-convert {\n",
              "      background-color: #3B4455;\n",
              "      fill: #D2E3FC;\n",
              "    }\n",
              "\n",
              "    [theme=dark] .colab-df-convert:hover {\n",
              "      background-color: #434B5C;\n",
              "      box-shadow: 0px 1px 3px 1px rgba(0, 0, 0, 0.15);\n",
              "      filter: drop-shadow(0px 1px 2px rgba(0, 0, 0, 0.3));\n",
              "      fill: #FFFFFF;\n",
              "    }\n",
              "  </style>\n",
              "\n",
              "      <script>\n",
              "        const buttonEl =\n",
              "          document.querySelector('#df-79096ac4-198d-4c25-93ec-355d3281959b button.colab-df-convert');\n",
              "        buttonEl.style.display =\n",
              "          google.colab.kernel.accessAllowed ? 'block' : 'none';\n",
              "\n",
              "        async function convertToInteractive(key) {\n",
              "          const element = document.querySelector('#df-79096ac4-198d-4c25-93ec-355d3281959b');\n",
              "          const dataTable =\n",
              "            await google.colab.kernel.invokeFunction('convertToInteractive',\n",
              "                                                     [key], {});\n",
              "          if (!dataTable) return;\n",
              "\n",
              "          const docLinkHtml = 'Like what you see? Visit the ' +\n",
              "            '<a target=\"_blank\" href=https://colab.research.google.com/notebooks/data_table.ipynb>data table notebook</a>'\n",
              "            + ' to learn more about interactive tables.';\n",
              "          element.innerHTML = '';\n",
              "          dataTable['output_type'] = 'display_data';\n",
              "          await google.colab.output.renderOutput(dataTable, element);\n",
              "          const docLink = document.createElement('div');\n",
              "          docLink.innerHTML = docLinkHtml;\n",
              "          element.appendChild(docLink);\n",
              "        }\n",
              "      </script>\n",
              "    </div>\n",
              "  </div>\n",
              "  "
            ],
            "text/plain": [
              "Genero       Femenino  Masculino\n",
              "Horas_Extra                     \n",
              "No                408        646\n",
              "Si                180        236"
            ]
          },
          "metadata": {},
          "execution_count": 20
        }
      ]
    },
    {
      "cell_type": "markdown",
      "source": [
        "#### Conclusiones:\n",
        "\n",
        "\n",
        "*   La mayoría de los empleados viajan raramente, y el nivel de deserción de dichos empleados es mayor. \n",
        "*   La mayor cantidad de los empleados trabajan en Investigación y Desarrollo, pero los empleados del Departamento de Ventas (particularmete los representantes de ventas) tienen una mayor tendencia a dejar el trabajo.\n",
        "*   Los empleados masculinos son mas propensos a hacer horas extras y tienen mayor deserción que las mujeres."
      ],
      "metadata": {
        "id": "Mzep7YYljs80"
      }
    },
    {
      "cell_type": "markdown",
      "source": [
        "### **Características numericas:**"
      ],
      "metadata": {
        "id": "QEo4FVN_lndQ"
      }
    },
    {
      "cell_type": "code",
      "source": [
        "numericas = df.select_dtypes(include=[np.int64]).columns #selecciona todas las columnas del dataset cuyo dtype sea int64\n",
        "print(\"El total de caracteristicas numericas es:\", len(numericas))"
      ],
      "metadata": {
        "id": "MtgomABSmhLZ",
        "colab": {
          "base_uri": "https://localhost:8080/"
        },
        "outputId": "bc30e3d2-6336-43ff-c4cb-6338879bced4"
      },
      "execution_count": 21,
      "outputs": [
        {
          "output_type": "stream",
          "name": "stdout",
          "text": [
            "El total de caracteristicas numericas es: 26\n"
          ]
        }
      ]
    },
    {
      "cell_type": "code",
      "source": [
        "df[numericas].head()"
      ],
      "metadata": {
        "id": "YJa47XkTmweS",
        "colab": {
          "base_uri": "https://localhost:8080/",
          "height": 0
        },
        "outputId": "3a2ef607-36c4-4652-b5f2-1ebe1010a67a"
      },
      "execution_count": 22,
      "outputs": [
        {
          "output_type": "execute_result",
          "data": {
            "text/html": [
              "\n",
              "  <div id=\"df-c55138c5-217c-4a78-8c87-1df919d96b31\">\n",
              "    <div class=\"colab-df-container\">\n",
              "      <div>\n",
              "<style scoped>\n",
              "    .dataframe tbody tr th:only-of-type {\n",
              "        vertical-align: middle;\n",
              "    }\n",
              "\n",
              "    .dataframe tbody tr th {\n",
              "        vertical-align: top;\n",
              "    }\n",
              "\n",
              "    .dataframe thead th {\n",
              "        text-align: right;\n",
              "    }\n",
              "</style>\n",
              "<table border=\"1\" class=\"dataframe\">\n",
              "  <thead>\n",
              "    <tr style=\"text-align: right;\">\n",
              "      <th></th>\n",
              "      <th>Edad</th>\n",
              "      <th>Tarifa_Diaria</th>\n",
              "      <th>Distancia_Casa</th>\n",
              "      <th>Educacion</th>\n",
              "      <th>Cantidad_Empleados</th>\n",
              "      <th>ID_Empleado</th>\n",
              "      <th>Satisfaccion_Ambiente</th>\n",
              "      <th>Tarifa_Hora</th>\n",
              "      <th>Participacion_Laboral</th>\n",
              "      <th>Nivel_Laboral</th>\n",
              "      <th>Satisfaccion_Laboral</th>\n",
              "      <th>Ingresos_Mensuales</th>\n",
              "      <th>Tarifa_Mensual</th>\n",
              "      <th>Cant_Empresas_Trabajadas</th>\n",
              "      <th>Aumento_Salario_Porcentual</th>\n",
              "      <th>Clasificacion_Rendimiento</th>\n",
              "      <th>Satisfaccion_Relacion</th>\n",
              "      <th>Horas_Habituales</th>\n",
              "      <th>Nivel_Opciones_Acciones</th>\n",
              "      <th>Antiguedad_Laboral_Personal</th>\n",
              "      <th>Cantidad_Capacitaciones_Anuales</th>\n",
              "      <th>Equilibrio_Laboral_Personal</th>\n",
              "      <th>Antiguedad_Compania</th>\n",
              "      <th>Antiguedad_Puesto</th>\n",
              "      <th>Tiempo_Ultimo_Ascenso</th>\n",
              "      <th>Tiempo_Jefe_Actual</th>\n",
              "    </tr>\n",
              "  </thead>\n",
              "  <tbody>\n",
              "    <tr>\n",
              "      <th>0</th>\n",
              "      <td>41</td>\n",
              "      <td>1102</td>\n",
              "      <td>1</td>\n",
              "      <td>2</td>\n",
              "      <td>1</td>\n",
              "      <td>1</td>\n",
              "      <td>2</td>\n",
              "      <td>94</td>\n",
              "      <td>3</td>\n",
              "      <td>2</td>\n",
              "      <td>4</td>\n",
              "      <td>5993</td>\n",
              "      <td>19479</td>\n",
              "      <td>8</td>\n",
              "      <td>11</td>\n",
              "      <td>3</td>\n",
              "      <td>1</td>\n",
              "      <td>80</td>\n",
              "      <td>0</td>\n",
              "      <td>8</td>\n",
              "      <td>0</td>\n",
              "      <td>1</td>\n",
              "      <td>6</td>\n",
              "      <td>4</td>\n",
              "      <td>0</td>\n",
              "      <td>5</td>\n",
              "    </tr>\n",
              "    <tr>\n",
              "      <th>1</th>\n",
              "      <td>49</td>\n",
              "      <td>279</td>\n",
              "      <td>8</td>\n",
              "      <td>1</td>\n",
              "      <td>1</td>\n",
              "      <td>2</td>\n",
              "      <td>3</td>\n",
              "      <td>61</td>\n",
              "      <td>2</td>\n",
              "      <td>2</td>\n",
              "      <td>2</td>\n",
              "      <td>5130</td>\n",
              "      <td>24907</td>\n",
              "      <td>1</td>\n",
              "      <td>23</td>\n",
              "      <td>4</td>\n",
              "      <td>4</td>\n",
              "      <td>80</td>\n",
              "      <td>1</td>\n",
              "      <td>10</td>\n",
              "      <td>3</td>\n",
              "      <td>3</td>\n",
              "      <td>10</td>\n",
              "      <td>7</td>\n",
              "      <td>1</td>\n",
              "      <td>7</td>\n",
              "    </tr>\n",
              "    <tr>\n",
              "      <th>2</th>\n",
              "      <td>37</td>\n",
              "      <td>1373</td>\n",
              "      <td>2</td>\n",
              "      <td>2</td>\n",
              "      <td>1</td>\n",
              "      <td>4</td>\n",
              "      <td>4</td>\n",
              "      <td>92</td>\n",
              "      <td>2</td>\n",
              "      <td>1</td>\n",
              "      <td>3</td>\n",
              "      <td>2090</td>\n",
              "      <td>2396</td>\n",
              "      <td>6</td>\n",
              "      <td>15</td>\n",
              "      <td>3</td>\n",
              "      <td>2</td>\n",
              "      <td>80</td>\n",
              "      <td>0</td>\n",
              "      <td>7</td>\n",
              "      <td>3</td>\n",
              "      <td>3</td>\n",
              "      <td>0</td>\n",
              "      <td>0</td>\n",
              "      <td>0</td>\n",
              "      <td>0</td>\n",
              "    </tr>\n",
              "    <tr>\n",
              "      <th>3</th>\n",
              "      <td>33</td>\n",
              "      <td>1392</td>\n",
              "      <td>3</td>\n",
              "      <td>4</td>\n",
              "      <td>1</td>\n",
              "      <td>5</td>\n",
              "      <td>4</td>\n",
              "      <td>56</td>\n",
              "      <td>3</td>\n",
              "      <td>1</td>\n",
              "      <td>3</td>\n",
              "      <td>2909</td>\n",
              "      <td>23159</td>\n",
              "      <td>1</td>\n",
              "      <td>11</td>\n",
              "      <td>3</td>\n",
              "      <td>3</td>\n",
              "      <td>80</td>\n",
              "      <td>0</td>\n",
              "      <td>8</td>\n",
              "      <td>3</td>\n",
              "      <td>3</td>\n",
              "      <td>8</td>\n",
              "      <td>7</td>\n",
              "      <td>3</td>\n",
              "      <td>0</td>\n",
              "    </tr>\n",
              "    <tr>\n",
              "      <th>4</th>\n",
              "      <td>27</td>\n",
              "      <td>591</td>\n",
              "      <td>2</td>\n",
              "      <td>1</td>\n",
              "      <td>1</td>\n",
              "      <td>7</td>\n",
              "      <td>1</td>\n",
              "      <td>40</td>\n",
              "      <td>3</td>\n",
              "      <td>1</td>\n",
              "      <td>2</td>\n",
              "      <td>3468</td>\n",
              "      <td>16632</td>\n",
              "      <td>9</td>\n",
              "      <td>12</td>\n",
              "      <td>3</td>\n",
              "      <td>4</td>\n",
              "      <td>80</td>\n",
              "      <td>1</td>\n",
              "      <td>6</td>\n",
              "      <td>3</td>\n",
              "      <td>3</td>\n",
              "      <td>2</td>\n",
              "      <td>2</td>\n",
              "      <td>2</td>\n",
              "      <td>2</td>\n",
              "    </tr>\n",
              "  </tbody>\n",
              "</table>\n",
              "</div>\n",
              "      <button class=\"colab-df-convert\" onclick=\"convertToInteractive('df-c55138c5-217c-4a78-8c87-1df919d96b31')\"\n",
              "              title=\"Convert this dataframe to an interactive table.\"\n",
              "              style=\"display:none;\">\n",
              "        \n",
              "  <svg xmlns=\"http://www.w3.org/2000/svg\" height=\"24px\"viewBox=\"0 0 24 24\"\n",
              "       width=\"24px\">\n",
              "    <path d=\"M0 0h24v24H0V0z\" fill=\"none\"/>\n",
              "    <path d=\"M18.56 5.44l.94 2.06.94-2.06 2.06-.94-2.06-.94-.94-2.06-.94 2.06-2.06.94zm-11 1L8.5 8.5l.94-2.06 2.06-.94-2.06-.94L8.5 2.5l-.94 2.06-2.06.94zm10 10l.94 2.06.94-2.06 2.06-.94-2.06-.94-.94-2.06-.94 2.06-2.06.94z\"/><path d=\"M17.41 7.96l-1.37-1.37c-.4-.4-.92-.59-1.43-.59-.52 0-1.04.2-1.43.59L10.3 9.45l-7.72 7.72c-.78.78-.78 2.05 0 2.83L4 21.41c.39.39.9.59 1.41.59.51 0 1.02-.2 1.41-.59l7.78-7.78 2.81-2.81c.8-.78.8-2.07 0-2.86zM5.41 20L4 18.59l7.72-7.72 1.47 1.35L5.41 20z\"/>\n",
              "  </svg>\n",
              "      </button>\n",
              "      \n",
              "  <style>\n",
              "    .colab-df-container {\n",
              "      display:flex;\n",
              "      flex-wrap:wrap;\n",
              "      gap: 12px;\n",
              "    }\n",
              "\n",
              "    .colab-df-convert {\n",
              "      background-color: #E8F0FE;\n",
              "      border: none;\n",
              "      border-radius: 50%;\n",
              "      cursor: pointer;\n",
              "      display: none;\n",
              "      fill: #1967D2;\n",
              "      height: 32px;\n",
              "      padding: 0 0 0 0;\n",
              "      width: 32px;\n",
              "    }\n",
              "\n",
              "    .colab-df-convert:hover {\n",
              "      background-color: #E2EBFA;\n",
              "      box-shadow: 0px 1px 2px rgba(60, 64, 67, 0.3), 0px 1px 3px 1px rgba(60, 64, 67, 0.15);\n",
              "      fill: #174EA6;\n",
              "    }\n",
              "\n",
              "    [theme=dark] .colab-df-convert {\n",
              "      background-color: #3B4455;\n",
              "      fill: #D2E3FC;\n",
              "    }\n",
              "\n",
              "    [theme=dark] .colab-df-convert:hover {\n",
              "      background-color: #434B5C;\n",
              "      box-shadow: 0px 1px 3px 1px rgba(0, 0, 0, 0.15);\n",
              "      filter: drop-shadow(0px 1px 2px rgba(0, 0, 0, 0.3));\n",
              "      fill: #FFFFFF;\n",
              "    }\n",
              "  </style>\n",
              "\n",
              "      <script>\n",
              "        const buttonEl =\n",
              "          document.querySelector('#df-c55138c5-217c-4a78-8c87-1df919d96b31 button.colab-df-convert');\n",
              "        buttonEl.style.display =\n",
              "          google.colab.kernel.accessAllowed ? 'block' : 'none';\n",
              "\n",
              "        async function convertToInteractive(key) {\n",
              "          const element = document.querySelector('#df-c55138c5-217c-4a78-8c87-1df919d96b31');\n",
              "          const dataTable =\n",
              "            await google.colab.kernel.invokeFunction('convertToInteractive',\n",
              "                                                     [key], {});\n",
              "          if (!dataTable) return;\n",
              "\n",
              "          const docLinkHtml = 'Like what you see? Visit the ' +\n",
              "            '<a target=\"_blank\" href=https://colab.research.google.com/notebooks/data_table.ipynb>data table notebook</a>'\n",
              "            + ' to learn more about interactive tables.';\n",
              "          element.innerHTML = '';\n",
              "          dataTable['output_type'] = 'display_data';\n",
              "          await google.colab.output.renderOutput(dataTable, element);\n",
              "          const docLink = document.createElement('div');\n",
              "          docLink.innerHTML = docLinkHtml;\n",
              "          element.appendChild(docLink);\n",
              "        }\n",
              "      </script>\n",
              "    </div>\n",
              "  </div>\n",
              "  "
            ],
            "text/plain": [
              "   Edad  Tarifa_Diaria  ...  Tiempo_Ultimo_Ascenso  Tiempo_Jefe_Actual\n",
              "0    41           1102  ...                      0                   5\n",
              "1    49            279  ...                      1                   7\n",
              "2    37           1373  ...                      0                   0\n",
              "3    33           1392  ...                      3                   0\n",
              "4    27            591  ...                      2                   2\n",
              "\n",
              "[5 rows x 26 columns]"
            ]
          },
          "metadata": {},
          "execution_count": 22
        }
      ]
    },
    {
      "cell_type": "code",
      "source": [
        "# Distribucion de Edad\n",
        "fig,axes = plt.subplots(figsize = (15,5))\n",
        "ax = sns.distplot(df['Edad'])\n",
        "plt.show()"
      ],
      "metadata": {
        "id": "72UpNDsCog90",
        "colab": {
          "base_uri": "https://localhost:8080/",
          "height": 0
        },
        "outputId": "ad194227-a6ad-4db4-9379-5345eaaa87ac"
      },
      "execution_count": 23,
      "outputs": [
        {
          "output_type": "stream",
          "name": "stderr",
          "text": [
            "/usr/local/lib/python3.7/dist-packages/seaborn/distributions.py:2619: FutureWarning: `distplot` is a deprecated function and will be removed in a future version. Please adapt your code to use either `displot` (a figure-level function with similar flexibility) or `histplot` (an axes-level function for histograms).\n",
            "  warnings.warn(msg, FutureWarning)\n"
          ]
        },
        {
          "output_type": "display_data",
          "data": {
            "image/png": "[encoded data removed]",
            "text/plain": [
              "<Figure size 1080x360 with 1 Axes>"
            ]
          },
          "metadata": {
            "needs_background": "light"
          }
        }
      ]
    },
    {
      "cell_type": "markdown",
      "source": [
        "Veamos en primer lugar, un análisis de los datos numericos que son calificativos:"
      ],
      "metadata": {
        "id": "HIKc40phumNq"
      }
    },
    {
      "cell_type": "code",
      "source": [
        "#Educacion\n",
        "df['Educacion'].value_counts()"
      ],
      "metadata": {
        "id": "xB6_0GHQqLm3",
        "colab": {
          "base_uri": "https://localhost:8080/"
        },
        "outputId": "0d63c55f-e95a-4cb1-f89e-b440e359257b"
      },
      "execution_count": 24,
      "outputs": [
        {
          "output_type": "execute_result",
          "data": {
            "text/plain": [
              "3    572\n",
              "4    398\n",
              "2    282\n",
              "1    170\n",
              "5     48\n",
              "Name: Educacion, dtype: int64"
            ]
          },
          "metadata": {},
          "execution_count": 24
        }
      ]
    },
    {
      "cell_type": "code",
      "source": [
        "edu_map = {1 :'Menor a Universitario', 2: 'Universitario sin terminar', 3 :'Universitario Completo', 4 :'Master', 5: 'Doctorado'} #definicion textual de los niveles educativos.\n",
        "fig,axes = plt.subplots(figsize = (15,5))\n",
        "ax = sns.countplot(x=df['Educacion'].map(edu_map), hue='Desercion', data=df, palette='prism')\n",
        "ax.set(title=\"Cantidad de Desercion por Nivel Educativo\", xlabel=\"Nivel Educativo\", ylabel=\"Cantidad\")\n",
        "plt.show()\n"
      ],
      "metadata": {
        "id": "4lG2RFxAqWRX",
        "colab": {
          "base_uri": "https://localhost:8080/",
          "height": 0
        },
        "outputId": "055f054a-f323-4665-97b9-49dfd14b70c4"
      },
      "execution_count": 25,
      "outputs": [
        {
          "output_type": "display_data",
          "data": {
            "image/png": "[encoded data removed]",
            "text/plain": [
              "<Figure size 1080x360 with 1 Axes>"
            ]
          },
          "metadata": {
            "needs_background": "light"
          }
        }
      ]
    },
    {
      "cell_type": "code",
      "source": [
        "#Satisfaccion Ambiente Laboral\n",
        "df['Satisfaccion_Ambiente'].value_counts()"
      ],
      "metadata": {
        "id": "4N-Q9ELbsDb3",
        "colab": {
          "base_uri": "https://localhost:8080/"
        },
        "outputId": "ae058278-9ec1-40e0-e1c2-a68fb7855d6c"
      },
      "execution_count": 26,
      "outputs": [
        {
          "output_type": "execute_result",
          "data": {
            "text/plain": [
              "3    453\n",
              "4    446\n",
              "2    287\n",
              "1    284\n",
              "Name: Satisfaccion_Ambiente, dtype: int64"
            ]
          },
          "metadata": {},
          "execution_count": 26
        }
      ]
    },
    {
      "cell_type": "code",
      "source": [
        "#Participacion Laboral\n",
        "df['Participacion_Laboral'].value_counts()"
      ],
      "metadata": {
        "id": "8JszuZvOsSb-",
        "colab": {
          "base_uri": "https://localhost:8080/"
        },
        "outputId": "2cefb693-c042-405c-a010-db63b20f44b5"
      },
      "execution_count": 27,
      "outputs": [
        {
          "output_type": "execute_result",
          "data": {
            "text/plain": [
              "3    868\n",
              "2    375\n",
              "4    144\n",
              "1     83\n",
              "Name: Participacion_Laboral, dtype: int64"
            ]
          },
          "metadata": {},
          "execution_count": 27
        }
      ]
    },
    {
      "cell_type": "markdown",
      "source": [
        "#### Conclusiones:\n",
        "\n",
        "* Los empleados en promedio tienen entre 25 y 40 años.   \n",
        "* La mayoría de los empleados se recibieron en alguna carrera universitaria, seguidos por el nivel educativo \"Master\". La deserción en los que finalizaron la universidad es mayor, posiblemente porque poseen una mayor expectativa para con la empresa.\n",
        "*  La Satisfaccion por el Ambiente Laboral puede ser calificada como alta o media, lo que significa que son muy pocos los empleados a quienes no les gusta el ambiente laboral por lo cual no podría considerarse una causa de deserción.\n",
        "*  De la misma manera, la participacion laboral es bastante alta."
      ],
      "metadata": {
        "id": "jQzKuQzBseDd"
      }
    },
    {
      "cell_type": "markdown",
      "source": [
        "Continuemos con un análisis de caracteristicas numericas exactas:"
      ],
      "metadata": {
        "id": "o9xqBC24u47E"
      }
    },
    {
      "cell_type": "code",
      "source": [
        "# Ingresos Mensuales\n",
        "fig,axes = plt.subplots(figsize = (12,8))\n",
        "ax = sns.distplot(df['Ingresos_Mensuales'],hist=False)\n",
        "ax.set(xlabel=\"Ingresos Mensuales\", ylabel=\"Frecuencia\")\n",
        "plt.show()"
      ],
      "metadata": {
        "id": "pLkFxxsMvXku",
        "colab": {
          "base_uri": "https://localhost:8080/",
          "height": 0
        },
        "outputId": "e9e8deb3-53d4-4802-faea-2b90f06bf60d"
      },
      "execution_count": 28,
      "outputs": [
        {
          "output_type": "stream",
          "name": "stderr",
          "text": [
            "/usr/local/lib/python3.7/dist-packages/seaborn/distributions.py:2619: FutureWarning: `distplot` is a deprecated function and will be removed in a future version. Please adapt your code to use either `displot` (a figure-level function with similar flexibility) or `kdeplot` (an axes-level function for kernel density plots).\n",
            "  warnings.warn(msg, FutureWarning)\n"
          ]
        },
        {
          "output_type": "display_data",
          "data": {
            "image/png": "[encoded data removed]",
            "text/plain": [
              "<Figure size 864x576 with 1 Axes>"
            ]
          },
          "metadata": {
            "needs_background": "light"
          }
        }
      ]
    },
    {
      "cell_type": "code",
      "source": [
        "#Boxplot de ingresos mensuales\n",
        "fig,axes = plt.subplots(figsize = (10,5))\n",
        "ax = sns.boxplot(df['Ingresos_Mensuales'])\n",
        "ax.set(xlabel=\"Ingresos Mensuales\")"
      ],
      "metadata": {
        "id": "Vac512NuxSxT",
        "colab": {
          "base_uri": "https://localhost:8080/",
          "height": 0
        },
        "outputId": "cbfc0997-3e8a-4d03-de43-9ecfea68388d"
      },
      "execution_count": 29,
      "outputs": [
        {
          "output_type": "stream",
          "name": "stderr",
          "text": [
            "/usr/local/lib/python3.7/dist-packages/seaborn/_decorators.py:43: FutureWarning: Pass the following variable as a keyword arg: x. From version 0.12, the only valid positional argument will be `data`, and passing other arguments without an explicit keyword will result in an error or misinterpretation.\n",
            "  FutureWarning\n"
          ]
        },
        {
          "output_type": "execute_result",
          "data": {
            "text/plain": [
              "[Text(0.5, 0, 'Ingresos Mensuales')]"
            ]
          },
          "metadata": {},
          "execution_count": 29
        },
        {
          "output_type": "display_data",
          "data": {
            "image/png": "[encoded data removed]",
            "text/plain": [
              "<Figure size 720x360 with 1 Axes>"
            ]
          },
          "metadata": {
            "needs_background": "light"
          }
        }
      ]
    },
    {
      "cell_type": "code",
      "source": [
        "#Cantidad de empleados agrupados por edad\n",
        "empleadoEdad = df.groupby('Edad')['Cantidad_Empleados'].sum().sort_values(ascending=False)\n",
        "empleadoEdad.head()"
      ],
      "metadata": {
        "id": "xVv6eYJ9zOUv",
        "colab": {
          "base_uri": "https://localhost:8080/"
        },
        "outputId": "d01bd2e8-dedd-411d-a91a-6628a1f28c09"
      },
      "execution_count": 30,
      "outputs": [
        {
          "output_type": "execute_result",
          "data": {
            "text/plain": [
              "Edad\n",
              "35    78\n",
              "34    77\n",
              "36    69\n",
              "31    69\n",
              "29    68\n",
              "Name: Cantidad_Empleados, dtype: int64"
            ]
          },
          "metadata": {},
          "execution_count": 30
        }
      ]
    },
    {
      "cell_type": "code",
      "source": [
        "#Nivel Laboral\n",
        "df['Nivel_Laboral'].value_counts()"
      ],
      "metadata": {
        "id": "9RbtSqnx0q-Q",
        "colab": {
          "base_uri": "https://localhost:8080/"
        },
        "outputId": "3c86e1d6-6632-4311-f2ee-40154b52bd60"
      },
      "execution_count": 31,
      "outputs": [
        {
          "output_type": "execute_result",
          "data": {
            "text/plain": [
              "1    543\n",
              "2    534\n",
              "3    218\n",
              "4    106\n",
              "5     69\n",
              "Name: Nivel_Laboral, dtype: int64"
            ]
          },
          "metadata": {},
          "execution_count": 31
        }
      ]
    },
    {
      "cell_type": "code",
      "source": [
        "#Nivel Laboral v Desercion\n",
        "fig,axes = plt.subplots(figsize = (8,5))\n",
        "ax = sns.countplot(x='Nivel_Laboral',hue='Desercion', data=df,palette='prism')\n",
        "ax.set(title=\"Cantidad de Desercion por Nivel Laboral\", xlabel=\"Nivel Laboral\", ylabel=\"Cantidad\")\n",
        "plt.show()"
      ],
      "metadata": {
        "id": "ot_km4hn02l3",
        "colab": {
          "base_uri": "https://localhost:8080/",
          "height": 0
        },
        "outputId": "927c5559-3c5f-49c2-f75b-ddf7171979ba"
      },
      "execution_count": 32,
      "outputs": [
        {
          "output_type": "display_data",
          "data": {
            "image/png": "[encoded data removed]",
            "text/plain": [
              "<Figure size 576x360 with 1 Axes>"
            ]
          },
          "metadata": {
            "needs_background": "light"
          }
        }
      ]
    },
    {
      "cell_type": "code",
      "source": [
        "#Ingresos v Edad v Desercion\n",
        "fig,axes = plt.subplots(figsize = (20,10))\n",
        "ax = sns.scatterplot(x='Edad',y='Ingresos_Mensuales',hue='Desercion', data=df,palette='prism', alpha=0.9)\n",
        "ax.set(title=\"Cantidad de Desercion por Edad e Ingresos Mensuales\", xlabel=\"Edad\", ylabel=\"Ingresos Mensuales\")\n",
        "plt.show()"
      ],
      "metadata": {
        "id": "zUzzGoqV2UXz",
        "colab": {
          "base_uri": "https://localhost:8080/",
          "height": 0
        },
        "outputId": "a2b03b76-fb53-4225-f9a5-c93371fa26b3"
      },
      "execution_count": 33,
      "outputs": [
        {
          "output_type": "display_data",
          "data": {
            "image/png": "[encoded data removed]",
            "text/plain": [
              "<Figure size 1440x720 with 1 Axes>"
            ]
          },
          "metadata": {
            "needs_background": "light"
          }
        }
      ]
    },
    {
      "cell_type": "code",
      "source": [
        "#Antiguedad v Jefe v Desercion\n",
        "fig,axes = plt.subplots(figsize = (20,10))\n",
        "ax = sns.barplot(x='Antiguedad_Puesto',y='Tiempo_Jefe_Actual',hue='Desercion', data=df,palette='prism', alpha=0.7)\n",
        "ax.set(title=\"Cantidad de Desercion por Antiguedad en Puesto y Tiempo con Jefe Actual\", xlabel=\"Antiguedad en Puesto\", ylabel=\"Tiempo con Jefe Actual\")\n",
        "plt.show()"
      ],
      "metadata": {
        "id": "ubsltTM-6cD6",
        "colab": {
          "base_uri": "https://localhost:8080/",
          "height": 0
        },
        "outputId": "eaf090de-cb99-4b49-fd88-2b1e66cbbde9"
      },
      "execution_count": 34,
      "outputs": [
        {
          "output_type": "display_data",
          "data": {
            "image/png": "[encoded data removed]",
            "text/plain": [
              "<Figure size 1440x720 with 1 Axes>"
            ]
          },
          "metadata": {
            "needs_background": "light"
          }
        }
      ]
    },
    {
      "cell_type": "code",
      "source": [
        "#Nivel, Antiguedad, Ingresos Mensuales\n",
        "fig,axes = plt.subplots(figsize = (15,10))\n",
        "ax = sns.scatterplot(x='Antiguedad_Laboral_Personal',y='Ingresos_Mensuales',hue='Nivel_Laboral', data=df,palette='prism', alpha=0.7)\n",
        "ax.set(title=\"Nivel Laboral e Ingresos segun la Antiguedad Personal\", xlabel=\"Antiguedad Laboral Personal\", ylabel=\"Ingresos Mensuales\")\n",
        "plt.show()"
      ],
      "metadata": {
        "id": "AHG-BMTe_T2t",
        "colab": {
          "base_uri": "https://localhost:8080/",
          "height": 0
        },
        "outputId": "22474087-3cee-4fce-8d8e-11751fbcbcc0"
      },
      "execution_count": 35,
      "outputs": [
        {
          "output_type": "display_data",
          "data": {
            "image/png": "[encoded data removed]",
            "text/plain": [
              "<Figure size 1080x720 with 1 Axes>"
            ]
          },
          "metadata": {
            "needs_background": "light"
          }
        }
      ]
    },
    {
      "cell_type": "markdown",
      "source": [
        "#### **Conclusiones:**\n",
        "\n",
        "* A medida que la edad avanza, se incrementa salario mensual. Indicando que la antiguedad y experiencia generan ingresos mayores. En cuanto a deserción, las personas menores a 40 tienen una mayor tendencia a dejar la empresa.\n",
        "* En cuanto al nivel laboral dentro de la empresa, a mayor nivel menor deserción; por lo cual las personas que no tienen crecimiento profesional se ven mas propensas a renunciar.\n",
        "* Sin embargo, vemos que mientras mas antiguedad tenga el empleado en el puesto, mas tiempo trabaja con el mismo jefe. Esta poca rotatividad genera un incremento considerable en la deserción. Habiendo casos en donde hubo mas personas renunciando que manteniendo el puesto. \n",
        "* Las personas que poseen una antiguedad laboral personal mayor (es decir, no solo dentro de la empresa) poseen un nivel laboral y un salario mayor a que las personas con poca experiencia. Podemos ver que aquellas personas que han trabajado por mas de 20 años acaparan los niveles y los salarios mas altos."
      ],
      "metadata": {
        "id": "nolcOuro2CWN"
      }
    },
    {
      "cell_type": "markdown",
      "source": [
        "## **Modelos Predictivos**"
      ],
      "metadata": {
        "id": "R-l1K-ZPzAU7"
      }
    },
    {
      "cell_type": "code",
      "source": [
        "from sklearn.model_selection import train_test_split #separar en train y test\n",
        "from sklearn.metrics import accuracy_score           #calcular la metrica accuracy"
      ],
      "metadata": {
        "id": "EqH5ODQ40FCE"
      },
      "execution_count": 36,
      "outputs": []
    },
    {
      "cell_type": "markdown",
      "source": [
        "### **¿Por qué Random Forest sería el mejor algoritmo para nuestro modelo?**\n",
        "Como fue indicado al principio, el objetivo del modelo es conocer las principales causas de deserción. Por la naturaleza del dataset, necesitamos aplicar un algoritmo de clasificación; siendo la variable target \"Deserción\".\n",
        "\n",
        "El dataset posee una mezcla de caracteristas categoricas y numericas. Como por ejemplo, si tiene viaje laborales, qué tal lejos vive del trabajo, cuanta antiguedad posee, la edad, el nivel educativo, la tarifa diaria, etc.\n",
        "\n",
        "El algoritmo de Random Forest hace que cada árbol se entrene con distintas muestras de datos para un mismo problema. Por ende, al combinar sus resultados, unos errores se compensan con otros y tenemos una predicción mas generalizada.\n",
        "Es por esto, que consideramos que el mejor algoritmo para nuestra problematica es el Random Forest. \n",
        "\n",
        "Un Random Forest es un conjunto de árboles de decisión combinados.\n",
        "En el algoritmo de arbol de decision, un solo arbol ve todos los datos de entrenamiento y tiende a aprenderlos muy bien pero su generalización no es tan buena. De hecho, suelen tener tendencia a generar over-fitting.\n",
        "\n",
        "Sin embargo, veamos como algunos algoritmos reaccionan a nuestro dataset y si realmente el Random Forest tendrá el mayor numero de predicciones correctas."
      ],
      "metadata": {
        "id": "nsrcUdpVmix_"
      }
    },
    {
      "cell_type": "markdown",
      "source": [
        "### **Preparación del dataset para usar en los modelos**"
      ],
      "metadata": {
        "id": "mCCj03bizFJs"
      }
    },
    {
      "cell_type": "markdown",
      "source": [
        "\n",
        "\n",
        "---\n",
        "\n",
        "\n",
        "Para poder trabajar con el dataset, necesitamos convertir las variables categoricas en variables indicadoras. \n",
        "\n",
        "Para hacer esto, se utiliza el método **pd.get_dummies()** , cuya función es generar un DataFrame con nombres de columnas ficticias formado por la concatenación del nombre de la columna original y cada valor único de la columna.\n",
        "\n",
        "---"
      ],
      "metadata": {
        "id": "9ds2kVo70P4E"
      }
    },
    {
      "cell_type": "code",
      "source": [
        "df_dummy = pd.get_dummies(df, drop_first=True)\n",
        "df_dummy.head()"
      ],
      "metadata": {
        "id": "fR25CBMi0TAv",
        "colab": {
          "base_uri": "https://localhost:8080/",
          "height": 287
        },
        "outputId": "57cd2c5b-e2a9-45e6-9058-2702da2ace2f"
      },
      "execution_count": 37,
      "outputs": [
        {
          "output_type": "execute_result",
          "data": {
            "text/html": [
              "\n",
              "  <div id=\"df-d6121cb5-e736-48ce-9373-397c42d92380\">\n",
              "    <div class=\"colab-df-container\">\n",
              "      <div>\n",
              "<style scoped>\n",
              "    .dataframe tbody tr th:only-of-type {\n",
              "        vertical-align: middle;\n",
              "    }\n",
              "\n",
              "    .dataframe tbody tr th {\n",
              "        vertical-align: top;\n",
              "    }\n",
              "\n",
              "    .dataframe thead th {\n",
              "        text-align: right;\n",
              "    }\n",
              "</style>\n",
              "<table border=\"1\" class=\"dataframe\">\n",
              "  <thead>\n",
              "    <tr style=\"text-align: right;\">\n",
              "      <th></th>\n",
              "      <th>Edad</th>\n",
              "      <th>Tarifa_Diaria</th>\n",
              "      <th>Distancia_Casa</th>\n",
              "      <th>Educacion</th>\n",
              "      <th>Cantidad_Empleados</th>\n",
              "      <th>ID_Empleado</th>\n",
              "      <th>Satisfaccion_Ambiente</th>\n",
              "      <th>Tarifa_Hora</th>\n",
              "      <th>Participacion_Laboral</th>\n",
              "      <th>Nivel_Laboral</th>\n",
              "      <th>Satisfaccion_Laboral</th>\n",
              "      <th>Ingresos_Mensuales</th>\n",
              "      <th>Tarifa_Mensual</th>\n",
              "      <th>Cant_Empresas_Trabajadas</th>\n",
              "      <th>Aumento_Salario_Porcentual</th>\n",
              "      <th>Clasificacion_Rendimiento</th>\n",
              "      <th>Satisfaccion_Relacion</th>\n",
              "      <th>Horas_Habituales</th>\n",
              "      <th>Nivel_Opciones_Acciones</th>\n",
              "      <th>Antiguedad_Laboral_Personal</th>\n",
              "      <th>Cantidad_Capacitaciones_Anuales</th>\n",
              "      <th>Equilibrio_Laboral_Personal</th>\n",
              "      <th>Antiguedad_Compania</th>\n",
              "      <th>Antiguedad_Puesto</th>\n",
              "      <th>Tiempo_Ultimo_Ascenso</th>\n",
              "      <th>Tiempo_Jefe_Actual</th>\n",
              "      <th>Desercion_Si</th>\n",
              "      <th>Viajes_Laborales_Nunca</th>\n",
              "      <th>Viajes_Laborales_Raramente</th>\n",
              "      <th>Departamento_Recursos Humanos</th>\n",
              "      <th>Departamento_Ventas</th>\n",
              "      <th>Carrera_Marketing</th>\n",
              "      <th>Carrera_Medicina</th>\n",
              "      <th>Carrera_Otros</th>\n",
              "      <th>Carrera_Posgrado Tecnico</th>\n",
              "      <th>Carrera_Recursos Humanos</th>\n",
              "      <th>Genero_Masculino</th>\n",
              "      <th>Puesto_Director de Manufactura</th>\n",
              "      <th>Puesto_Ejecutivo de Ventas</th>\n",
              "      <th>Puesto_Gerente</th>\n",
              "      <th>Puesto_Investigador Cientifico</th>\n",
              "      <th>Puesto_Recursos Humanos</th>\n",
              "      <th>Puesto_Representante de Atencion Medica</th>\n",
              "      <th>Puesto_Representante de Ventas</th>\n",
              "      <th>Puesto_Tecnico de Laboratorio</th>\n",
              "      <th>Estado_Civil_Divorciado</th>\n",
              "      <th>Estado_Civil_Soltero</th>\n",
              "      <th>Horas_Extra_Si</th>\n",
              "    </tr>\n",
              "  </thead>\n",
              "  <tbody>\n",
              "    <tr>\n",
              "      <th>0</th>\n",
              "      <td>41</td>\n",
              "      <td>1102</td>\n",
              "      <td>1</td>\n",
              "      <td>2</td>\n",
              "      <td>1</td>\n",
              "      <td>1</td>\n",
              "      <td>2</td>\n",
              "      <td>94</td>\n",
              "      <td>3</td>\n",
              "      <td>2</td>\n",
              "      <td>4</td>\n",
              "      <td>5993</td>\n",
              "      <td>19479</td>\n",
              "      <td>8</td>\n",
              "      <td>11</td>\n",
              "      <td>3</td>\n",
              "      <td>1</td>\n",
              "      <td>80</td>\n",
              "      <td>0</td>\n",
              "      <td>8</td>\n",
              "      <td>0</td>\n",
              "      <td>1</td>\n",
              "      <td>6</td>\n",
              "      <td>4</td>\n",
              "      <td>0</td>\n",
              "      <td>5</td>\n",
              "      <td>1</td>\n",
              "      <td>0</td>\n",
              "      <td>1</td>\n",
              "      <td>0</td>\n",
              "      <td>1</td>\n",
              "      <td>0</td>\n",
              "      <td>0</td>\n",
              "      <td>0</td>\n",
              "      <td>0</td>\n",
              "      <td>0</td>\n",
              "      <td>0</td>\n",
              "      <td>0</td>\n",
              "      <td>1</td>\n",
              "      <td>0</td>\n",
              "      <td>0</td>\n",
              "      <td>0</td>\n",
              "      <td>0</td>\n",
              "      <td>0</td>\n",
              "      <td>0</td>\n",
              "      <td>0</td>\n",
              "      <td>1</td>\n",
              "      <td>1</td>\n",
              "    </tr>\n",
              "    <tr>\n",
              "      <th>1</th>\n",
              "      <td>49</td>\n",
              "      <td>279</td>\n",
              "      <td>8</td>\n",
              "      <td>1</td>\n",
              "      <td>1</td>\n",
              "      <td>2</td>\n",
              "      <td>3</td>\n",
              "      <td>61</td>\n",
              "      <td>2</td>\n",
              "      <td>2</td>\n",
              "      <td>2</td>\n",
              "      <td>5130</td>\n",
              "      <td>24907</td>\n",
              "      <td>1</td>\n",
              "      <td>23</td>\n",
              "      <td>4</td>\n",
              "      <td>4</td>\n",
              "      <td>80</td>\n",
              "      <td>1</td>\n",
              "      <td>10</td>\n",
              "      <td>3</td>\n",
              "      <td>3</td>\n",
              "      <td>10</td>\n",
              "      <td>7</td>\n",
              "      <td>1</td>\n",
              "      <td>7</td>\n",
              "      <td>0</td>\n",
              "      <td>0</td>\n",
              "      <td>0</td>\n",
              "      <td>0</td>\n",
              "      <td>0</td>\n",
              "      <td>0</td>\n",
              "      <td>0</td>\n",
              "      <td>0</td>\n",
              "      <td>0</td>\n",
              "      <td>0</td>\n",
              "      <td>1</td>\n",
              "      <td>0</td>\n",
              "      <td>0</td>\n",
              "      <td>0</td>\n",
              "      <td>1</td>\n",
              "      <td>0</td>\n",
              "      <td>0</td>\n",
              "      <td>0</td>\n",
              "      <td>0</td>\n",
              "      <td>0</td>\n",
              "      <td>0</td>\n",
              "      <td>0</td>\n",
              "    </tr>\n",
              "    <tr>\n",
              "      <th>2</th>\n",
              "      <td>37</td>\n",
              "      <td>1373</td>\n",
              "      <td>2</td>\n",
              "      <td>2</td>\n",
              "      <td>1</td>\n",
              "      <td>4</td>\n",
              "      <td>4</td>\n",
              "      <td>92</td>\n",
              "      <td>2</td>\n",
              "      <td>1</td>\n",
              "      <td>3</td>\n",
              "      <td>2090</td>\n",
              "      <td>2396</td>\n",
              "      <td>6</td>\n",
              "      <td>15</td>\n",
              "      <td>3</td>\n",
              "      <td>2</td>\n",
              "      <td>80</td>\n",
              "      <td>0</td>\n",
              "      <td>7</td>\n",
              "      <td>3</td>\n",
              "      <td>3</td>\n",
              "      <td>0</td>\n",
              "      <td>0</td>\n",
              "      <td>0</td>\n",
              "      <td>0</td>\n",
              "      <td>1</td>\n",
              "      <td>0</td>\n",
              "      <td>1</td>\n",
              "      <td>0</td>\n",
              "      <td>0</td>\n",
              "      <td>0</td>\n",
              "      <td>0</td>\n",
              "      <td>1</td>\n",
              "      <td>0</td>\n",
              "      <td>0</td>\n",
              "      <td>1</td>\n",
              "      <td>0</td>\n",
              "      <td>0</td>\n",
              "      <td>0</td>\n",
              "      <td>0</td>\n",
              "      <td>0</td>\n",
              "      <td>0</td>\n",
              "      <td>0</td>\n",
              "      <td>1</td>\n",
              "      <td>0</td>\n",
              "      <td>1</td>\n",
              "      <td>1</td>\n",
              "    </tr>\n",
              "    <tr>\n",
              "      <th>3</th>\n",
              "      <td>33</td>\n",
              "      <td>1392</td>\n",
              "      <td>3</td>\n",
              "      <td>4</td>\n",
              "      <td>1</td>\n",
              "      <td>5</td>\n",
              "      <td>4</td>\n",
              "      <td>56</td>\n",
              "      <td>3</td>\n",
              "      <td>1</td>\n",
              "      <td>3</td>\n",
              "      <td>2909</td>\n",
              "      <td>23159</td>\n",
              "      <td>1</td>\n",
              "      <td>11</td>\n",
              "      <td>3</td>\n",
              "      <td>3</td>\n",
              "      <td>80</td>\n",
              "      <td>0</td>\n",
              "      <td>8</td>\n",
              "      <td>3</td>\n",
              "      <td>3</td>\n",
              "      <td>8</td>\n",
              "      <td>7</td>\n",
              "      <td>3</td>\n",
              "      <td>0</td>\n",
              "      <td>0</td>\n",
              "      <td>0</td>\n",
              "      <td>0</td>\n",
              "      <td>0</td>\n",
              "      <td>0</td>\n",
              "      <td>0</td>\n",
              "      <td>0</td>\n",
              "      <td>0</td>\n",
              "      <td>0</td>\n",
              "      <td>0</td>\n",
              "      <td>0</td>\n",
              "      <td>0</td>\n",
              "      <td>0</td>\n",
              "      <td>0</td>\n",
              "      <td>1</td>\n",
              "      <td>0</td>\n",
              "      <td>0</td>\n",
              "      <td>0</td>\n",
              "      <td>0</td>\n",
              "      <td>0</td>\n",
              "      <td>0</td>\n",
              "      <td>1</td>\n",
              "    </tr>\n",
              "    <tr>\n",
              "      <th>4</th>\n",
              "      <td>27</td>\n",
              "      <td>591</td>\n",
              "      <td>2</td>\n",
              "      <td>1</td>\n",
              "      <td>1</td>\n",
              "      <td>7</td>\n",
              "      <td>1</td>\n",
              "      <td>40</td>\n",
              "      <td>3</td>\n",
              "      <td>1</td>\n",
              "      <td>2</td>\n",
              "      <td>3468</td>\n",
              "      <td>16632</td>\n",
              "      <td>9</td>\n",
              "      <td>12</td>\n",
              "      <td>3</td>\n",
              "      <td>4</td>\n",
              "      <td>80</td>\n",
              "      <td>1</td>\n",
              "      <td>6</td>\n",
              "      <td>3</td>\n",
              "      <td>3</td>\n",
              "      <td>2</td>\n",
              "      <td>2</td>\n",
              "      <td>2</td>\n",
              "      <td>2</td>\n",
              "      <td>0</td>\n",
              "      <td>0</td>\n",
              "      <td>1</td>\n",
              "      <td>0</td>\n",
              "      <td>0</td>\n",
              "      <td>0</td>\n",
              "      <td>1</td>\n",
              "      <td>0</td>\n",
              "      <td>0</td>\n",
              "      <td>0</td>\n",
              "      <td>1</td>\n",
              "      <td>0</td>\n",
              "      <td>0</td>\n",
              "      <td>0</td>\n",
              "      <td>0</td>\n",
              "      <td>0</td>\n",
              "      <td>0</td>\n",
              "      <td>0</td>\n",
              "      <td>1</td>\n",
              "      <td>0</td>\n",
              "      <td>0</td>\n",
              "      <td>0</td>\n",
              "    </tr>\n",
              "  </tbody>\n",
              "</table>\n",
              "</div>\n",
              "      <button class=\"colab-df-convert\" onclick=\"convertToInteractive('df-d6121cb5-e736-48ce-9373-397c42d92380')\"\n",
              "              title=\"Convert this dataframe to an interactive table.\"\n",
              "              style=\"display:none;\">\n",
              "        \n",
              "  <svg xmlns=\"http://www.w3.org/2000/svg\" height=\"24px\"viewBox=\"0 0 24 24\"\n",
              "       width=\"24px\">\n",
              "    <path d=\"M0 0h24v24H0V0z\" fill=\"none\"/>\n",
              "    <path d=\"M18.56 5.44l.94 2.06.94-2.06 2.06-.94-2.06-.94-.94-2.06-.94 2.06-2.06.94zm-11 1L8.5 8.5l.94-2.06 2.06-.94-2.06-.94L8.5 2.5l-.94 2.06-2.06.94zm10 10l.94 2.06.94-2.06 2.06-.94-2.06-.94-.94-2.06-.94 2.06-2.06.94z\"/><path d=\"M17.41 7.96l-1.37-1.37c-.4-.4-.92-.59-1.43-.59-.52 0-1.04.2-1.43.59L10.3 9.45l-7.72 7.72c-.78.78-.78 2.05 0 2.83L4 21.41c.39.39.9.59 1.41.59.51 0 1.02-.2 1.41-.59l7.78-7.78 2.81-2.81c.8-.78.8-2.07 0-2.86zM5.41 20L4 18.59l7.72-7.72 1.47 1.35L5.41 20z\"/>\n",
              "  </svg>\n",
              "      </button>\n",
              "      \n",
              "  <style>\n",
              "    .colab-df-container {\n",
              "      display:flex;\n",
              "      flex-wrap:wrap;\n",
              "      gap: 12px;\n",
              "    }\n",
              "\n",
              "    .colab-df-convert {\n",
              "      background-color: #E8F0FE;\n",
              "      border: none;\n",
              "      border-radius: 50%;\n",
              "      cursor: pointer;\n",
              "      display: none;\n",
              "      fill: #1967D2;\n",
              "      height: 32px;\n",
              "      padding: 0 0 0 0;\n",
              "      width: 32px;\n",
              "    }\n",
              "\n",
              "    .colab-df-convert:hover {\n",
              "      background-color: #E2EBFA;\n",
              "      box-shadow: 0px 1px 2px rgba(60, 64, 67, 0.3), 0px 1px 3px 1px rgba(60, 64, 67, 0.15);\n",
              "      fill: #174EA6;\n",
              "    }\n",
              "\n",
              "    [theme=dark] .colab-df-convert {\n",
              "      background-color: #3B4455;\n",
              "      fill: #D2E3FC;\n",
              "    }\n",
              "\n",
              "    [theme=dark] .colab-df-convert:hover {\n",
              "      background-color: #434B5C;\n",
              "      box-shadow: 0px 1px 3px 1px rgba(0, 0, 0, 0.15);\n",
              "      filter: drop-shadow(0px 1px 2px rgba(0, 0, 0, 0.3));\n",
              "      fill: #FFFFFF;\n",
              "    }\n",
              "  </style>\n",
              "\n",
              "      <script>\n",
              "        const buttonEl =\n",
              "          document.querySelector('#df-d6121cb5-e736-48ce-9373-397c42d92380 button.colab-df-convert');\n",
              "        buttonEl.style.display =\n",
              "          google.colab.kernel.accessAllowed ? 'block' : 'none';\n",
              "\n",
              "        async function convertToInteractive(key) {\n",
              "          const element = document.querySelector('#df-d6121cb5-e736-48ce-9373-397c42d92380');\n",
              "          const dataTable =\n",
              "            await google.colab.kernel.invokeFunction('convertToInteractive',\n",
              "                                                     [key], {});\n",
              "          if (!dataTable) return;\n",
              "\n",
              "          const docLinkHtml = 'Like what you see? Visit the ' +\n",
              "            '<a target=\"_blank\" href=https://colab.research.google.com/notebooks/data_table.ipynb>data table notebook</a>'\n",
              "            + ' to learn more about interactive tables.';\n",
              "          element.innerHTML = '';\n",
              "          dataTable['output_type'] = 'display_data';\n",
              "          await google.colab.output.renderOutput(dataTable, element);\n",
              "          const docLink = document.createElement('div');\n",
              "          docLink.innerHTML = docLinkHtml;\n",
              "          element.appendChild(docLink);\n",
              "        }\n",
              "      </script>\n",
              "    </div>\n",
              "  </div>\n",
              "  "
            ],
            "text/plain": [
              "   Edad  Tarifa_Diaria  ...  Estado_Civil_Soltero  Horas_Extra_Si\n",
              "0    41           1102  ...                     1               1\n",
              "1    49            279  ...                     0               0\n",
              "2    37           1373  ...                     1               1\n",
              "3    33           1392  ...                     0               1\n",
              "4    27            591  ...                     0               0\n",
              "\n",
              "[5 rows x 48 columns]"
            ]
          },
          "metadata": {},
          "execution_count": 37
        }
      ]
    },
    {
      "cell_type": "code",
      "source": [
        "#Separamos el dataset en X e Y\n",
        "X = df_dummy.drop(\"Desercion_Si\", axis=1) #Elimino de mi dataset la variable a predecir\n",
        "Y = df_dummy.Desercion_Si                 #Defino la variable target del modelo"
      ],
      "metadata": {
        "id": "dy0ikxskt-RW"
      },
      "execution_count": 38,
      "outputs": []
    },
    {
      "cell_type": "code",
      "source": [
        "df.head()"
      ],
      "metadata": {
        "colab": {
          "base_uri": "https://localhost:8080/",
          "height": 356
        },
        "id": "zV8lzMZQjqO2",
        "outputId": "583bf43e-e49c-4bc8-8781-d346d7e5a7d3"
      },
      "execution_count": 39,
      "outputs": [
        {
          "output_type": "execute_result",
          "data": {
            "text/html": [
              "\n",
              "  <div id=\"df-f51e57f1-4185-4bb3-9bdc-0e0c21d3b17f\">\n",
              "    <div class=\"colab-df-container\">\n",
              "      <div>\n",
              "<style scoped>\n",
              "    .dataframe tbody tr th:only-of-type {\n",
              "        vertical-align: middle;\n",
              "    }\n",
              "\n",
              "    .dataframe tbody tr th {\n",
              "        vertical-align: top;\n",
              "    }\n",
              "\n",
              "    .dataframe thead th {\n",
              "        text-align: right;\n",
              "    }\n",
              "</style>\n",
              "<table border=\"1\" class=\"dataframe\">\n",
              "  <thead>\n",
              "    <tr style=\"text-align: right;\">\n",
              "      <th></th>\n",
              "      <th>Edad</th>\n",
              "      <th>Desercion</th>\n",
              "      <th>Viajes_Laborales</th>\n",
              "      <th>Tarifa_Diaria</th>\n",
              "      <th>Departamento</th>\n",
              "      <th>Distancia_Casa</th>\n",
              "      <th>Educacion</th>\n",
              "      <th>Carrera</th>\n",
              "      <th>Cantidad_Empleados</th>\n",
              "      <th>ID_Empleado</th>\n",
              "      <th>Satisfaccion_Ambiente</th>\n",
              "      <th>Genero</th>\n",
              "      <th>Tarifa_Hora</th>\n",
              "      <th>Participacion_Laboral</th>\n",
              "      <th>Nivel_Laboral</th>\n",
              "      <th>Puesto</th>\n",
              "      <th>Satisfaccion_Laboral</th>\n",
              "      <th>Estado_Civil</th>\n",
              "      <th>Ingresos_Mensuales</th>\n",
              "      <th>Tarifa_Mensual</th>\n",
              "      <th>Cant_Empresas_Trabajadas</th>\n",
              "      <th>Horas_Extra</th>\n",
              "      <th>Aumento_Salario_Porcentual</th>\n",
              "      <th>Clasificacion_Rendimiento</th>\n",
              "      <th>Satisfaccion_Relacion</th>\n",
              "      <th>Horas_Habituales</th>\n",
              "      <th>Nivel_Opciones_Acciones</th>\n",
              "      <th>Antiguedad_Laboral_Personal</th>\n",
              "      <th>Cantidad_Capacitaciones_Anuales</th>\n",
              "      <th>Equilibrio_Laboral_Personal</th>\n",
              "      <th>Antiguedad_Compania</th>\n",
              "      <th>Antiguedad_Puesto</th>\n",
              "      <th>Tiempo_Ultimo_Ascenso</th>\n",
              "      <th>Tiempo_Jefe_Actual</th>\n",
              "    </tr>\n",
              "  </thead>\n",
              "  <tbody>\n",
              "    <tr>\n",
              "      <th>0</th>\n",
              "      <td>41</td>\n",
              "      <td>Si</td>\n",
              "      <td>Raramente</td>\n",
              "      <td>1102</td>\n",
              "      <td>Ventas</td>\n",
              "      <td>1</td>\n",
              "      <td>2</td>\n",
              "      <td>Ciencias Naturales</td>\n",
              "      <td>1</td>\n",
              "      <td>1</td>\n",
              "      <td>2</td>\n",
              "      <td>Femenino</td>\n",
              "      <td>94</td>\n",
              "      <td>3</td>\n",
              "      <td>2</td>\n",
              "      <td>Ejecutivo de Ventas</td>\n",
              "      <td>4</td>\n",
              "      <td>Soltero</td>\n",
              "      <td>5993</td>\n",
              "      <td>19479</td>\n",
              "      <td>8</td>\n",
              "      <td>Si</td>\n",
              "      <td>11</td>\n",
              "      <td>3</td>\n",
              "      <td>1</td>\n",
              "      <td>80</td>\n",
              "      <td>0</td>\n",
              "      <td>8</td>\n",
              "      <td>0</td>\n",
              "      <td>1</td>\n",
              "      <td>6</td>\n",
              "      <td>4</td>\n",
              "      <td>0</td>\n",
              "      <td>5</td>\n",
              "    </tr>\n",
              "    <tr>\n",
              "      <th>1</th>\n",
              "      <td>49</td>\n",
              "      <td>No</td>\n",
              "      <td>Frecuentemente</td>\n",
              "      <td>279</td>\n",
              "      <td>Investigacion y Desarrollo</td>\n",
              "      <td>8</td>\n",
              "      <td>1</td>\n",
              "      <td>Ciencias Naturales</td>\n",
              "      <td>1</td>\n",
              "      <td>2</td>\n",
              "      <td>3</td>\n",
              "      <td>Masculino</td>\n",
              "      <td>61</td>\n",
              "      <td>2</td>\n",
              "      <td>2</td>\n",
              "      <td>Investigador Cientifico</td>\n",
              "      <td>2</td>\n",
              "      <td>Casado</td>\n",
              "      <td>5130</td>\n",
              "      <td>24907</td>\n",
              "      <td>1</td>\n",
              "      <td>No</td>\n",
              "      <td>23</td>\n",
              "      <td>4</td>\n",
              "      <td>4</td>\n",
              "      <td>80</td>\n",
              "      <td>1</td>\n",
              "      <td>10</td>\n",
              "      <td>3</td>\n",
              "      <td>3</td>\n",
              "      <td>10</td>\n",
              "      <td>7</td>\n",
              "      <td>1</td>\n",
              "      <td>7</td>\n",
              "    </tr>\n",
              "    <tr>\n",
              "      <th>2</th>\n",
              "      <td>37</td>\n",
              "      <td>Si</td>\n",
              "      <td>Raramente</td>\n",
              "      <td>1373</td>\n",
              "      <td>Investigacion y Desarrollo</td>\n",
              "      <td>2</td>\n",
              "      <td>2</td>\n",
              "      <td>Otros</td>\n",
              "      <td>1</td>\n",
              "      <td>4</td>\n",
              "      <td>4</td>\n",
              "      <td>Masculino</td>\n",
              "      <td>92</td>\n",
              "      <td>2</td>\n",
              "      <td>1</td>\n",
              "      <td>Tecnico de Laboratorio</td>\n",
              "      <td>3</td>\n",
              "      <td>Soltero</td>\n",
              "      <td>2090</td>\n",
              "      <td>2396</td>\n",
              "      <td>6</td>\n",
              "      <td>Si</td>\n",
              "      <td>15</td>\n",
              "      <td>3</td>\n",
              "      <td>2</td>\n",
              "      <td>80</td>\n",
              "      <td>0</td>\n",
              "      <td>7</td>\n",
              "      <td>3</td>\n",
              "      <td>3</td>\n",
              "      <td>0</td>\n",
              "      <td>0</td>\n",
              "      <td>0</td>\n",
              "      <td>0</td>\n",
              "    </tr>\n",
              "    <tr>\n",
              "      <th>3</th>\n",
              "      <td>33</td>\n",
              "      <td>No</td>\n",
              "      <td>Frecuentemente</td>\n",
              "      <td>1392</td>\n",
              "      <td>Investigacion y Desarrollo</td>\n",
              "      <td>3</td>\n",
              "      <td>4</td>\n",
              "      <td>Ciencias Naturales</td>\n",
              "      <td>1</td>\n",
              "      <td>5</td>\n",
              "      <td>4</td>\n",
              "      <td>Femenino</td>\n",
              "      <td>56</td>\n",
              "      <td>3</td>\n",
              "      <td>1</td>\n",
              "      <td>Investigador Cientifico</td>\n",
              "      <td>3</td>\n",
              "      <td>Casado</td>\n",
              "      <td>2909</td>\n",
              "      <td>23159</td>\n",
              "      <td>1</td>\n",
              "      <td>Si</td>\n",
              "      <td>11</td>\n",
              "      <td>3</td>\n",
              "      <td>3</td>\n",
              "      <td>80</td>\n",
              "      <td>0</td>\n",
              "      <td>8</td>\n",
              "      <td>3</td>\n",
              "      <td>3</td>\n",
              "      <td>8</td>\n",
              "      <td>7</td>\n",
              "      <td>3</td>\n",
              "      <td>0</td>\n",
              "    </tr>\n",
              "    <tr>\n",
              "      <th>4</th>\n",
              "      <td>27</td>\n",
              "      <td>No</td>\n",
              "      <td>Raramente</td>\n",
              "      <td>591</td>\n",
              "      <td>Investigacion y Desarrollo</td>\n",
              "      <td>2</td>\n",
              "      <td>1</td>\n",
              "      <td>Medicina</td>\n",
              "      <td>1</td>\n",
              "      <td>7</td>\n",
              "      <td>1</td>\n",
              "      <td>Masculino</td>\n",
              "      <td>40</td>\n",
              "      <td>3</td>\n",
              "      <td>1</td>\n",
              "      <td>Tecnico de Laboratorio</td>\n",
              "      <td>2</td>\n",
              "      <td>Casado</td>\n",
              "      <td>3468</td>\n",
              "      <td>16632</td>\n",
              "      <td>9</td>\n",
              "      <td>No</td>\n",
              "      <td>12</td>\n",
              "      <td>3</td>\n",
              "      <td>4</td>\n",
              "      <td>80</td>\n",
              "      <td>1</td>\n",
              "      <td>6</td>\n",
              "      <td>3</td>\n",
              "      <td>3</td>\n",
              "      <td>2</td>\n",
              "      <td>2</td>\n",
              "      <td>2</td>\n",
              "      <td>2</td>\n",
              "    </tr>\n",
              "  </tbody>\n",
              "</table>\n",
              "</div>\n",
              "      <button class=\"colab-df-convert\" onclick=\"convertToInteractive('df-f51e57f1-4185-4bb3-9bdc-0e0c21d3b17f')\"\n",
              "              title=\"Convert this dataframe to an interactive table.\"\n",
              "              style=\"display:none;\">\n",
              "        \n",
              "  <svg xmlns=\"http://www.w3.org/2000/svg\" height=\"24px\"viewBox=\"0 0 24 24\"\n",
              "       width=\"24px\">\n",
              "    <path d=\"M0 0h24v24H0V0z\" fill=\"none\"/>\n",
              "    <path d=\"M18.56 5.44l.94 2.06.94-2.06 2.06-.94-2.06-.94-.94-2.06-.94 2.06-2.06.94zm-11 1L8.5 8.5l.94-2.06 2.06-.94-2.06-.94L8.5 2.5l-.94 2.06-2.06.94zm10 10l.94 2.06.94-2.06 2.06-.94-2.06-.94-.94-2.06-.94 2.06-2.06.94z\"/><path d=\"M17.41 7.96l-1.37-1.37c-.4-.4-.92-.59-1.43-.59-.52 0-1.04.2-1.43.59L10.3 9.45l-7.72 7.72c-.78.78-.78 2.05 0 2.83L4 21.41c.39.39.9.59 1.41.59.51 0 1.02-.2 1.41-.59l7.78-7.78 2.81-2.81c.8-.78.8-2.07 0-2.86zM5.41 20L4 18.59l7.72-7.72 1.47 1.35L5.41 20z\"/>\n",
              "  </svg>\n",
              "      </button>\n",
              "      \n",
              "  <style>\n",
              "    .colab-df-container {\n",
              "      display:flex;\n",
              "      flex-wrap:wrap;\n",
              "      gap: 12px;\n",
              "    }\n",
              "\n",
              "    .colab-df-convert {\n",
              "      background-color: #E8F0FE;\n",
              "      border: none;\n",
              "      border-radius: 50%;\n",
              "      cursor: pointer;\n",
              "      display: none;\n",
              "      fill: #1967D2;\n",
              "      height: 32px;\n",
              "      padding: 0 0 0 0;\n",
              "      width: 32px;\n",
              "    }\n",
              "\n",
              "    .colab-df-convert:hover {\n",
              "      background-color: #E2EBFA;\n",
              "      box-shadow: 0px 1px 2px rgba(60, 64, 67, 0.3), 0px 1px 3px 1px rgba(60, 64, 67, 0.15);\n",
              "      fill: #174EA6;\n",
              "    }\n",
              "\n",
              "    [theme=dark] .colab-df-convert {\n",
              "      background-color: #3B4455;\n",
              "      fill: #D2E3FC;\n",
              "    }\n",
              "\n",
              "    [theme=dark] .colab-df-convert:hover {\n",
              "      background-color: #434B5C;\n",
              "      box-shadow: 0px 1px 3px 1px rgba(0, 0, 0, 0.15);\n",
              "      filter: drop-shadow(0px 1px 2px rgba(0, 0, 0, 0.3));\n",
              "      fill: #FFFFFF;\n",
              "    }\n",
              "  </style>\n",
              "\n",
              "      <script>\n",
              "        const buttonEl =\n",
              "          document.querySelector('#df-f51e57f1-4185-4bb3-9bdc-0e0c21d3b17f button.colab-df-convert');\n",
              "        buttonEl.style.display =\n",
              "          google.colab.kernel.accessAllowed ? 'block' : 'none';\n",
              "\n",
              "        async function convertToInteractive(key) {\n",
              "          const element = document.querySelector('#df-f51e57f1-4185-4bb3-9bdc-0e0c21d3b17f');\n",
              "          const dataTable =\n",
              "            await google.colab.kernel.invokeFunction('convertToInteractive',\n",
              "                                                     [key], {});\n",
              "          if (!dataTable) return;\n",
              "\n",
              "          const docLinkHtml = 'Like what you see? Visit the ' +\n",
              "            '<a target=\"_blank\" href=https://colab.research.google.com/notebooks/data_table.ipynb>data table notebook</a>'\n",
              "            + ' to learn more about interactive tables.';\n",
              "          element.innerHTML = '';\n",
              "          dataTable['output_type'] = 'display_data';\n",
              "          await google.colab.output.renderOutput(dataTable, element);\n",
              "          const docLink = document.createElement('div');\n",
              "          docLink.innerHTML = docLinkHtml;\n",
              "          element.appendChild(docLink);\n",
              "        }\n",
              "      </script>\n",
              "    </div>\n",
              "  </div>\n",
              "  "
            ],
            "text/plain": [
              "   Edad Desercion  ... Tiempo_Ultimo_Ascenso  Tiempo_Jefe_Actual\n",
              "0    41        Si  ...                     0                   5\n",
              "1    49        No  ...                     1                   7\n",
              "2    37        Si  ...                     0                   0\n",
              "3    33        No  ...                     3                   0\n",
              "4    27        No  ...                     2                   2\n",
              "\n",
              "[5 rows x 34 columns]"
            ]
          },
          "metadata": {},
          "execution_count": 39
        }
      ]
    },
    {
      "cell_type": "code",
      "source": [
        "#Se define que sera 30% para test y 70% para train\n",
        "X_train, X_test, Y_train, Y_test = train_test_split(X, Y, test_size=0.30, random_state=42)"
      ],
      "metadata": {
        "id": "aroR0ogG0S9t"
      },
      "execution_count": 40,
      "outputs": []
    },
    {
      "cell_type": "markdown",
      "source": [
        "### **Arbol de Decisión**"
      ],
      "metadata": {
        "id": "QWg9hfGM0-iQ"
      }
    },
    {
      "cell_type": "markdown",
      "source": [
        "El **Arbol de Decisión** tiene este nombre ya que justamente toma una serie de decisiones en forma de árbol, donde los nodos intermedios (las ramas) representan soluciones. Los nodos finales (las hojas) nos dan la predicción que vamos buscando.\n",
        "\n",
        "\n",
        "**Hiperparametros:**\n",
        "\n",
        "**max_depth=1**. Este hiperparametro indica que tan profundo queremos que el arbol crezca. Mientras mayor sea el numero, mayor profundidad tendrá, y mas complejo se volverá el modelo. El inconveniente es que si le indicamos un número muy alto, tendrá tendencia a aprender \"demasiado bien\" el dataset y generar overfitting.\n",
        "\n",
        "**random_state=40**. Este hiperparametro controla la aleatoriedad de donde aparecen las ramas, y de donde se \"cortan\" las ramas generando ramas adicionales."
      ],
      "metadata": {
        "id": "DgDwoO3paZAa"
      }
    },
    {
      "cell_type": "code",
      "source": [
        "#importa el modelo de Arbol de Decision\n",
        "from sklearn.tree import DecisionTreeClassifier      "
      ],
      "metadata": {
        "id": "4Jw1bcX7qtLX"
      },
      "execution_count": 41,
      "outputs": []
    },
    {
      "cell_type": "code",
      "source": [
        "#Crea el modelo de Arbol de Decision\n",
        "dt_df = DecisionTreeClassifier(max_depth=1, random_state=40) \n",
        "\n",
        "#Entrena el modelo\n",
        "dt_df.fit(X_train,Y_train)"
      ],
      "metadata": {
        "id": "_UBWik2yp9U2",
        "colab": {
          "base_uri": "https://localhost:8080/"
        },
        "outputId": "a46707d8-03da-4d78-a805-02b3c6fa9e66"
      },
      "execution_count": 42,
      "outputs": [
        {
          "output_type": "execute_result",
          "data": {
            "text/plain": [
              "DecisionTreeClassifier(max_depth=1, random_state=40)"
            ]
          },
          "metadata": {},
          "execution_count": 42
        }
      ]
    },
    {
      "cell_type": "code",
      "source": [
        "#Realiza precciones\n",
        "Y_train_pred = dt_df.predict(X_train) #en Train\n",
        "prediccionArbolDecision = dt_df.predict(X_test)   #en Test"
      ],
      "metadata": {
        "id": "X6Uyrz_kqE2f"
      },
      "execution_count": 43,
      "outputs": []
    },
    {
      "cell_type": "code",
      "source": [
        "#Metrica accuracy\n",
        "dt_train_accuracy = accuracy_score(Y_train, Y_train_pred) #Accuracy en Train\n",
        "dt_test_accuracy = accuracy_score(Y_test, prediccionArbolDecision)    #Accuracy en Test\n",
        "\n",
        "#Devuelve por mensaje de consola los resultados obtenidos\n",
        "print('% de aciertos sobre el set de entrenamiento:', dt_train_accuracy)\n",
        "print('% de aciertos sobre el set de evaluación:',dt_test_accuracy)"
      ],
      "metadata": {
        "id": "_cbIBqsyqJBB",
        "colab": {
          "base_uri": "https://localhost:8080/"
        },
        "outputId": "73705451-ea7a-411d-f81f-635d8b070152"
      },
      "execution_count": 44,
      "outputs": [
        {
          "output_type": "stream",
          "name": "stdout",
          "text": [
            "% de aciertos sobre el set de entrenamiento: 0.8289601554907677\n",
            "% de aciertos sobre el set de evaluación: 0.8616780045351474\n"
          ]
        }
      ]
    },
    {
      "cell_type": "markdown",
      "source": [
        "### **Random Forest**"
      ],
      "metadata": {
        "id": "MFSkdGGo1VW6"
      }
    },
    {
      "cell_type": "markdown",
      "source": [
        "Como se indicó anteriormente, un Random Forest es un conjunto de árboles de decisión combinados. \n",
        "\n",
        "\n",
        "**Hiperparametros:**\n",
        "\n",
        "\n",
        "**random_state=11**: Controla la aletoriedad del arranque de las muestras utilizadas al construir árboles, y donde estará la división de cada nodo.\n",
        "\n",
        "\n",
        "**n_estimators=200**: La cantidad de arboles que va a tener el bosque. Normalmente cuantos más mejor, pero a partir de cierto punto deja de mejorar y sólo hace que vaya más lento. Notamos que entre 180-200 era un numero optimo para nuestro dataset.\n",
        "\n",
        "\n",
        "**class_weight=\"balanced\"**: Se eligió que el peso de las clases sea balanceado. Es decir, las clases tendrán un peso inversamente proporcional a la frecuencia con la que aparecen en los datos."
      ],
      "metadata": {
        "id": "YiR1I4AbeFig"
      }
    },
    {
      "cell_type": "code",
      "source": [
        "#importa la libreria\n",
        "from sklearn.ensemble import RandomForestClassifier"
      ],
      "metadata": {
        "id": "9Er3nGC70xKl"
      },
      "execution_count": 45,
      "outputs": []
    },
    {
      "cell_type": "code",
      "source": [
        "#Crea el modelo de Random Forest\n",
        "rf_df = RandomForestClassifier(random_state=11, n_estimators=200, class_weight=\"balanced\")\n",
        "\n",
        "#Entrena el Modelo\n",
        "rf_df.fit(X_train, Y_train)"
      ],
      "metadata": {
        "id": "IEuL9UfN1KaP",
        "colab": {
          "base_uri": "https://localhost:8080/"
        },
        "outputId": "2811652b-6537-434e-a9ce-c06332e24875"
      },
      "execution_count": 46,
      "outputs": [
        {
          "output_type": "execute_result",
          "data": {
            "text/plain": [
              "RandomForestClassifier(class_weight='balanced', n_estimators=200,\n",
              "                       random_state=11)"
            ]
          },
          "metadata": {},
          "execution_count": 46
        }
      ]
    },
    {
      "cell_type": "code",
      "source": [
        "#Realiza predicciones en test\n",
        "prediccionRandomForest = rf_df.predict(X_test)"
      ],
      "metadata": {
        "id": "9n2STWcW1PIM"
      },
      "execution_count": 47,
      "outputs": []
    },
    {
      "cell_type": "code",
      "source": [
        "#Calculo el accuracy en Test\n",
        "rf_test_accuracy = accuracy_score(Y_test, prediccionRandomForest)\n",
        "\n",
        "print('% de aciertos sobre el set de evaluación:',rf_test_accuracy)"
      ],
      "metadata": {
        "id": "5-fUmnx91RM1",
        "colab": {
          "base_uri": "https://localhost:8080/"
        },
        "outputId": "3acfcf3e-fe38-4835-86cc-3f860e9d4b45"
      },
      "execution_count": 48,
      "outputs": [
        {
          "output_type": "stream",
          "name": "stdout",
          "text": [
            "% de aciertos sobre el set de evaluación: 0.8707482993197279\n"
          ]
        }
      ]
    },
    {
      "cell_type": "markdown",
      "source": [
        "### **Regresión Logística**"
      ],
      "metadata": {
        "id": "tBE_lXDN1djd"
      }
    },
    {
      "cell_type": "markdown",
      "source": [
        "A menudo, se habla de la **Regresión Logística** como \"una red neuronal en miniatura\". Esto es porque al principio de la neurona, se hace un combinación lineal que se parece mucho a una regresión lineal *(dato curioso)*.\n",
        "\n",
        "La Regresión Logista se caracteriza por usar una función Logística llamada **\"función Sigmoide\"**. Simplificadamente podríamos decir que describe y estima la relación entre una variable binaria dependiente y las variables independientes.\n",
        "\n",
        "En nuestro caso, no consideramos asignarle hiperparametros al algoritmo."
      ],
      "metadata": {
        "id": "ht4HXq_ahpC0"
      }
    },
    {
      "cell_type": "code",
      "source": [
        "#importa la libreria\n",
        "from sklearn.linear_model import LogisticRegression"
      ],
      "metadata": {
        "id": "k6fs_YQ954YV"
      },
      "execution_count": 49,
      "outputs": []
    },
    {
      "cell_type": "code",
      "source": [
        "#Crea el modelo de Regresion logica\n",
        "lr_df = LogisticRegression()\n",
        "\n",
        "#Entrena el Modelo\n",
        "lr_df.fit(X_train, Y_train)"
      ],
      "metadata": {
        "id": "6BlkA1Id56D2",
        "colab": {
          "base_uri": "https://localhost:8080/"
        },
        "outputId": "0d034677-0191-4dad-c9ca-85e42a804c3d"
      },
      "execution_count": 50,
      "outputs": [
        {
          "output_type": "stream",
          "name": "stderr",
          "text": [
            "/usr/local/lib/python3.7/dist-packages/sklearn/linear_model/_logistic.py:818: ConvergenceWarning: lbfgs failed to converge (status=1):\n",
            "STOP: TOTAL NO. of ITERATIONS REACHED LIMIT.\n",
            "\n",
            "Increase the number of iterations (max_iter) or scale the data as shown in:\n",
            "    https://scikit-learn.org/stable/modules/preprocessing.html\n",
            "Please also refer to the documentation for alternative solver options:\n",
            "    https://scikit-learn.org/stable/modules/linear_model.html#logistic-regression\n",
            "  extra_warning_msg=_LOGISTIC_SOLVER_CONVERGENCE_MSG,\n"
          ]
        },
        {
          "output_type": "execute_result",
          "data": {
            "text/plain": [
              "LogisticRegression()"
            ]
          },
          "metadata": {},
          "execution_count": 50
        }
      ]
    },
    {
      "cell_type": "code",
      "source": [
        "#Realiza predicciones en test\n",
        "prediccionRegresionLogistica = lr_df.predict(X_test)"
      ],
      "metadata": {
        "id": "m-03gNL67vlc"
      },
      "execution_count": 51,
      "outputs": []
    },
    {
      "cell_type": "code",
      "source": [
        "#Calculo el accuracy en Test\n",
        "lr_test_accuracy = accuracy_score(Y_test, prediccionRegresionLogistica)\n",
        "\n",
        "print('% de aciertos sobre el set de evaluación:',lr_test_accuracy)"
      ],
      "metadata": {
        "id": "8Em_P0dMEh2T",
        "colab": {
          "base_uri": "https://localhost:8080/"
        },
        "outputId": "5538abed-2b96-474f-eb57-69685bcead1f"
      },
      "execution_count": 52,
      "outputs": [
        {
          "output_type": "stream",
          "name": "stdout",
          "text": [
            "% de aciertos sobre el set de evaluación: 0.8639455782312925\n"
          ]
        }
      ]
    },
    {
      "cell_type": "markdown",
      "source": [
        "### **K-Nearest-Neighbor (KNN)**"
      ],
      "metadata": {
        "id": "1H-jsY3lqQ6b"
      }
    },
    {
      "cell_type": "markdown",
      "source": [
        "El **KNN** sirve esencialmente para clasificar valores buscando los puntos de datos “más similares” (por cercanía) aprendidos en la etapa de entrenamiento. La K significa la cantidad de “puntos vecinos”.\n",
        "\n",
        "**Hiperparametros:**\n",
        "\n",
        "**n_neighbors=27**: Indica el numero de vecinos para usar por default. En el caso de nuestro dataset; a mayor el numero, mayor es la probabilidad de generar over fitting. Y si elegimos un numero muy pequeño, el accuracy del algoritmo baja drasticamente (underfitting).\n",
        "\n",
        "\n",
        " **algorithm=\"auto\"**: Es el algoritmo utilizado para calcular los vecinos mas cercanos. En nuestro caso elegimos \"auto\"; es significa que intentara decidir el algoritmo mas apropiado basado en los valores pasados en el entrenamiento.\n"
      ],
      "metadata": {
        "id": "p9BY9qOBmcyl"
      }
    },
    {
      "cell_type": "code",
      "source": [
        "#importa la libreria\n",
        "from sklearn.neighbors import KNeighborsClassifier"
      ],
      "metadata": {
        "id": "1U1CeO_dqmNz"
      },
      "execution_count": 53,
      "outputs": []
    },
    {
      "cell_type": "code",
      "source": [
        "#Crea el modelo de KNN\n",
        "knn_df = KNeighborsClassifier(n_neighbors=27,algorithm=\"auto\")\n",
        "\n",
        "#Entrena el Modelo\n",
        "knn_df.fit(X_train, Y_train)"
      ],
      "metadata": {
        "id": "2T-PMiiqG4sD",
        "colab": {
          "base_uri": "https://localhost:8080/"
        },
        "outputId": "20c1b0ed-05f7-466d-ebb0-c1c91fde926d"
      },
      "execution_count": 54,
      "outputs": [
        {
          "output_type": "execute_result",
          "data": {
            "text/plain": [
              "KNeighborsClassifier(n_neighbors=27)"
            ]
          },
          "metadata": {},
          "execution_count": 54
        }
      ]
    },
    {
      "cell_type": "code",
      "source": [
        "#Realiza predicciones en test\n",
        "prediccionKNN = knn_df.predict(X_test)"
      ],
      "metadata": {
        "id": "o4pfu-EoHYYe"
      },
      "execution_count": 55,
      "outputs": []
    },
    {
      "cell_type": "code",
      "source": [
        "#Calculo el accuracy en Test\n",
        "knn_test_accuracy = accuracy_score(Y_test, prediccionKNN)\n",
        "\n",
        "print('% de aciertos sobre el set de entrenamiento:', knn_test_accuracy)"
      ],
      "metadata": {
        "id": "2diKZyk2HbH6",
        "colab": {
          "base_uri": "https://localhost:8080/"
        },
        "outputId": "f5b86c81-91a0-4e2f-c51c-3ed2e0d42144"
      },
      "execution_count": 56,
      "outputs": [
        {
          "output_type": "stream",
          "name": "stdout",
          "text": [
            "% de aciertos sobre el set de entrenamiento: 0.8616780045351474\n"
          ]
        }
      ]
    },
    {
      "cell_type": "markdown",
      "source": [
        "### **Gráfico Comparativo**"
      ],
      "metadata": {
        "id": "WtvNgs1hJC6A"
      }
    },
    {
      "cell_type": "code",
      "source": [
        "#DataFrame comparativo\n",
        "modelo = pd.Series(['Arbol de Decision','Random Forest','Regresion Logistica','KNN'])\n",
        "resultadoTest = pd.Series([dt_test_accuracy,rf_test_accuracy,lr_test_accuracy,knn_test_accuracy])\n",
        "\n",
        "performance = pd.DataFrame({'Modelo':modelo,'%_Acierto_Test':resultadoTest}).sort_values(by='%_Acierto_Test', ascending=False)\n",
        "performance"
      ],
      "metadata": {
        "id": "uRJ5GcDemUNc",
        "colab": {
          "base_uri": "https://localhost:8080/",
          "height": 0
        },
        "outputId": "eeb364b1-c199-47d7-9aa8-357eab7017ca"
      },
      "execution_count": 57,
      "outputs": [
        {
          "output_type": "execute_result",
          "data": {
            "text/html": [
              "\n",
              "  <div id=\"df-4a1af933-62ce-441b-aa1f-346faaab3efc\">\n",
              "    <div class=\"colab-df-container\">\n",
              "      <div>\n",
              "<style scoped>\n",
              "    .dataframe tbody tr th:only-of-type {\n",
              "        vertical-align: middle;\n",
              "    }\n",
              "\n",
              "    .dataframe tbody tr th {\n",
              "        vertical-align: top;\n",
              "    }\n",
              "\n",
              "    .dataframe thead th {\n",
              "        text-align: right;\n",
              "    }\n",
              "</style>\n",
              "<table border=\"1\" class=\"dataframe\">\n",
              "  <thead>\n",
              "    <tr style=\"text-align: right;\">\n",
              "      <th></th>\n",
              "      <th>Modelo</th>\n",
              "      <th>%_Acierto_Test</th>\n",
              "    </tr>\n",
              "  </thead>\n",
              "  <tbody>\n",
              "    <tr>\n",
              "      <th>1</th>\n",
              "      <td>Random Forest</td>\n",
              "      <td>0.870748</td>\n",
              "    </tr>\n",
              "    <tr>\n",
              "      <th>2</th>\n",
              "      <td>Regresion Logistica</td>\n",
              "      <td>0.863946</td>\n",
              "    </tr>\n",
              "    <tr>\n",
              "      <th>0</th>\n",
              "      <td>Arbol de Decision</td>\n",
              "      <td>0.861678</td>\n",
              "    </tr>\n",
              "    <tr>\n",
              "      <th>3</th>\n",
              "      <td>KNN</td>\n",
              "      <td>0.861678</td>\n",
              "    </tr>\n",
              "  </tbody>\n",
              "</table>\n",
              "</div>\n",
              "      <button class=\"colab-df-convert\" onclick=\"convertToInteractive('df-4a1af933-62ce-441b-aa1f-346faaab3efc')\"\n",
              "              title=\"Convert this dataframe to an interactive table.\"\n",
              "              style=\"display:none;\">\n",
              "        \n",
              "  <svg xmlns=\"http://www.w3.org/2000/svg\" height=\"24px\"viewBox=\"0 0 24 24\"\n",
              "       width=\"24px\">\n",
              "    <path d=\"M0 0h24v24H0V0z\" fill=\"none\"/>\n",
              "    <path d=\"M18.56 5.44l.94 2.06.94-2.06 2.06-.94-2.06-.94-.94-2.06-.94 2.06-2.06.94zm-11 1L8.5 8.5l.94-2.06 2.06-.94-2.06-.94L8.5 2.5l-.94 2.06-2.06.94zm10 10l.94 2.06.94-2.06 2.06-.94-2.06-.94-.94-2.06-.94 2.06-2.06.94z\"/><path d=\"M17.41 7.96l-1.37-1.37c-.4-.4-.92-.59-1.43-.59-.52 0-1.04.2-1.43.59L10.3 9.45l-7.72 7.72c-.78.78-.78 2.05 0 2.83L4 21.41c.39.39.9.59 1.41.59.51 0 1.02-.2 1.41-.59l7.78-7.78 2.81-2.81c.8-.78.8-2.07 0-2.86zM5.41 20L4 18.59l7.72-7.72 1.47 1.35L5.41 20z\"/>\n",
              "  </svg>\n",
              "      </button>\n",
              "      \n",
              "  <style>\n",
              "    .colab-df-container {\n",
              "      display:flex;\n",
              "      flex-wrap:wrap;\n",
              "      gap: 12px;\n",
              "    }\n",
              "\n",
              "    .colab-df-convert {\n",
              "      background-color: #E8F0FE;\n",
              "      border: none;\n",
              "      border-radius: 50%;\n",
              "      cursor: pointer;\n",
              "      display: none;\n",
              "      fill: #1967D2;\n",
              "      height: 32px;\n",
              "      padding: 0 0 0 0;\n",
              "      width: 32px;\n",
              "    }\n",
              "\n",
              "    .colab-df-convert:hover {\n",
              "      background-color: #E2EBFA;\n",
              "      box-shadow: 0px 1px 2px rgba(60, 64, 67, 0.3), 0px 1px 3px 1px rgba(60, 64, 67, 0.15);\n",
              "      fill: #174EA6;\n",
              "    }\n",
              "\n",
              "    [theme=dark] .colab-df-convert {\n",
              "      background-color: #3B4455;\n",
              "      fill: #D2E3FC;\n",
              "    }\n",
              "\n",
              "    [theme=dark] .colab-df-convert:hover {\n",
              "      background-color: #434B5C;\n",
              "      box-shadow: 0px 1px 3px 1px rgba(0, 0, 0, 0.15);\n",
              "      filter: drop-shadow(0px 1px 2px rgba(0, 0, 0, 0.3));\n",
              "      fill: #FFFFFF;\n",
              "    }\n",
              "  </style>\n",
              "\n",
              "      <script>\n",
              "        const buttonEl =\n",
              "          document.querySelector('#df-4a1af933-62ce-441b-aa1f-346faaab3efc button.colab-df-convert');\n",
              "        buttonEl.style.display =\n",
              "          google.colab.kernel.accessAllowed ? 'block' : 'none';\n",
              "\n",
              "        async function convertToInteractive(key) {\n",
              "          const element = document.querySelector('#df-4a1af933-62ce-441b-aa1f-346faaab3efc');\n",
              "          const dataTable =\n",
              "            await google.colab.kernel.invokeFunction('convertToInteractive',\n",
              "                                                     [key], {});\n",
              "          if (!dataTable) return;\n",
              "\n",
              "          const docLinkHtml = 'Like what you see? Visit the ' +\n",
              "            '<a target=\"_blank\" href=https://colab.research.google.com/notebooks/data_table.ipynb>data table notebook</a>'\n",
              "            + ' to learn more about interactive tables.';\n",
              "          element.innerHTML = '';\n",
              "          dataTable['output_type'] = 'display_data';\n",
              "          await google.colab.output.renderOutput(dataTable, element);\n",
              "          const docLink = document.createElement('div');\n",
              "          docLink.innerHTML = docLinkHtml;\n",
              "          element.appendChild(docLink);\n",
              "        }\n",
              "      </script>\n",
              "    </div>\n",
              "  </div>\n",
              "  "
            ],
            "text/plain": [
              "                Modelo  %_Acierto_Test\n",
              "1        Random Forest        0.870748\n",
              "2  Regresion Logistica        0.863946\n",
              "0    Arbol de Decision        0.861678\n",
              "3                  KNN        0.861678"
            ]
          },
          "metadata": {},
          "execution_count": 57
        }
      ]
    },
    {
      "cell_type": "code",
      "source": [
        "#Crea un grafico de barras con los porcentajes de acierto de cada modelo.\n",
        "fig,axes = plt.subplots(figsize = (10,8))\n",
        "ax = sns.barplot(data=performance, x='Modelo',y='%_Acierto_Test', order=performance.sort_values('%_Acierto_Test',ascending=False).Modelo)\n",
        "ax.set(title='Performance de los algoritmos',xlabel='Algoritmo de Clasificacion',ylabel= '% de acierto')\n",
        "plt.ylim([0.8,0.9])"
      ],
      "metadata": {
        "id": "d1FUIxKBJHen",
        "colab": {
          "base_uri": "https://localhost:8080/",
          "height": 0
        },
        "outputId": "6244fe93-a328-4b32-f3d6-f20381dcb298"
      },
      "execution_count": 58,
      "outputs": [
        {
          "output_type": "execute_result",
          "data": {
            "text/plain": [
              "(0.8, 0.9)"
            ]
          },
          "metadata": {},
          "execution_count": 58
        },
        {
          "output_type": "display_data",
          "data": {
            "image/png": "[encoded data removed]",
            "text/plain": [
              "<Figure size 720x576 with 1 Axes>"
            ]
          },
          "metadata": {
            "needs_background": "light"
          }
        }
      ]
    },
    {
      "cell_type": "markdown",
      "source": [
        "### **Conclusión:**\n",
        "Luego de comparar el porcentaje de acierto de cada uno de los algoritmos verificamos que, tal como pensabamos, el que mejor se adecúa a nuestro dataset es el **Random Forest.** Obtuvo un 0.87% de acierto en las predicciones; es decir, no generó ni under ni overfitting y superó al resto de los algoritmos en sus predicciones.\n",
        "\n"
      ],
      "metadata": {
        "id": "FClNoEyZqu4z"
      }
    },
    {
      "cell_type": "markdown",
      "source": [
        "## **Mejoras a nuestro modelo predictivo**"
      ],
      "metadata": {
        "id": "vrRANswZ13YT"
      }
    },
    {
      "cell_type": "markdown",
      "source": [
        "### **Metricas Random Forest Original**"
      ],
      "metadata": {
        "id": "8r-Pb8fFze1a"
      }
    },
    {
      "cell_type": "markdown",
      "source": [
        "*En primer lugar, veremos qué métricas obtenemos con nuestro Random Forest Actual*"
      ],
      "metadata": {
        "id": "lDJIhuzny-v9"
      }
    },
    {
      "cell_type": "code",
      "source": [
        "from sklearn.metrics import confusion_matrix      #trae un array con la matriz\n",
        "from sklearn.metrics import plot_confusion_matrix #sirve para graficar la matriz\n",
        "\n",
        "print(confusion_matrix(Y_test, prediccionRandomForest))\n",
        "\n",
        "#grafico de la matriz\n",
        "plot_confusion_matrix(rf_df, X_test, Y_test)\n",
        "plt.show()"
      ],
      "metadata": {
        "id": "L7HEOGIk2ATB",
        "colab": {
          "base_uri": "https://localhost:8080/",
          "height": 373
        },
        "outputId": "04ba42cf-946e-48c6-de50-bb605ca53ac3"
      },
      "execution_count": 59,
      "outputs": [
        {
          "output_type": "stream",
          "name": "stdout",
          "text": [
            "[[379   1]\n",
            " [ 56   5]]\n"
          ]
        },
        {
          "output_type": "stream",
          "name": "stderr",
          "text": [
            "/usr/local/lib/python3.7/dist-packages/sklearn/utils/deprecation.py:87: FutureWarning: Function plot_confusion_matrix is deprecated; Function `plot_confusion_matrix` is deprecated in 1.0 and will be removed in 1.2. Use one of the class methods: ConfusionMatrixDisplay.from_predictions or ConfusionMatrixDisplay.from_estimator.\n",
            "  warnings.warn(msg, category=FutureWarning)\n"
          ]
        },
        {
          "output_type": "display_data",
          "data": {
            "image/png": "[encoded data removed]",
            "text/plain": [
              "<Figure size 432x288 with 2 Axes>"
            ]
          },
          "metadata": {
            "needs_background": "light"
          }
        }
      ]
    },
    {
      "cell_type": "code",
      "source": [
        "from sklearn.metrics import precision_score\n",
        "from sklearn.metrics import recall_score\n",
        "from sklearn.metrics import f1_score\n",
        "\n",
        "prec_score_1 = precision_score(Y_test, prediccionRandomForest)\n",
        "reca_score_1 = recall_score(Y_test, prediccionRandomForest)\n",
        "f1_score_1 = f1_score(Y_test, prediccionRandomForest)\n",
        "\n",
        "print(\"La metrica de precision es:\", prec_score_1)\n",
        "print(\"La metrica de Recall es:\", reca_score_1)\n",
        "print(\"La metrica de F1 Score es:\", f1_score_1)"
      ],
      "metadata": {
        "id": "Jo1OmnE92YEz",
        "colab": {
          "base_uri": "https://localhost:8080/"
        },
        "outputId": "59fc35b7-1f54-4a68-db5e-267ea44012ce"
      },
      "execution_count": 60,
      "outputs": [
        {
          "output_type": "stream",
          "name": "stdout",
          "text": [
            "La metrica de precision es: 0.8333333333333334\n",
            "La metrica de Recall es: 0.08196721311475409\n",
            "La metrica de F1 Score es: 0.14925373134328357\n"
          ]
        }
      ]
    },
    {
      "cell_type": "markdown",
      "source": [
        "*Nuestra matriz de confusión nos indica que el modelo predijo correctamente que 379 empleados que desertarían, y 56 donde falsamente predijo que desertarían pero no lo hicieron.*\n",
        "\n",
        "*Esto se traduce en las siguientes metricas; donde tuvo una precisión del 0,83% y un recall del 0,08%.*"
      ],
      "metadata": {
        "id": "ZnwzmyPxGGA4"
      }
    },
    {
      "cell_type": "code",
      "source": [
        "from sklearn.metrics import roc_curve, auc         \n",
        "\n",
        "probs = rf_df.predict_proba(X_test)   \n",
        "preds = probs[:, 1]                               \n",
        " \n",
        "fpr, tpr, threshold = roc_curve(Y_test, preds)    \n",
        "roc_auc = auc(fpr, tpr)                            \n",
        "\n",
        "# AUC\n",
        "print(\"el AUC del modelo es:\", roc_auc)\n",
        "\n",
        "# Gráfica de la Curva ROC\n",
        "plt.title('ROC')\n",
        "plt.plot(fpr, tpr, 'b', label = 'AUC = %0.2f' % roc_auc)  #grafica el AUC\n",
        "plt.legend(loc = 'lower right')                           #posiciona la etiqueta\n",
        "plt.plot([0, 1], [0, 1],'r--')                            #grafica la linea de puntos\n",
        "plt.xlim([0, 1])                                          #deja el grafico mas cerca de los bordes\n",
        "plt.ylim([0, 1])                                          #deja el grafico mas cerca de los bordes\n",
        "plt.ylabel('True Positive Rate')\n",
        "plt.xlabel('False Positive Rate')\n",
        "plt.show()\n",
        "\n"
      ],
      "metadata": {
        "id": "qh5nhseE2pxJ",
        "colab": {
          "base_uri": "https://localhost:8080/",
          "height": 314
        },
        "outputId": "3040235b-599d-47da-c0c5-16f346425ef3"
      },
      "execution_count": 61,
      "outputs": [
        {
          "output_type": "stream",
          "name": "stdout",
          "text": [
            "el AUC del modelo es: 0.7644305435720449\n"
          ]
        },
        {
          "output_type": "display_data",
          "data": {
            "image/png": "[encoded data removed]",
            "text/plain": [
              "<Figure size 432x288 with 1 Axes>"
            ]
          },
          "metadata": {
            "needs_background": "light"
          }
        }
      ]
    },
    {
      "cell_type": "markdown",
      "source": [
        "### **Creacion de un nuevo Random Forest**"
      ],
      "metadata": {
        "id": "slhXwa8rzmZ6"
      }
    },
    {
      "cell_type": "markdown",
      "source": [
        "*Ahora que ya tenemos nuestras métricas a comparar, realicemos unas cuantas mejoras a nuestro modelo:*"
      ],
      "metadata": {
        "id": "HD8n7PpEzR_l"
      }
    },
    {
      "cell_type": "markdown",
      "source": [
        "En primer lugar, cambiaremos el método mediante el cual adaptamos el dataset para que pueda ser aplicado a los algoritmos de predicción. Anteriormente usamos **pd.get_dummies**, esto modifica el dataset creando nuevas columnas y agregando mas registros.\n",
        "\n",
        "\n",
        "Ahora realizaremos un método distinto, mas preciso, y mediante el cual tambien obtendremos nuestro X e Y.\n",
        "\n",
        "Mediante un **for**, buscaremos todos los datos que sean tipo \"**object**\" y los reemplazaremos por datos numericos. De esta manera, no estamos agregando columnas ni registros; sino que estamos cambiando el texto por numero."
      ],
      "metadata": {
        "id": "ryWM2v4vw-k-"
      }
    },
    {
      "cell_type": "code",
      "source": [
        "for n in df.columns:\n",
        "  if str(df[n].dtype) == 'object' or str(df[n].dtype) == 'category':\n",
        "    df[n] = df[n].astype('category').cat.codes\n",
        "X_2 = df.drop(['Desercion'], axis=1).to_numpy()\n",
        "Y_2 = df['Desercion'].to_numpy()\n",
        "df.head()"
      ],
      "metadata": {
        "colab": {
          "base_uri": "https://localhost:8080/",
          "height": 270
        },
        "id": "9WUSLN3Pw8Yv",
        "outputId": "4c5ec1d8-6be3-4137-df30-402ad4df50e3"
      },
      "execution_count": 62,
      "outputs": [
        {
          "output_type": "execute_result",
          "data": {
            "text/html": [
              "\n",
              "  <div id=\"df-3c0e1967-7f49-424c-ad6f-d2c5795d7845\">\n",
              "    <div class=\"colab-df-container\">\n",
              "      <div>\n",
              "<style scoped>\n",
              "    .dataframe tbody tr th:only-of-type {\n",
              "        vertical-align: middle;\n",
              "    }\n",
              "\n",
              "    .dataframe tbody tr th {\n",
              "        vertical-align: top;\n",
              "    }\n",
              "\n",
              "    .dataframe thead th {\n",
              "        text-align: right;\n",
              "    }\n",
              "</style>\n",
              "<table border=\"1\" class=\"dataframe\">\n",
              "  <thead>\n",
              "    <tr style=\"text-align: right;\">\n",
              "      <th></th>\n",
              "      <th>Edad</th>\n",
              "      <th>Desercion</th>\n",
              "      <th>Viajes_Laborales</th>\n",
              "      <th>Tarifa_Diaria</th>\n",
              "      <th>Departamento</th>\n",
              "      <th>Distancia_Casa</th>\n",
              "      <th>Educacion</th>\n",
              "      <th>Carrera</th>\n",
              "      <th>Cantidad_Empleados</th>\n",
              "      <th>ID_Empleado</th>\n",
              "      <th>Satisfaccion_Ambiente</th>\n",
              "      <th>Genero</th>\n",
              "      <th>Tarifa_Hora</th>\n",
              "      <th>Participacion_Laboral</th>\n",
              "      <th>Nivel_Laboral</th>\n",
              "      <th>Puesto</th>\n",
              "      <th>Satisfaccion_Laboral</th>\n",
              "      <th>Estado_Civil</th>\n",
              "      <th>Ingresos_Mensuales</th>\n",
              "      <th>Tarifa_Mensual</th>\n",
              "      <th>Cant_Empresas_Trabajadas</th>\n",
              "      <th>Horas_Extra</th>\n",
              "      <th>Aumento_Salario_Porcentual</th>\n",
              "      <th>Clasificacion_Rendimiento</th>\n",
              "      <th>Satisfaccion_Relacion</th>\n",
              "      <th>Horas_Habituales</th>\n",
              "      <th>Nivel_Opciones_Acciones</th>\n",
              "      <th>Antiguedad_Laboral_Personal</th>\n",
              "      <th>Cantidad_Capacitaciones_Anuales</th>\n",
              "      <th>Equilibrio_Laboral_Personal</th>\n",
              "      <th>Antiguedad_Compania</th>\n",
              "      <th>Antiguedad_Puesto</th>\n",
              "      <th>Tiempo_Ultimo_Ascenso</th>\n",
              "      <th>Tiempo_Jefe_Actual</th>\n",
              "    </tr>\n",
              "  </thead>\n",
              "  <tbody>\n",
              "    <tr>\n",
              "      <th>0</th>\n",
              "      <td>41</td>\n",
              "      <td>1</td>\n",
              "      <td>2</td>\n",
              "      <td>1102</td>\n",
              "      <td>2</td>\n",
              "      <td>1</td>\n",
              "      <td>2</td>\n",
              "      <td>0</td>\n",
              "      <td>1</td>\n",
              "      <td>1</td>\n",
              "      <td>2</td>\n",
              "      <td>0</td>\n",
              "      <td>94</td>\n",
              "      <td>3</td>\n",
              "      <td>2</td>\n",
              "      <td>2</td>\n",
              "      <td>4</td>\n",
              "      <td>2</td>\n",
              "      <td>5993</td>\n",
              "      <td>19479</td>\n",
              "      <td>8</td>\n",
              "      <td>1</td>\n",
              "      <td>11</td>\n",
              "      <td>3</td>\n",
              "      <td>1</td>\n",
              "      <td>80</td>\n",
              "      <td>0</td>\n",
              "      <td>8</td>\n",
              "      <td>0</td>\n",
              "      <td>1</td>\n",
              "      <td>6</td>\n",
              "      <td>4</td>\n",
              "      <td>0</td>\n",
              "      <td>5</td>\n",
              "    </tr>\n",
              "    <tr>\n",
              "      <th>1</th>\n",
              "      <td>49</td>\n",
              "      <td>0</td>\n",
              "      <td>0</td>\n",
              "      <td>279</td>\n",
              "      <td>0</td>\n",
              "      <td>8</td>\n",
              "      <td>1</td>\n",
              "      <td>0</td>\n",
              "      <td>1</td>\n",
              "      <td>2</td>\n",
              "      <td>3</td>\n",
              "      <td>1</td>\n",
              "      <td>61</td>\n",
              "      <td>2</td>\n",
              "      <td>2</td>\n",
              "      <td>4</td>\n",
              "      <td>2</td>\n",
              "      <td>0</td>\n",
              "      <td>5130</td>\n",
              "      <td>24907</td>\n",
              "      <td>1</td>\n",
              "      <td>0</td>\n",
              "      <td>23</td>\n",
              "      <td>4</td>\n",
              "      <td>4</td>\n",
              "      <td>80</td>\n",
              "      <td>1</td>\n",
              "      <td>10</td>\n",
              "      <td>3</td>\n",
              "      <td>3</td>\n",
              "      <td>10</td>\n",
              "      <td>7</td>\n",
              "      <td>1</td>\n",
              "      <td>7</td>\n",
              "    </tr>\n",
              "    <tr>\n",
              "      <th>2</th>\n",
              "      <td>37</td>\n",
              "      <td>1</td>\n",
              "      <td>2</td>\n",
              "      <td>1373</td>\n",
              "      <td>0</td>\n",
              "      <td>2</td>\n",
              "      <td>2</td>\n",
              "      <td>3</td>\n",
              "      <td>1</td>\n",
              "      <td>4</td>\n",
              "      <td>4</td>\n",
              "      <td>1</td>\n",
              "      <td>92</td>\n",
              "      <td>2</td>\n",
              "      <td>1</td>\n",
              "      <td>8</td>\n",
              "      <td>3</td>\n",
              "      <td>2</td>\n",
              "      <td>2090</td>\n",
              "      <td>2396</td>\n",
              "      <td>6</td>\n",
              "      <td>1</td>\n",
              "      <td>15</td>\n",
              "      <td>3</td>\n",
              "      <td>2</td>\n",
              "      <td>80</td>\n",
              "      <td>0</td>\n",
              "      <td>7</td>\n",
              "      <td>3</td>\n",
              "      <td>3</td>\n",
              "      <td>0</td>\n",
              "      <td>0</td>\n",
              "      <td>0</td>\n",
              "      <td>0</td>\n",
              "    </tr>\n",
              "    <tr>\n",
              "      <th>3</th>\n",
              "      <td>33</td>\n",
              "      <td>0</td>\n",
              "      <td>0</td>\n",
              "      <td>1392</td>\n",
              "      <td>0</td>\n",
              "      <td>3</td>\n",
              "      <td>4</td>\n",
              "      <td>0</td>\n",
              "      <td>1</td>\n",
              "      <td>5</td>\n",
              "      <td>4</td>\n",
              "      <td>0</td>\n",
              "      <td>56</td>\n",
              "      <td>3</td>\n",
              "      <td>1</td>\n",
              "      <td>4</td>\n",
              "      <td>3</td>\n",
              "      <td>0</td>\n",
              "      <td>2909</td>\n",
              "      <td>23159</td>\n",
              "      <td>1</td>\n",
              "      <td>1</td>\n",
              "      <td>11</td>\n",
              "      <td>3</td>\n",
              "      <td>3</td>\n",
              "      <td>80</td>\n",
              "      <td>0</td>\n",
              "      <td>8</td>\n",
              "      <td>3</td>\n",
              "      <td>3</td>\n",
              "      <td>8</td>\n",
              "      <td>7</td>\n",
              "      <td>3</td>\n",
              "      <td>0</td>\n",
              "    </tr>\n",
              "    <tr>\n",
              "      <th>4</th>\n",
              "      <td>27</td>\n",
              "      <td>0</td>\n",
              "      <td>2</td>\n",
              "      <td>591</td>\n",
              "      <td>0</td>\n",
              "      <td>2</td>\n",
              "      <td>1</td>\n",
              "      <td>2</td>\n",
              "      <td>1</td>\n",
              "      <td>7</td>\n",
              "      <td>1</td>\n",
              "      <td>1</td>\n",
              "      <td>40</td>\n",
              "      <td>3</td>\n",
              "      <td>1</td>\n",
              "      <td>8</td>\n",
              "      <td>2</td>\n",
              "      <td>0</td>\n",
              "      <td>3468</td>\n",
              "      <td>16632</td>\n",
              "      <td>9</td>\n",
              "      <td>0</td>\n",
              "      <td>12</td>\n",
              "      <td>3</td>\n",
              "      <td>4</td>\n",
              "      <td>80</td>\n",
              "      <td>1</td>\n",
              "      <td>6</td>\n",
              "      <td>3</td>\n",
              "      <td>3</td>\n",
              "      <td>2</td>\n",
              "      <td>2</td>\n",
              "      <td>2</td>\n",
              "      <td>2</td>\n",
              "    </tr>\n",
              "  </tbody>\n",
              "</table>\n",
              "</div>\n",
              "      <button class=\"colab-df-convert\" onclick=\"convertToInteractive('df-3c0e1967-7f49-424c-ad6f-d2c5795d7845')\"\n",
              "              title=\"Convert this dataframe to an interactive table.\"\n",
              "              style=\"display:none;\">\n",
              "        \n",
              "  <svg xmlns=\"http://www.w3.org/2000/svg\" height=\"24px\"viewBox=\"0 0 24 24\"\n",
              "       width=\"24px\">\n",
              "    <path d=\"M0 0h24v24H0V0z\" fill=\"none\"/>\n",
              "    <path d=\"M18.56 5.44l.94 2.06.94-2.06 2.06-.94-2.06-.94-.94-2.06-.94 2.06-2.06.94zm-11 1L8.5 8.5l.94-2.06 2.06-.94-2.06-.94L8.5 2.5l-.94 2.06-2.06.94zm10 10l.94 2.06.94-2.06 2.06-.94-2.06-.94-.94-2.06-.94 2.06-2.06.94z\"/><path d=\"M17.41 7.96l-1.37-1.37c-.4-.4-.92-.59-1.43-.59-.52 0-1.04.2-1.43.59L10.3 9.45l-7.72 7.72c-.78.78-.78 2.05 0 2.83L4 21.41c.39.39.9.59 1.41.59.51 0 1.02-.2 1.41-.59l7.78-7.78 2.81-2.81c.8-.78.8-2.07 0-2.86zM5.41 20L4 18.59l7.72-7.72 1.47 1.35L5.41 20z\"/>\n",
              "  </svg>\n",
              "      </button>\n",
              "      \n",
              "  <style>\n",
              "    .colab-df-container {\n",
              "      display:flex;\n",
              "      flex-wrap:wrap;\n",
              "      gap: 12px;\n",
              "    }\n",
              "\n",
              "    .colab-df-convert {\n",
              "      background-color: #E8F0FE;\n",
              "      border: none;\n",
              "      border-radius: 50%;\n",
              "      cursor: pointer;\n",
              "      display: none;\n",
              "      fill: #1967D2;\n",
              "      height: 32px;\n",
              "      padding: 0 0 0 0;\n",
              "      width: 32px;\n",
              "    }\n",
              "\n",
              "    .colab-df-convert:hover {\n",
              "      background-color: #E2EBFA;\n",
              "      box-shadow: 0px 1px 2px rgba(60, 64, 67, 0.3), 0px 1px 3px 1px rgba(60, 64, 67, 0.15);\n",
              "      fill: #174EA6;\n",
              "    }\n",
              "\n",
              "    [theme=dark] .colab-df-convert {\n",
              "      background-color: #3B4455;\n",
              "      fill: #D2E3FC;\n",
              "    }\n",
              "\n",
              "    [theme=dark] .colab-df-convert:hover {\n",
              "      background-color: #434B5C;\n",
              "      box-shadow: 0px 1px 3px 1px rgba(0, 0, 0, 0.15);\n",
              "      filter: drop-shadow(0px 1px 2px rgba(0, 0, 0, 0.3));\n",
              "      fill: #FFFFFF;\n",
              "    }\n",
              "  </style>\n",
              "\n",
              "      <script>\n",
              "        const buttonEl =\n",
              "          document.querySelector('#df-3c0e1967-7f49-424c-ad6f-d2c5795d7845 button.colab-df-convert');\n",
              "        buttonEl.style.display =\n",
              "          google.colab.kernel.accessAllowed ? 'block' : 'none';\n",
              "\n",
              "        async function convertToInteractive(key) {\n",
              "          const element = document.querySelector('#df-3c0e1967-7f49-424c-ad6f-d2c5795d7845');\n",
              "          const dataTable =\n",
              "            await google.colab.kernel.invokeFunction('convertToInteractive',\n",
              "                                                     [key], {});\n",
              "          if (!dataTable) return;\n",
              "\n",
              "          const docLinkHtml = 'Like what you see? Visit the ' +\n",
              "            '<a target=\"_blank\" href=https://colab.research.google.com/notebooks/data_table.ipynb>data table notebook</a>'\n",
              "            + ' to learn more about interactive tables.';\n",
              "          element.innerHTML = '';\n",
              "          dataTable['output_type'] = 'display_data';\n",
              "          await google.colab.output.renderOutput(dataTable, element);\n",
              "          const docLink = document.createElement('div');\n",
              "          docLink.innerHTML = docLinkHtml;\n",
              "          element.appendChild(docLink);\n",
              "        }\n",
              "      </script>\n",
              "    </div>\n",
              "  </div>\n",
              "  "
            ],
            "text/plain": [
              "   Edad  Desercion  ...  Tiempo_Ultimo_Ascenso  Tiempo_Jefe_Actual\n",
              "0    41          1  ...                      0                   5\n",
              "1    49          0  ...                      1                   7\n",
              "2    37          1  ...                      0                   0\n",
              "3    33          0  ...                      3                   0\n",
              "4    27          0  ...                      2                   2\n",
              "\n",
              "[5 rows x 34 columns]"
            ]
          },
          "metadata": {},
          "execution_count": 62
        }
      ]
    },
    {
      "cell_type": "markdown",
      "source": [
        "*Continuaremos haciendo un **KFold** para nuestro modelo, y tambien entrenaremos nuestro nuevo Random Forest buscando los mejores parametros a traves de un **Grid Search CV**. Con estos métodos generaremos un modelo mucho mas robusto que el anterior.*\n",
        "\n",
        "La validación cruzada **k-fold** significa que el conjunto de datos se divide en un número K. Divide el conjunto de datos en el punto en el que el conjunto de pruebas utiliza cada pliegue. \n",
        "\n",
        "\n",
        "Muy resumidamente, el modelo utiliza el primer pliegue en la primera iteración para probar el modelo; y utiliza los conjuntos de datos restantes para entrenar el modelo. \n",
        "\n",
        "\n",
        "Por otro lado, el **GridSearchCV** es una clase disponible en scikit-learn que permite evaluar y seleccionar de forma sistemática los parámetros de un modelo\n"
      ],
      "metadata": {
        "id": "8sCAtdEo0TLY"
      }
    },
    {
      "cell_type": "code",
      "source": [
        "#KFold\n",
        "from sklearn.model_selection import KFold\n",
        "KFold_df= KFold(n_splits=5, random_state=0, shuffle=True)\n",
        "train_2, test_2 = list(KFold_df.split(X_2))[0]\n",
        "X_train_2 = X_2[train_2]\n",
        "X_test_2 = X_2[test_2]\n",
        "Y_train_2 = Y_2[train_2]\n",
        "Y_test_2 = Y_2[test_2]"
      ],
      "metadata": {
        "id": "HaeCqkXkgv5u"
      },
      "execution_count": 63,
      "outputs": []
    },
    {
      "cell_type": "code",
      "source": [
        "#Entrenar arbol y encontrar el mejor alpha con GridSearchCV y KFold\n",
        "from sklearn.model_selection import GridSearchCV\n",
        "\n",
        "rf_df2 = RandomForestClassifier()\n",
        "par_df2 = list(np.arange(0.0, 1., step=0.05))\n",
        "cv_df2 = KFold(n_splits=5, random_state=0, shuffle=True)\n",
        "tunner_df2 = GridSearchCV(estimator=rf_df2, param_grid={'ccp_alpha':par_df2}, cv=cv_df2)\n",
        "_=tunner_df2.fit(X_train_2, Y_train_2)"
      ],
      "metadata": {
        "id": "YInuxYguiYoP"
      },
      "execution_count": 64,
      "outputs": []
    },
    {
      "cell_type": "code",
      "source": [
        "#grafico de la matriz\n",
        "plot_confusion_matrix(tunner_df2, X_test_2, Y_test_2)\n",
        "plt.show()"
      ],
      "metadata": {
        "colab": {
          "base_uri": "https://localhost:8080/",
          "height": 335
        },
        "id": "bY0GawIUNGAV",
        "outputId": "3c8c2a94-fc4a-4b53-c43c-254e66c58cce"
      },
      "execution_count": 65,
      "outputs": [
        {
          "output_type": "stream",
          "name": "stderr",
          "text": [
            "/usr/local/lib/python3.7/dist-packages/sklearn/utils/deprecation.py:87: FutureWarning: Function plot_confusion_matrix is deprecated; Function `plot_confusion_matrix` is deprecated in 1.0 and will be removed in 1.2. Use one of the class methods: ConfusionMatrixDisplay.from_predictions or ConfusionMatrixDisplay.from_estimator.\n",
            "  warnings.warn(msg, category=FutureWarning)\n"
          ]
        },
        {
          "output_type": "display_data",
          "data": {
            "image/png": "[encoded data removed]",
            "text/plain": [
              "<Figure size 432x288 with 2 Axes>"
            ]
          },
          "metadata": {
            "needs_background": "light"
          }
        }
      ]
    },
    {
      "cell_type": "markdown",
      "source": [
        "*En nuestra nueva matriz de confusión, obtenemos resultamos mas reales que en el anterior; ya que al no agregar registros, no agregamos cantidad de \"empleados\".*\n",
        "\n",
        "*Actualmente nuestro nuevo modelo predijo correctamente que 244 empleados desertarían, y predijo falsamente que 41 empleados desertarían cuando en realidad no lo hicieron.*"
      ],
      "metadata": {
        "id": "mIHlZtW2Ks8m"
      }
    },
    {
      "cell_type": "code",
      "source": [
        "#Metricas\n",
        "print('Train score KFold: ' + str(tunner_df2.score(X_train_2, Y_train_2)))\n",
        "print('Test score KFold: ' + str(tunner_df2.score(X_test_2, Y_test_2)))"
      ],
      "metadata": {
        "colab": {
          "base_uri": "https://localhost:8080/"
        },
        "id": "LzdEAQ3iieao",
        "outputId": "f42de63e-0383-4472-b1bd-5f61a661ca02"
      },
      "execution_count": 66,
      "outputs": [
        {
          "output_type": "stream",
          "name": "stdout",
          "text": [
            "Train score KFold: 1.0\n",
            "Test score KFold: 0.8571428571428571\n"
          ]
        }
      ]
    },
    {
      "cell_type": "code",
      "source": [
        "#Realiza predicciones en test\n",
        "prediccionRandomForest2 = tunner_df2.predict(X_test_2)"
      ],
      "metadata": {
        "id": "r1GjGkY3sPg0"
      },
      "execution_count": 67,
      "outputs": []
    },
    {
      "cell_type": "code",
      "source": [
        "#Nuevas Metricas\n",
        "prec_score_2 = precision_score(Y_test_2, prediccionRandomForest2)\n",
        "reca_score_2 = recall_score(Y_test_2, prediccionRandomForest2)\n",
        "f1_score_2 = f1_score(Y_test_2, prediccionRandomForest2)\n",
        "\n",
        "print(\"La metrica de precision es:\", prec_score_2)\n",
        "print(\"La metrica de Recall es:\", reca_score_2)\n",
        "print(\"La metrica de F1 Score es:\", f1_score_2)"
      ],
      "metadata": {
        "colab": {
          "base_uri": "https://localhost:8080/"
        },
        "id": "3VC3Bq5Pq-pV",
        "outputId": "76169b4c-9e53-4e4c-d7db-5e3d65ad3831"
      },
      "execution_count": 68,
      "outputs": [
        {
          "output_type": "stream",
          "name": "stdout",
          "text": [
            "La metrica de precision es: 0.8888888888888888\n",
            "La metrica de Recall es: 0.16326530612244897\n",
            "La metrica de F1 Score es: 0.27586206896551724\n"
          ]
        }
      ]
    },
    {
      "cell_type": "code",
      "source": [
        "#obtenemos el nuevo AUC y lo graficamos\n",
        "probs = tunner_df2.predict_proba(X_test_2)        \n",
        "preds = probs[:, 1]                               \n",
        " \n",
        "fpr, tpr, threshold = roc_curve(Y_test_2, preds)    \n",
        "roc_auc2 = auc(fpr, tpr)                           \n",
        "\n",
        "# AUC\n",
        "print(\"el AUC del modelo es:\", roc_auc2)\n",
        "\n",
        "# Gráfica de la Curva ROC\n",
        "plt.title('ROC')\n",
        "plt.plot(fpr, tpr, 'b', label = 'AUC = %0.2f' % roc_auc2)  #grafica el AUC\n",
        "plt.legend(loc = 'lower right')                           #posiciona la etiqueta\n",
        "plt.plot([0, 1], [0, 1],'r--')                            #grafica la linea de puntos\n",
        "plt.xlim([0, 1])                                          #deja el grafico mas cerca de los bordes\n",
        "plt.ylim([0, 1])                                          #deja el grafico mas cerca de los bordes\n",
        "plt.ylabel('True Positive Rate')\n",
        "plt.xlabel('False Positive Rate')\n",
        "plt.show()\n"
      ],
      "metadata": {
        "id": "2jF49GIWD6K4",
        "colab": {
          "base_uri": "https://localhost:8080/",
          "height": 314
        },
        "outputId": "a0faa1e1-9c2f-4cea-b5eb-0710cfcf0eb9"
      },
      "execution_count": 69,
      "outputs": [
        {
          "output_type": "stream",
          "name": "stdout",
          "text": [
            "el AUC del modelo es: 0.7540608079966682\n"
          ]
        },
        {
          "output_type": "display_data",
          "data": {
            "image/png": "[encoded data removed]",
            "text/plain": [
              "<Figure size 432x288 with 1 Axes>"
            ]
          },
          "metadata": {
            "needs_background": "light"
          }
        }
      ]
    },
    {
      "cell_type": "code",
      "source": [
        "#DataFrame comparativo\n",
        "metricas = pd.Series(['Precision_Score','Recall','F1_Score'])\n",
        "modelos = pd.Series(['Random_Forest_Orig','Random_Forest_Nuevo'])\n",
        "res_preci = pd.Series([prec_score_1,prec_score_2])\n",
        "res_reca = pd.Series([reca_score_1,reca_score_2])\n",
        "res_f1 = pd.Series([f1_score_1,f1_score_2])\n",
        "\n",
        "ResultadosMetricas = pd.DataFrame({'Modelos':modelos,'Precision':res_preci,'Recall':res_reca, 'F1_Score':res_f1})\n",
        "ResultadosMetricas"
      ],
      "metadata": {
        "id": "kXHV1iUn1yEx",
        "colab": {
          "base_uri": "https://localhost:8080/",
          "height": 112
        },
        "outputId": "ddc4f3e1-4f8d-47a3-fc2a-60cb2adacc00"
      },
      "execution_count": 70,
      "outputs": [
        {
          "output_type": "execute_result",
          "data": {
            "text/html": [
              "\n",
              "  <div id=\"df-20f3cf32-ab06-40ac-9e53-42d5cf7920b5\">\n",
              "    <div class=\"colab-df-container\">\n",
              "      <div>\n",
              "<style scoped>\n",
              "    .dataframe tbody tr th:only-of-type {\n",
              "        vertical-align: middle;\n",
              "    }\n",
              "\n",
              "    .dataframe tbody tr th {\n",
              "        vertical-align: top;\n",
              "    }\n",
              "\n",
              "    .dataframe thead th {\n",
              "        text-align: right;\n",
              "    }\n",
              "</style>\n",
              "<table border=\"1\" class=\"dataframe\">\n",
              "  <thead>\n",
              "    <tr style=\"text-align: right;\">\n",
              "      <th></th>\n",
              "      <th>Modelos</th>\n",
              "      <th>Precision</th>\n",
              "      <th>Recall</th>\n",
              "      <th>F1_Score</th>\n",
              "    </tr>\n",
              "  </thead>\n",
              "  <tbody>\n",
              "    <tr>\n",
              "      <th>0</th>\n",
              "      <td>Random_Forest_Orig</td>\n",
              "      <td>0.833333</td>\n",
              "      <td>0.081967</td>\n",
              "      <td>0.149254</td>\n",
              "    </tr>\n",
              "    <tr>\n",
              "      <th>1</th>\n",
              "      <td>Random_Forest_Nuevo</td>\n",
              "      <td>0.888889</td>\n",
              "      <td>0.163265</td>\n",
              "      <td>0.275862</td>\n",
              "    </tr>\n",
              "  </tbody>\n",
              "</table>\n",
              "</div>\n",
              "      <button class=\"colab-df-convert\" onclick=\"convertToInteractive('df-20f3cf32-ab06-40ac-9e53-42d5cf7920b5')\"\n",
              "              title=\"Convert this dataframe to an interactive table.\"\n",
              "              style=\"display:none;\">\n",
              "        \n",
              "  <svg xmlns=\"http://www.w3.org/2000/svg\" height=\"24px\"viewBox=\"0 0 24 24\"\n",
              "       width=\"24px\">\n",
              "    <path d=\"M0 0h24v24H0V0z\" fill=\"none\"/>\n",
              "    <path d=\"M18.56 5.44l.94 2.06.94-2.06 2.06-.94-2.06-.94-.94-2.06-.94 2.06-2.06.94zm-11 1L8.5 8.5l.94-2.06 2.06-.94-2.06-.94L8.5 2.5l-.94 2.06-2.06.94zm10 10l.94 2.06.94-2.06 2.06-.94-2.06-.94-.94-2.06-.94 2.06-2.06.94z\"/><path d=\"M17.41 7.96l-1.37-1.37c-.4-.4-.92-.59-1.43-.59-.52 0-1.04.2-1.43.59L10.3 9.45l-7.72 7.72c-.78.78-.78 2.05 0 2.83L4 21.41c.39.39.9.59 1.41.59.51 0 1.02-.2 1.41-.59l7.78-7.78 2.81-2.81c.8-.78.8-2.07 0-2.86zM5.41 20L4 18.59l7.72-7.72 1.47 1.35L5.41 20z\"/>\n",
              "  </svg>\n",
              "      </button>\n",
              "      \n",
              "  <style>\n",
              "    .colab-df-container {\n",
              "      display:flex;\n",
              "      flex-wrap:wrap;\n",
              "      gap: 12px;\n",
              "    }\n",
              "\n",
              "    .colab-df-convert {\n",
              "      background-color: #E8F0FE;\n",
              "      border: none;\n",
              "      border-radius: 50%;\n",
              "      cursor: pointer;\n",
              "      display: none;\n",
              "      fill: #1967D2;\n",
              "      height: 32px;\n",
              "      padding: 0 0 0 0;\n",
              "      width: 32px;\n",
              "    }\n",
              "\n",
              "    .colab-df-convert:hover {\n",
              "      background-color: #E2EBFA;\n",
              "      box-shadow: 0px 1px 2px rgba(60, 64, 67, 0.3), 0px 1px 3px 1px rgba(60, 64, 67, 0.15);\n",
              "      fill: #174EA6;\n",
              "    }\n",
              "\n",
              "    [theme=dark] .colab-df-convert {\n",
              "      background-color: #3B4455;\n",
              "      fill: #D2E3FC;\n",
              "    }\n",
              "\n",
              "    [theme=dark] .colab-df-convert:hover {\n",
              "      background-color: #434B5C;\n",
              "      box-shadow: 0px 1px 3px 1px rgba(0, 0, 0, 0.15);\n",
              "      filter: drop-shadow(0px 1px 2px rgba(0, 0, 0, 0.3));\n",
              "      fill: #FFFFFF;\n",
              "    }\n",
              "  </style>\n",
              "\n",
              "      <script>\n",
              "        const buttonEl =\n",
              "          document.querySelector('#df-20f3cf32-ab06-40ac-9e53-42d5cf7920b5 button.colab-df-convert');\n",
              "        buttonEl.style.display =\n",
              "          google.colab.kernel.accessAllowed ? 'block' : 'none';\n",
              "\n",
              "        async function convertToInteractive(key) {\n",
              "          const element = document.querySelector('#df-20f3cf32-ab06-40ac-9e53-42d5cf7920b5');\n",
              "          const dataTable =\n",
              "            await google.colab.kernel.invokeFunction('convertToInteractive',\n",
              "                                                     [key], {});\n",
              "          if (!dataTable) return;\n",
              "\n",
              "          const docLinkHtml = 'Like what you see? Visit the ' +\n",
              "            '<a target=\"_blank\" href=https://colab.research.google.com/notebooks/data_table.ipynb>data table notebook</a>'\n",
              "            + ' to learn more about interactive tables.';\n",
              "          element.innerHTML = '';\n",
              "          dataTable['output_type'] = 'display_data';\n",
              "          await google.colab.output.renderOutput(dataTable, element);\n",
              "          const docLink = document.createElement('div');\n",
              "          docLink.innerHTML = docLinkHtml;\n",
              "          element.appendChild(docLink);\n",
              "        }\n",
              "      </script>\n",
              "    </div>\n",
              "  </div>\n",
              "  "
            ],
            "text/plain": [
              "               Modelos  Precision    Recall  F1_Score\n",
              "0   Random_Forest_Orig   0.833333  0.081967  0.149254\n",
              "1  Random_Forest_Nuevo   0.888889  0.163265  0.275862"
            ]
          },
          "metadata": {},
          "execution_count": 70
        }
      ]
    },
    {
      "cell_type": "code",
      "source": [
        "#Crea un grafico de barras con los porcentajes de acierto de cada modelo.\n",
        "fig, ax = plt.subplots(figsize=(10, 8))\n",
        "sns.barplot(data=ResultadosMetricas, x='Modelos',y='Precision')\n",
        "plt.ylim([0.5,0.9])\n",
        "ax.set(xlabel=\"Modelos\",ylabel=\"Precision\",title='Metrica Precision')"
      ],
      "metadata": {
        "id": "laCFJ98A2-Yo",
        "colab": {
          "base_uri": "https://localhost:8080/",
          "height": 570
        },
        "outputId": "7070e225-28a9-4144-8294-c52f18e96db9"
      },
      "execution_count": 76,
      "outputs": [
        {
          "output_type": "execute_result",
          "data": {
            "text/plain": [
              "[Text(0, 0.5, 'Precision'),\n",
              " Text(0.5, 0, 'Modelos'),\n",
              " Text(0.5, 1.0, 'Metrica Precision')]"
            ]
          },
          "metadata": {},
          "execution_count": 76
        },
        {
          "output_type": "display_data",
          "data": {
            "image/png": "[encoded data removed]",
            "text/plain": [
              "<Figure size 720x576 with 1 Axes>"
            ]
          },
          "metadata": {
            "needs_background": "light"
          }
        }
      ]
    },
    {
      "cell_type": "code",
      "source": [
        "#Crea un grafico de barras con los porcentajes de acierto de cada modelo.\n",
        "fig, ax = plt.subplots(figsize=(10, 8))\n",
        "sns.barplot(data=ResultadosMetricas, x='Modelos',y='Recall')\n",
        "ax.set(xlabel=\"Modelos\",ylabel=\"Recall\",title='Metrica Recall')"
      ],
      "metadata": {
        "id": "6qNg08w-CsfT",
        "colab": {
          "base_uri": "https://localhost:8080/",
          "height": 570
        },
        "outputId": "a08a1a7e-6512-4ff6-8dd8-7eafa2b286e7"
      },
      "execution_count": 72,
      "outputs": [
        {
          "output_type": "execute_result",
          "data": {
            "text/plain": [
              "[Text(0, 0.5, 'Recall'),\n",
              " Text(0.5, 0, 'Modelos'),\n",
              " Text(0.5, 1.0, 'Metrica Recall')]"
            ]
          },
          "metadata": {},
          "execution_count": 72
        },
        {
          "output_type": "display_data",
          "data": {
            "image/png": "[encoded data removed]",
            "text/plain": [
              "<Figure size 720x576 with 1 Axes>"
            ]
          },
          "metadata": {
            "needs_background": "light"
          }
        }
      ]
    },
    {
      "cell_type": "code",
      "source": [
        "#Crea un grafico de barras con los porcentajes de acierto de cada modelo.\n",
        "fig, ax = plt.subplots(figsize=(10, 8))\n",
        "sns.barplot(data=ResultadosMetricas, x='Modelos',y='F1_Score')\n",
        "ax.set(xlabel=\"Modelos\",ylabel=\"F1_Score\",title='Metrica F1_Score')"
      ],
      "metadata": {
        "id": "cbcVC7ScB1M1",
        "colab": {
          "base_uri": "https://localhost:8080/",
          "height": 570
        },
        "outputId": "8df42c76-0358-459a-e35a-2354c208a57d"
      },
      "execution_count": 73,
      "outputs": [
        {
          "output_type": "execute_result",
          "data": {
            "text/plain": [
              "[Text(0, 0.5, 'F1_Score'),\n",
              " Text(0.5, 0, 'Modelos'),\n",
              " Text(0.5, 1.0, 'Metrica F1_Score')]"
            ]
          },
          "metadata": {},
          "execution_count": 73
        },
        {
          "output_type": "display_data",
          "data": {
            "image/png": "[encoded data removed]",
            "text/plain": [
              "<Figure size 720x576 with 1 Axes>"
            ]
          },
          "metadata": {
            "needs_background": "light"
          }
        }
      ]
    },
    {
      "cell_type": "markdown",
      "source": [
        "### **Conclusion:**\n",
        "\n",
        "Luego de generar nuestro modelo de manera mas optima, creamos un algoritmo mas robusto y con mejores resultados.\n",
        "\n",
        "El mismo obtuvo un mejor acurracy,casi el doble de porcentaje de recall; es decir,  la cantidad que el modelo de machine learning es capaz de identificar.\n",
        "\n",
        "Esto se ve representado en el F1 Score donde tambien la métrica aumentó  casi al doble."
      ],
      "metadata": {
        "id": "32QsCUl2AmGA"
      }
    }
  ]
}